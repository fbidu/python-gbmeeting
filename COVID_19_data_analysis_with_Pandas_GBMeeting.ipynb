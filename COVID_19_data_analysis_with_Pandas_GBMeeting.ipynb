{
  "nbformat": 4,
  "nbformat_minor": 0,
  "metadata": {
    "colab": {
      "name": "COVID-19 data analysis with Pandas - GBMeeting.ipynb",
      "provenance": [],
      "collapsed_sections": [
        "qTdlYkUii2Y7"
      ]
    },
    "kernelspec": {
      "name": "python3",
      "display_name": "Python 3"
    }
  },
  "cells": [
    {
      "cell_type": "markdown",
      "metadata": {
        "id": "Srf2KELjzUsi"
      },
      "source": [
        "# Quinta-feira, 04-02-2021\n",
        "\n",
        " * Atividade de hoje: **Manipulação de Tabelas com Pandas**\n",
        " * Responsável: **Doutorando Renato A. Corrêa dos Santos (GBM-UNICAMP)** (`renatoacsantos@gmail.com`)\n",
        "\n",
        "Dados da atividade prática foram baixados do [Kaggle](https://www.kaggle.com/unanimad/corona-virus-brazil), com usuário `renatoacsantos@gmail.com` . Estamos usando também dados disponíveis na [Wikipedia](https://en.wikipedia.org/wiki/COVID-19_pandemic_in_Brazil/Statistics#Statistics), que correspondem a dados vindos do Ministério da Saúde.\n",
        "\n",
        "Há diversos tutoriais na internet. Por exemplo:\n",
        "A `Julia Evans` tem um repositório com tutoriais de `pandas` no Github:\n",
        " * [Pandas Cookbook](https://github.com/jvns/pandas-cookbook)\n",
        "\n",
        "No evento anual [\"Workshop de Python para Dados Biológicos\"](https://btwbd.gitlab.io/sitepythonbiodata2020/) também produzimos material interessante para as aulas. Em 2020, o [Prof. Gabriel Alves Margarido](http://www.genetica.esalq.usp.br/equipe/gabriel-rodrigues-alves-margarido) produziu um tutorial bem bacana introdutório de pandas.\n",
        "\n",
        "Nesta atividade eu trago um pouco de `**pandas**`, usando como base alguns destes materiais.\n",
        "\n"
      ]
    },
    {
      "cell_type": "markdown",
      "metadata": {
        "id": "ATgFP0CrcPq-"
      },
      "source": [
        "Usando os dados que estão disponíveis no Kaggle:"
      ]
    },
    {
      "cell_type": "code",
      "metadata": {
        "id": "uMgjcfjwzR1v",
        "colab": {
          "base_uri": "https://localhost:8080/"
        },
        "outputId": "fe2d5451-ec72-4aaf-8ad7-20365de5aef6"
      },
      "source": [
        "from google.colab import drive\n",
        "drive.mount('/content/drive')"
      ],
      "execution_count": 19,
      "outputs": [
        {
          "output_type": "stream",
          "text": [
            "Mounted at /content/drive\n"
          ],
          "name": "stdout"
        }
      ]
    },
    {
      "cell_type": "code",
      "metadata": {
        "id": "rn2GQSkK2Jla"
      },
      "source": [
        "with open('/content/drive/My Drive/UNICAMP/GBMeeting/Workshop de Python para GBMeeters/brazil_cities_coordinates.csv', 'w') as f:\n",
        "  f.write('Hello Goodle Drive!')\n",
        "  !cat /content/drive/My\\ Drive/UNICAMP/GBMeeting/Workshop\\ de\\ Python\\ para\\ GBMeeters/brazil_cities_coordinates.csv"
      ],
      "execution_count": 20,
      "outputs": []
    },
    {
      "cell_type": "markdown",
      "metadata": {
        "id": "zK8Me3xrTeIM"
      },
      "source": [
        "Como vocês já viram, nós importamos bibliotecas do python usando `import`.\n",
        "Costumamos abreviar o nome da biblioteca como `pd`, a fim de facilitar a busca e chamada de suas funções e métodos. Para isso usamos `as pd`:"
      ]
    },
    {
      "cell_type": "code",
      "metadata": {
        "id": "hY0vJ-3r3k8V"
      },
      "source": [
        "import pandas as pd"
      ],
      "execution_count": 8,
      "outputs": []
    },
    {
      "cell_type": "markdown",
      "metadata": {
        "id": "I2Mtb2MrDD5W"
      },
      "source": [
        "## Estrutura de dados: Series"
      ]
    },
    {
      "cell_type": "markdown",
      "metadata": {
        "id": "zKenhEEgSqJH"
      },
      "source": [
        "Vamos começar olhando para a estrutura de dados mais simples, `Series`.\n",
        "Estas são estruturas como listas, que armazenam qualquer tipo de dados (`int`, `float`, `string`, etc.). Além disso, são unidimensionais e indexadas.\n",
        "\n",
        "Começaremos olhando para dicionários, que vocês já viram anteriormente:\n",
        "\n"
      ]
    },
    {
      "cell_type": "code",
      "metadata": {
        "id": "aZ55pktPSqS9"
      },
      "source": [
        "casos = { 0 : 28629, 1 : 26106, 2 : 22282, 3 : 18947, 4 : 10100, 5 : 8501, 6 : 11843, 7 : 23976}"
      ],
      "execution_count": 30,
      "outputs": []
    },
    {
      "cell_type": "markdown",
      "metadata": {
        "id": "neUrxJCFiL-j"
      },
      "source": [
        "Ou então listas, que vocês também já viram:\n"
      ]
    },
    {
      "cell_type": "code",
      "metadata": {
        "id": "bARktVkniMIh"
      },
      "source": [
        "casos = [28629,26106,22282,18947,10100,8501,11843,23976]"
      ],
      "execution_count": 31,
      "outputs": []
    },
    {
      "cell_type": "markdown",
      "metadata": {
        "id": "clv29A8JTDZD"
      },
      "source": [
        "As `Series` de pandas são criadas usando o método `Series` da biblioteca `pandas`:"
      ]
    },
    {
      "cell_type": "code",
      "metadata": {
        "id": "izxPquBgSxEG"
      },
      "source": [
        "casosSr = pd.Series(casos)"
      ],
      "execution_count": 32,
      "outputs": []
    },
    {
      "cell_type": "code",
      "metadata": {
        "id": "lKCaOvT2S_RK",
        "colab": {
          "base_uri": "https://localhost:8080/"
        },
        "outputId": "fc4809be-03c1-4e7e-a07f-808e6dd685fe"
      },
      "source": [
        "casosSr"
      ],
      "execution_count": 33,
      "outputs": [
        {
          "output_type": "execute_result",
          "data": {
            "text/plain": [
              "0    28629\n",
              "1    26106\n",
              "2    22282\n",
              "3    18947\n",
              "4    10100\n",
              "5     8501\n",
              "6    11843\n",
              "7    23976\n",
              "dtype: int64"
            ]
          },
          "metadata": {
            "tags": []
          },
          "execution_count": 33
        }
      ]
    },
    {
      "cell_type": "markdown",
      "metadata": {
        "id": "Zog4JLLXb_Yk"
      },
      "source": [
        "Os índices podem ser usados para acessar um ou mais conjuntos de dados desta `Series`"
      ]
    },
    {
      "cell_type": "code",
      "metadata": {
        "colab": {
          "base_uri": "https://localhost:8080/"
        },
        "id": "xP1HKQgab_km",
        "outputId": "cce89aa7-3c19-4bc9-970d-44ad372dde3b"
      },
      "source": [
        "casosSr[0]"
      ],
      "execution_count": 34,
      "outputs": [
        {
          "output_type": "execute_result",
          "data": {
            "text/plain": [
              "28629"
            ]
          },
          "metadata": {
            "tags": []
          },
          "execution_count": 34
        }
      ]
    },
    {
      "cell_type": "code",
      "metadata": {
        "colab": {
          "base_uri": "https://localhost:8080/"
        },
        "id": "0WF9dsj-cO4g",
        "outputId": "12996d7b-16ae-4115-8237-9a4420b60979"
      },
      "source": [
        "casosSr[[0,7]]"
      ],
      "execution_count": 35,
      "outputs": [
        {
          "output_type": "execute_result",
          "data": {
            "text/plain": [
              "0    28629\n",
              "7    23976\n",
              "dtype: int64"
            ]
          },
          "metadata": {
            "tags": []
          },
          "execution_count": 35
        }
      ]
    },
    {
      "cell_type": "markdown",
      "metadata": {
        "id": "Tm-lPPQ9WI2U"
      },
      "source": [
        "Diferentemente das listas, `Series` podem ser indexadas com outros caracteres, não apenas números (isso porque este é um array de qualquer tipo de dado de `NumPy`).\n",
        "\n",
        "Além disso, a biblioteca `pandas` permite a criação de índices não únicos.\n",
        "\n"
      ]
    },
    {
      "cell_type": "code",
      "metadata": {
        "id": "bwD_ck2qWHQG"
      },
      "source": [
        "casosSr = pd.Series(casos, index=['a', 'b', 'c','d','e','f','g','h'])"
      ],
      "execution_count": 36,
      "outputs": []
    },
    {
      "cell_type": "code",
      "metadata": {
        "id": "iL6gCSt3YPZI",
        "colab": {
          "base_uri": "https://localhost:8080/"
        },
        "outputId": "9be4d22d-aba1-403a-d3b5-3f4be38bd732"
      },
      "source": [
        "casosSr"
      ],
      "execution_count": 37,
      "outputs": [
        {
          "output_type": "execute_result",
          "data": {
            "text/plain": [
              "a    28629\n",
              "b    26106\n",
              "c    22282\n",
              "d    18947\n",
              "e    10100\n",
              "f     8501\n",
              "g    11843\n",
              "h    23976\n",
              "dtype: int64"
            ]
          },
          "metadata": {
            "tags": []
          },
          "execution_count": 37
        }
      ]
    },
    {
      "cell_type": "code",
      "metadata": {
        "id": "bWW-ZyqYYTLF"
      },
      "source": [
        "casosSr = pd.Series(casos, index=['a', 'b', 'c','d','e','f','g','g'])"
      ],
      "execution_count": 38,
      "outputs": []
    },
    {
      "cell_type": "markdown",
      "metadata": {
        "id": "5CU57BZ8cqEU"
      },
      "source": [
        "Obviamente, é possível acessar os valores ou conjuntos a partir dos índices únicos."
      ]
    },
    {
      "cell_type": "code",
      "metadata": {
        "colab": {
          "base_uri": "https://localhost:8080/"
        },
        "id": "e5tJ0QOecqSP",
        "outputId": "6f8fc3bd-b7bb-478b-a38a-d231d20ab9f8"
      },
      "source": [
        "casosSr['a']"
      ],
      "execution_count": 39,
      "outputs": [
        {
          "output_type": "execute_result",
          "data": {
            "text/plain": [
              "28629"
            ]
          },
          "metadata": {
            "tags": []
          },
          "execution_count": 39
        }
      ]
    },
    {
      "cell_type": "markdown",
      "metadata": {
        "id": "m9AxObjRc2NY"
      },
      "source": [
        "Mas é também possível acessar os índices dos índices duplicados:"
      ]
    },
    {
      "cell_type": "code",
      "metadata": {
        "colab": {
          "base_uri": "https://localhost:8080/"
        },
        "id": "w3XZEugcc1SL",
        "outputId": "82bacdad-bcb5-4abe-a267-82633ffa389e"
      },
      "source": [
        "casosSr[['a','g']] # índice 'g' está duplicado"
      ],
      "execution_count": 40,
      "outputs": [
        {
          "output_type": "execute_result",
          "data": {
            "text/plain": [
              "a    28629\n",
              "g    11843\n",
              "g    23976\n",
              "dtype: int64"
            ]
          },
          "metadata": {
            "tags": []
          },
          "execution_count": 40
        }
      ]
    },
    {
      "cell_type": "code",
      "metadata": {
        "id": "qsxnaz9bYsSP",
        "colab": {
          "base_uri": "https://localhost:8080/"
        },
        "outputId": "579ef41f-a06f-47ff-b5dd-5fb6b0384aae"
      },
      "source": [
        "list(range(7))"
      ],
      "execution_count": 41,
      "outputs": [
        {
          "output_type": "execute_result",
          "data": {
            "text/plain": [
              "[0, 1, 2, 3, 4, 5, 6]"
            ]
          },
          "metadata": {
            "tags": []
          },
          "execution_count": 41
        }
      ]
    },
    {
      "cell_type": "code",
      "metadata": {
        "colab": {
          "base_uri": "https://localhost:8080/"
        },
        "id": "GGw1Edj29BmL",
        "outputId": "8f17ec54-2d50-43ae-ccc3-d4efa72c8033"
      },
      "source": [
        "list(range(1,5,2))"
      ],
      "execution_count": 61,
      "outputs": [
        {
          "output_type": "execute_result",
          "data": {
            "text/plain": [
              "[1, 3]"
            ]
          },
          "metadata": {
            "tags": []
          },
          "execution_count": 61
        }
      ]
    },
    {
      "cell_type": "code",
      "metadata": {
        "id": "ScpFwpeVZpAc",
        "colab": {
          "base_uri": "https://localhost:8080/"
        },
        "outputId": "324619f7-9097-4fb6-aac5-30ea852a1f13"
      },
      "source": [
        "list(range(7))+[6]"
      ],
      "execution_count": 42,
      "outputs": [
        {
          "output_type": "execute_result",
          "data": {
            "text/plain": [
              "[0, 1, 2, 3, 4, 5, 6, 6]"
            ]
          },
          "metadata": {
            "tags": []
          },
          "execution_count": 42
        }
      ]
    },
    {
      "cell_type": "code",
      "metadata": {
        "id": "W60IJwJcZvtQ"
      },
      "source": [
        "casosSr = pd.Series(casos, index=list(range(7))+[6])"
      ],
      "execution_count": 43,
      "outputs": []
    },
    {
      "cell_type": "code",
      "metadata": {
        "id": "1ImzxTz9Z2Hf",
        "colab": {
          "base_uri": "https://localhost:8080/"
        },
        "outputId": "026dc1e8-46b9-43a1-d924-8b2cfbbcc84c"
      },
      "source": [
        "casosSr"
      ],
      "execution_count": 44,
      "outputs": [
        {
          "output_type": "execute_result",
          "data": {
            "text/plain": [
              "0    28629\n",
              "1    26106\n",
              "2    22282\n",
              "3    18947\n",
              "4    10100\n",
              "5     8501\n",
              "6    11843\n",
              "6    23976\n",
              "dtype: int64"
            ]
          },
          "metadata": {
            "tags": []
          },
          "execution_count": 44
        }
      ]
    },
    {
      "cell_type": "markdown",
      "metadata": {
        "id": "HVj1agH8dToG"
      },
      "source": [
        "As operações realizadas com Series preservarão os índices originais.\n",
        "Por exemplo, imaginem que a gente queira filtrar baseado em algum limiar de valores. Vamos pegar os números de casos acima de 20k.\n",
        "\n",
        "Reparem que o fato de um dos valores associados a um índice não satisfaz o filtro ('g'):"
      ]
    },
    {
      "cell_type": "code",
      "metadata": {
        "colab": {
          "base_uri": "https://localhost:8080/"
        },
        "id": "qPBVA9GsdTw4",
        "outputId": "4d35aab5-07b1-4d71-e777-fe9e0d4535ff"
      },
      "source": [
        "casosSr[casosSr > 20000]"
      ],
      "execution_count": 45,
      "outputs": [
        {
          "output_type": "execute_result",
          "data": {
            "text/plain": [
              "0    28629\n",
              "1    26106\n",
              "2    22282\n",
              "6    23976\n",
              "dtype: int64"
            ]
          },
          "metadata": {
            "tags": []
          },
          "execution_count": 45
        }
      ]
    },
    {
      "cell_type": "code",
      "metadata": {
        "colab": {
          "base_uri": "https://localhost:8080/"
        },
        "id": "8HHj0OLkeMUu",
        "outputId": "b3c73c85-c15f-4bb2-9f56-0801f22d419e"
      },
      "source": [
        "casosSr[casosSr < 20000]"
      ],
      "execution_count": 46,
      "outputs": [
        {
          "output_type": "execute_result",
          "data": {
            "text/plain": [
              "3    18947\n",
              "4    10100\n",
              "5     8501\n",
              "6    11843\n",
              "dtype: int64"
            ]
          },
          "metadata": {
            "tags": []
          },
          "execution_count": 46
        }
      ]
    },
    {
      "cell_type": "code",
      "metadata": {
        "colab": {
          "base_uri": "https://localhost:8080/",
          "height": 329
        },
        "id": "p5yqhkhZd4a8",
        "outputId": "d36d6fca-2143-401b-e0ae-7f9ef534433f"
      },
      "source": [
        "# Este caso vai dar erro, pois há índices duplicados (linhas com o mesmo nome)\n",
        "casosSr[casosSr < 20000][casosSr > 15000]"
      ],
      "execution_count": 47,
      "outputs": [
        {
          "output_type": "error",
          "ename": "ValueError",
          "evalue": "ignored",
          "traceback": [
            "\u001b[0;31m---------------------------------------------------------------------------\u001b[0m",
            "\u001b[0;31mValueError\u001b[0m                                Traceback (most recent call last)",
            "\u001b[0;32m<ipython-input-47-fb9ad0b72c8e>\u001b[0m in \u001b[0;36m<module>\u001b[0;34m()\u001b[0m\n\u001b[1;32m      1\u001b[0m \u001b[0;31m# Este caso vai dar erro, pois há índices duplicados (linhas com o mesmo nome)\u001b[0m\u001b[0;34m\u001b[0m\u001b[0;34m\u001b[0m\u001b[0;34m\u001b[0m\u001b[0m\n\u001b[0;32m----> 2\u001b[0;31m \u001b[0mcasosSr\u001b[0m\u001b[0;34m[\u001b[0m\u001b[0mcasosSr\u001b[0m \u001b[0;34m<\u001b[0m \u001b[0;36m20000\u001b[0m\u001b[0;34m]\u001b[0m\u001b[0;34m[\u001b[0m\u001b[0mcasosSr\u001b[0m \u001b[0;34m>\u001b[0m \u001b[0;36m15000\u001b[0m\u001b[0;34m]\u001b[0m\u001b[0;34m\u001b[0m\u001b[0;34m\u001b[0m\u001b[0m\n\u001b[0m",
            "\u001b[0;32m/usr/local/lib/python3.6/dist-packages/pandas/core/series.py\u001b[0m in \u001b[0;36m__getitem__\u001b[0;34m(self, key)\u001b[0m\n\u001b[1;32m    900\u001b[0m \u001b[0;34m\u001b[0m\u001b[0m\n\u001b[1;32m    901\u001b[0m         \u001b[0;32mif\u001b[0m \u001b[0mcom\u001b[0m\u001b[0;34m.\u001b[0m\u001b[0mis_bool_indexer\u001b[0m\u001b[0;34m(\u001b[0m\u001b[0mkey\u001b[0m\u001b[0;34m)\u001b[0m\u001b[0;34m:\u001b[0m\u001b[0;34m\u001b[0m\u001b[0;34m\u001b[0m\u001b[0m\n\u001b[0;32m--> 902\u001b[0;31m             \u001b[0mkey\u001b[0m \u001b[0;34m=\u001b[0m \u001b[0mcheck_bool_indexer\u001b[0m\u001b[0;34m(\u001b[0m\u001b[0mself\u001b[0m\u001b[0;34m.\u001b[0m\u001b[0mindex\u001b[0m\u001b[0;34m,\u001b[0m \u001b[0mkey\u001b[0m\u001b[0;34m)\u001b[0m\u001b[0;34m\u001b[0m\u001b[0;34m\u001b[0m\u001b[0m\n\u001b[0m\u001b[1;32m    903\u001b[0m             \u001b[0mkey\u001b[0m \u001b[0;34m=\u001b[0m \u001b[0mnp\u001b[0m\u001b[0;34m.\u001b[0m\u001b[0masarray\u001b[0m\u001b[0;34m(\u001b[0m\u001b[0mkey\u001b[0m\u001b[0;34m,\u001b[0m \u001b[0mdtype\u001b[0m\u001b[0;34m=\u001b[0m\u001b[0mbool\u001b[0m\u001b[0;34m)\u001b[0m\u001b[0;34m\u001b[0m\u001b[0;34m\u001b[0m\u001b[0m\n\u001b[1;32m    904\u001b[0m             \u001b[0;32mreturn\u001b[0m \u001b[0mself\u001b[0m\u001b[0;34m.\u001b[0m\u001b[0m_get_values\u001b[0m\u001b[0;34m(\u001b[0m\u001b[0mkey\u001b[0m\u001b[0;34m)\u001b[0m\u001b[0;34m\u001b[0m\u001b[0;34m\u001b[0m\u001b[0m\n",
            "\u001b[0;32m/usr/local/lib/python3.6/dist-packages/pandas/core/indexing.py\u001b[0m in \u001b[0;36mcheck_bool_indexer\u001b[0;34m(index, key)\u001b[0m\n\u001b[1;32m   2177\u001b[0m     \u001b[0mresult\u001b[0m \u001b[0;34m=\u001b[0m \u001b[0mkey\u001b[0m\u001b[0;34m\u001b[0m\u001b[0;34m\u001b[0m\u001b[0m\n\u001b[1;32m   2178\u001b[0m     \u001b[0;32mif\u001b[0m \u001b[0misinstance\u001b[0m\u001b[0;34m(\u001b[0m\u001b[0mkey\u001b[0m\u001b[0;34m,\u001b[0m \u001b[0mABCSeries\u001b[0m\u001b[0;34m)\u001b[0m \u001b[0;32mand\u001b[0m \u001b[0;32mnot\u001b[0m \u001b[0mkey\u001b[0m\u001b[0;34m.\u001b[0m\u001b[0mindex\u001b[0m\u001b[0;34m.\u001b[0m\u001b[0mequals\u001b[0m\u001b[0;34m(\u001b[0m\u001b[0mindex\u001b[0m\u001b[0;34m)\u001b[0m\u001b[0;34m:\u001b[0m\u001b[0;34m\u001b[0m\u001b[0;34m\u001b[0m\u001b[0m\n\u001b[0;32m-> 2179\u001b[0;31m         \u001b[0mresult\u001b[0m \u001b[0;34m=\u001b[0m \u001b[0mresult\u001b[0m\u001b[0;34m.\u001b[0m\u001b[0mreindex\u001b[0m\u001b[0;34m(\u001b[0m\u001b[0mindex\u001b[0m\u001b[0;34m)\u001b[0m\u001b[0;34m\u001b[0m\u001b[0;34m\u001b[0m\u001b[0m\n\u001b[0m\u001b[1;32m   2180\u001b[0m         \u001b[0mmask\u001b[0m \u001b[0;34m=\u001b[0m \u001b[0misna\u001b[0m\u001b[0;34m(\u001b[0m\u001b[0mresult\u001b[0m\u001b[0;34m.\u001b[0m\u001b[0m_values\u001b[0m\u001b[0;34m)\u001b[0m\u001b[0;34m\u001b[0m\u001b[0;34m\u001b[0m\u001b[0m\n\u001b[1;32m   2181\u001b[0m         \u001b[0;32mif\u001b[0m \u001b[0mmask\u001b[0m\u001b[0;34m.\u001b[0m\u001b[0many\u001b[0m\u001b[0;34m(\u001b[0m\u001b[0;34m)\u001b[0m\u001b[0;34m:\u001b[0m\u001b[0;34m\u001b[0m\u001b[0;34m\u001b[0m\u001b[0m\n",
            "\u001b[0;32m/usr/local/lib/python3.6/dist-packages/pandas/core/series.py\u001b[0m in \u001b[0;36mreindex\u001b[0;34m(self, index, **kwargs)\u001b[0m\n\u001b[1;32m   4410\u001b[0m     )\n\u001b[1;32m   4411\u001b[0m     \u001b[0;32mdef\u001b[0m \u001b[0mreindex\u001b[0m\u001b[0;34m(\u001b[0m\u001b[0mself\u001b[0m\u001b[0;34m,\u001b[0m \u001b[0mindex\u001b[0m\u001b[0;34m=\u001b[0m\u001b[0;32mNone\u001b[0m\u001b[0;34m,\u001b[0m \u001b[0;34m**\u001b[0m\u001b[0mkwargs\u001b[0m\u001b[0;34m)\u001b[0m\u001b[0;34m:\u001b[0m\u001b[0;34m\u001b[0m\u001b[0;34m\u001b[0m\u001b[0m\n\u001b[0;32m-> 4412\u001b[0;31m         \u001b[0;32mreturn\u001b[0m \u001b[0msuper\u001b[0m\u001b[0;34m(\u001b[0m\u001b[0;34m)\u001b[0m\u001b[0;34m.\u001b[0m\u001b[0mreindex\u001b[0m\u001b[0;34m(\u001b[0m\u001b[0mindex\u001b[0m\u001b[0;34m=\u001b[0m\u001b[0mindex\u001b[0m\u001b[0;34m,\u001b[0m \u001b[0;34m**\u001b[0m\u001b[0mkwargs\u001b[0m\u001b[0;34m)\u001b[0m\u001b[0;34m\u001b[0m\u001b[0;34m\u001b[0m\u001b[0m\n\u001b[0m\u001b[1;32m   4413\u001b[0m \u001b[0;34m\u001b[0m\u001b[0m\n\u001b[1;32m   4414\u001b[0m     def drop(\n",
            "\u001b[0;32m/usr/local/lib/python3.6/dist-packages/pandas/core/generic.py\u001b[0m in \u001b[0;36mreindex\u001b[0;34m(self, *args, **kwargs)\u001b[0m\n\u001b[1;32m   4462\u001b[0m         \u001b[0;31m# perform the reindex on the axes\u001b[0m\u001b[0;34m\u001b[0m\u001b[0;34m\u001b[0m\u001b[0;34m\u001b[0m\u001b[0m\n\u001b[1;32m   4463\u001b[0m         return self._reindex_axes(\n\u001b[0;32m-> 4464\u001b[0;31m             \u001b[0maxes\u001b[0m\u001b[0;34m,\u001b[0m \u001b[0mlevel\u001b[0m\u001b[0;34m,\u001b[0m \u001b[0mlimit\u001b[0m\u001b[0;34m,\u001b[0m \u001b[0mtolerance\u001b[0m\u001b[0;34m,\u001b[0m \u001b[0mmethod\u001b[0m\u001b[0;34m,\u001b[0m \u001b[0mfill_value\u001b[0m\u001b[0;34m,\u001b[0m \u001b[0mcopy\u001b[0m\u001b[0;34m\u001b[0m\u001b[0;34m\u001b[0m\u001b[0m\n\u001b[0m\u001b[1;32m   4465\u001b[0m         ).__finalize__(self, method=\"reindex\")\n\u001b[1;32m   4466\u001b[0m \u001b[0;34m\u001b[0m\u001b[0m\n",
            "\u001b[0;32m/usr/local/lib/python3.6/dist-packages/pandas/core/generic.py\u001b[0m in \u001b[0;36m_reindex_axes\u001b[0;34m(self, axes, level, limit, tolerance, method, fill_value, copy)\u001b[0m\n\u001b[1;32m   4485\u001b[0m                 \u001b[0mfill_value\u001b[0m\u001b[0;34m=\u001b[0m\u001b[0mfill_value\u001b[0m\u001b[0;34m,\u001b[0m\u001b[0;34m\u001b[0m\u001b[0;34m\u001b[0m\u001b[0m\n\u001b[1;32m   4486\u001b[0m                 \u001b[0mcopy\u001b[0m\u001b[0;34m=\u001b[0m\u001b[0mcopy\u001b[0m\u001b[0;34m,\u001b[0m\u001b[0;34m\u001b[0m\u001b[0;34m\u001b[0m\u001b[0m\n\u001b[0;32m-> 4487\u001b[0;31m                 \u001b[0mallow_dups\u001b[0m\u001b[0;34m=\u001b[0m\u001b[0;32mFalse\u001b[0m\u001b[0;34m,\u001b[0m\u001b[0;34m\u001b[0m\u001b[0;34m\u001b[0m\u001b[0m\n\u001b[0m\u001b[1;32m   4488\u001b[0m             )\n\u001b[1;32m   4489\u001b[0m \u001b[0;34m\u001b[0m\u001b[0m\n",
            "\u001b[0;32m/usr/local/lib/python3.6/dist-packages/pandas/core/generic.py\u001b[0m in \u001b[0;36m_reindex_with_indexers\u001b[0;34m(self, reindexers, fill_value, copy, allow_dups)\u001b[0m\n\u001b[1;32m   4530\u001b[0m                 \u001b[0mfill_value\u001b[0m\u001b[0;34m=\u001b[0m\u001b[0mfill_value\u001b[0m\u001b[0;34m,\u001b[0m\u001b[0;34m\u001b[0m\u001b[0;34m\u001b[0m\u001b[0m\n\u001b[1;32m   4531\u001b[0m                 \u001b[0mallow_dups\u001b[0m\u001b[0;34m=\u001b[0m\u001b[0mallow_dups\u001b[0m\u001b[0;34m,\u001b[0m\u001b[0;34m\u001b[0m\u001b[0;34m\u001b[0m\u001b[0m\n\u001b[0;32m-> 4532\u001b[0;31m                 \u001b[0mcopy\u001b[0m\u001b[0;34m=\u001b[0m\u001b[0mcopy\u001b[0m\u001b[0;34m,\u001b[0m\u001b[0;34m\u001b[0m\u001b[0;34m\u001b[0m\u001b[0m\n\u001b[0m\u001b[1;32m   4533\u001b[0m             )\n\u001b[1;32m   4534\u001b[0m             \u001b[0;31m# If we've made a copy once, no need to make another one\u001b[0m\u001b[0;34m\u001b[0m\u001b[0;34m\u001b[0m\u001b[0;34m\u001b[0m\u001b[0m\n",
            "\u001b[0;32m/usr/local/lib/python3.6/dist-packages/pandas/core/internals/managers.py\u001b[0m in \u001b[0;36mreindex_indexer\u001b[0;34m(self, new_axis, indexer, axis, fill_value, allow_dups, copy, consolidate)\u001b[0m\n\u001b[1;32m   1283\u001b[0m         \u001b[0;31m# some axes don't allow reindexing with dups\u001b[0m\u001b[0;34m\u001b[0m\u001b[0;34m\u001b[0m\u001b[0;34m\u001b[0m\u001b[0m\n\u001b[1;32m   1284\u001b[0m         \u001b[0;32mif\u001b[0m \u001b[0;32mnot\u001b[0m \u001b[0mallow_dups\u001b[0m\u001b[0;34m:\u001b[0m\u001b[0;34m\u001b[0m\u001b[0;34m\u001b[0m\u001b[0m\n\u001b[0;32m-> 1285\u001b[0;31m             \u001b[0mself\u001b[0m\u001b[0;34m.\u001b[0m\u001b[0maxes\u001b[0m\u001b[0;34m[\u001b[0m\u001b[0maxis\u001b[0m\u001b[0;34m]\u001b[0m\u001b[0;34m.\u001b[0m\u001b[0m_can_reindex\u001b[0m\u001b[0;34m(\u001b[0m\u001b[0mindexer\u001b[0m\u001b[0;34m)\u001b[0m\u001b[0;34m\u001b[0m\u001b[0;34m\u001b[0m\u001b[0m\n\u001b[0m\u001b[1;32m   1286\u001b[0m \u001b[0;34m\u001b[0m\u001b[0m\n\u001b[1;32m   1287\u001b[0m         \u001b[0;32mif\u001b[0m \u001b[0maxis\u001b[0m \u001b[0;34m>=\u001b[0m \u001b[0mself\u001b[0m\u001b[0;34m.\u001b[0m\u001b[0mndim\u001b[0m\u001b[0;34m:\u001b[0m\u001b[0;34m\u001b[0m\u001b[0;34m\u001b[0m\u001b[0m\n",
            "\u001b[0;32m/usr/local/lib/python3.6/dist-packages/pandas/core/indexes/base.py\u001b[0m in \u001b[0;36m_can_reindex\u001b[0;34m(self, indexer)\u001b[0m\n\u001b[1;32m   3290\u001b[0m         \u001b[0;31m# trying to reindex on an axis with duplicates\u001b[0m\u001b[0;34m\u001b[0m\u001b[0;34m\u001b[0m\u001b[0;34m\u001b[0m\u001b[0m\n\u001b[1;32m   3291\u001b[0m         \u001b[0;32mif\u001b[0m \u001b[0;32mnot\u001b[0m \u001b[0mself\u001b[0m\u001b[0;34m.\u001b[0m\u001b[0mis_unique\u001b[0m \u001b[0;32mand\u001b[0m \u001b[0mlen\u001b[0m\u001b[0;34m(\u001b[0m\u001b[0mindexer\u001b[0m\u001b[0;34m)\u001b[0m\u001b[0;34m:\u001b[0m\u001b[0;34m\u001b[0m\u001b[0;34m\u001b[0m\u001b[0m\n\u001b[0;32m-> 3292\u001b[0;31m             \u001b[0;32mraise\u001b[0m \u001b[0mValueError\u001b[0m\u001b[0;34m(\u001b[0m\u001b[0;34m\"cannot reindex from a duplicate axis\"\u001b[0m\u001b[0;34m)\u001b[0m\u001b[0;34m\u001b[0m\u001b[0;34m\u001b[0m\u001b[0m\n\u001b[0m\u001b[1;32m   3293\u001b[0m \u001b[0;34m\u001b[0m\u001b[0m\n\u001b[1;32m   3294\u001b[0m     \u001b[0;32mdef\u001b[0m \u001b[0mreindex\u001b[0m\u001b[0;34m(\u001b[0m\u001b[0mself\u001b[0m\u001b[0;34m,\u001b[0m \u001b[0mtarget\u001b[0m\u001b[0;34m,\u001b[0m \u001b[0mmethod\u001b[0m\u001b[0;34m=\u001b[0m\u001b[0;32mNone\u001b[0m\u001b[0;34m,\u001b[0m \u001b[0mlevel\u001b[0m\u001b[0;34m=\u001b[0m\u001b[0;32mNone\u001b[0m\u001b[0;34m,\u001b[0m \u001b[0mlimit\u001b[0m\u001b[0;34m=\u001b[0m\u001b[0;32mNone\u001b[0m\u001b[0;34m,\u001b[0m \u001b[0mtolerance\u001b[0m\u001b[0;34m=\u001b[0m\u001b[0;32mNone\u001b[0m\u001b[0;34m)\u001b[0m\u001b[0;34m:\u001b[0m\u001b[0;34m\u001b[0m\u001b[0;34m\u001b[0m\u001b[0m\n",
            "\u001b[0;31mValueError\u001b[0m: cannot reindex from a duplicate axis"
          ]
        }
      ]
    },
    {
      "cell_type": "code",
      "metadata": {
        "id": "HrUem8lWfWcn"
      },
      "source": [
        "casosSr = pd.Series(casos, index=list(range(7))+[7])"
      ],
      "execution_count": 48,
      "outputs": []
    },
    {
      "cell_type": "code",
      "metadata": {
        "colab": {
          "base_uri": "https://localhost:8080/"
        },
        "id": "zlv-mVYVfZIf",
        "outputId": "e1ae0ab6-b344-42aa-9ed4-59fad1140a07"
      },
      "source": [
        "casosSr[casosSr < 20000][casosSr > 15000]"
      ],
      "execution_count": 50,
      "outputs": [
        {
          "output_type": "execute_result",
          "data": {
            "text/plain": [
              "3    18947\n",
              "dtype: int64"
            ]
          },
          "metadata": {
            "tags": []
          },
          "execution_count": 50
        }
      ]
    },
    {
      "cell_type": "markdown",
      "metadata": {
        "id": "PhxPzysIgMzJ"
      },
      "source": [
        "Vamos tentar indexar com as datas de registro da doença. Criando uma *Series* com as datas:"
      ]
    },
    {
      "cell_type": "code",
      "metadata": {
        "id": "CLOJa91jgdSm"
      },
      "source": [
        "casos_datas = [\"28-10-2020\",\"29-10-2020\",\"30-10-2020\",\"31-10-2020\",\"01-11-2020\",\"02-11-2020\",\"03-11-2020\",\"04-11-2020\"]"
      ],
      "execution_count": 49,
      "outputs": []
    },
    {
      "cell_type": "markdown",
      "metadata": {
        "id": "j8xrTQqzg0g4"
      },
      "source": [
        "Usando o método `.index`"
      ]
    },
    {
      "cell_type": "code",
      "metadata": {
        "id": "BtzE6Gz7g09Z"
      },
      "source": [
        "casosSr.index = casos_datas"
      ],
      "execution_count": 51,
      "outputs": []
    },
    {
      "cell_type": "code",
      "metadata": {
        "colab": {
          "base_uri": "https://localhost:8080/"
        },
        "id": "gHuO82yPhB1Q",
        "outputId": "994e57c3-2ac7-4cd1-fed9-653b04ee3641"
      },
      "source": [
        "casosSr"
      ],
      "execution_count": 52,
      "outputs": [
        {
          "output_type": "execute_result",
          "data": {
            "text/plain": [
              "28-10-2020    28629\n",
              "29-10-2020    26106\n",
              "30-10-2020    22282\n",
              "31-10-2020    18947\n",
              "01-11-2020    10100\n",
              "02-11-2020     8501\n",
              "03-11-2020    11843\n",
              "04-11-2020    23976\n",
              "dtype: int64"
            ]
          },
          "metadata": {
            "tags": []
          },
          "execution_count": 52
        }
      ]
    },
    {
      "cell_type": "markdown",
      "metadata": {
        "id": "avKlNScndXFr"
      },
      "source": [
        "As operações são vetorizadas:"
      ]
    },
    {
      "cell_type": "code",
      "metadata": {
        "colab": {
          "base_uri": "https://localhost:8080/"
        },
        "id": "hPGE0BDohGI7",
        "outputId": "f4093d41-ae43-4299-d5ba-21fe83299ff0"
      },
      "source": [
        "casosSr * 2"
      ],
      "execution_count": 53,
      "outputs": [
        {
          "output_type": "execute_result",
          "data": {
            "text/plain": [
              "28-10-2020    57258\n",
              "29-10-2020    52212\n",
              "30-10-2020    44564\n",
              "31-10-2020    37894\n",
              "01-11-2020    20200\n",
              "02-11-2020    17002\n",
              "03-11-2020    23686\n",
              "04-11-2020    47952\n",
              "dtype: int64"
            ]
          },
          "metadata": {
            "tags": []
          },
          "execution_count": 53
        }
      ]
    },
    {
      "cell_type": "markdown",
      "metadata": {
        "id": "f9MzOrnMd0qk"
      },
      "source": [
        "Algumas operações matemáticas vêm da biblioteca `NumPy`, então devemos importá-la:"
      ]
    },
    {
      "cell_type": "code",
      "metadata": {
        "id": "8gQ09cqyeakT"
      },
      "source": [
        "import numpy as np"
      ],
      "execution_count": 55,
      "outputs": []
    },
    {
      "cell_type": "code",
      "metadata": {
        "colab": {
          "base_uri": "https://localhost:8080/"
        },
        "id": "64sX-GXJd00H",
        "outputId": "7046a9cb-5e0d-4bea-9d9d-53a47ce23534"
      },
      "source": [
        "np.exp(casosSr)"
      ],
      "execution_count": 56,
      "outputs": [
        {
          "output_type": "stream",
          "text": [
            "/usr/local/lib/python3.6/dist-packages/pandas/core/series.py:726: RuntimeWarning: overflow encountered in exp\n",
            "  result = getattr(ufunc, method)(*inputs, **kwargs)\n"
          ],
          "name": "stderr"
        },
        {
          "output_type": "execute_result",
          "data": {
            "text/plain": [
              "28-10-2020    inf\n",
              "29-10-2020    inf\n",
              "30-10-2020    inf\n",
              "31-10-2020    inf\n",
              "01-11-2020    inf\n",
              "02-11-2020    inf\n",
              "03-11-2020    inf\n",
              "04-11-2020    inf\n",
              "dtype: float64"
            ]
          },
          "metadata": {
            "tags": []
          },
          "execution_count": 56
        }
      ]
    },
    {
      "cell_type": "markdown",
      "metadata": {
        "id": "V7g7cxO1jUuv"
      },
      "source": [
        "Vamos adicionar a esta nossa `Series` um índice novo, mas sem valor associado:\n",
        "\n"
      ]
    },
    {
      "cell_type": "code",
      "metadata": {
        "colab": {
          "base_uri": "https://localhost:8080/"
        },
        "id": "o0qxO6PkjU3Y",
        "outputId": "68a48220-5c62-4a0c-b74a-8fd9f14873ba"
      },
      "source": [
        "novaCasosSr = pd.Series(index=[7])"
      ],
      "execution_count": 57,
      "outputs": [
        {
          "output_type": "stream",
          "text": [
            "/usr/local/lib/python3.6/dist-packages/ipykernel_launcher.py:1: DeprecationWarning: The default dtype for empty Series will be 'object' instead of 'float64' in a future version. Specify a dtype explicitly to silence this warning.\n",
            "  \"\"\"Entry point for launching an IPython kernel.\n"
          ],
          "name": "stderr"
        }
      ]
    },
    {
      "cell_type": "code",
      "metadata": {
        "colab": {
          "base_uri": "https://localhost:8080/"
        },
        "id": "DDmyFp6iklHk",
        "outputId": "481754b8-49f3-4683-c6ef-da6c23280c85"
      },
      "source": [
        "novaCasosSr"
      ],
      "execution_count": 58,
      "outputs": [
        {
          "output_type": "execute_result",
          "data": {
            "text/plain": [
              "7   NaN\n",
              "dtype: float64"
            ]
          },
          "metadata": {
            "tags": []
          },
          "execution_count": 58
        }
      ]
    },
    {
      "cell_type": "markdown",
      "metadata": {
        "id": "WKqh2Mp5lTsi"
      },
      "source": [
        "Veja que o índice 7 aparece com uma posição preenchida por `NaN`.\n",
        "\n",
        "Em `pandas`, os dados aparecerão assim quando corresponderem a `NA` ou dados faltantes. Podem aparecer também como \"missing\", \"not available\".\n",
        "\n",
        "É possível também considerar os `inf` como NaN, se desejado.\n",
        "\n",
        "Ver esta página:\n",
        "* https://pandas.pydata.org/pandas-docs/stable/user_guide/missing_data.html"
      ]
    },
    {
      "cell_type": "markdown",
      "metadata": {
        "id": "8WM1u7zOqv6U"
      },
      "source": [
        "Operações usuais definidas e apresentadas na aula do Felipe Rodrigues (Bidu):\n",
        "\n",
        "|Operação|Operador|Exemplo|\n",
        "|-----------|:---:|-------:|\n",
        "|Soma|+|`3 + 2 = 5`|\n",
        "|Subtração|-|`20 - 10 = 10`|\n",
        "|Divisão|/|`3 / 2 = 1.5`|\n",
        "|Div. Inteira|//|`5 // 2 = 2`|\n",
        "|Modulo \"resto\"|%|`5 % 3 = 2`|\n",
        "|Potência|\\*\\*|`10 ** 2 = 100`|\n",
        "|Val. Absoluto|`abs(x)`|`abs(-10) = 10`|"
      ]
    },
    {
      "cell_type": "markdown",
      "metadata": {
        "id": "d0Xselsen056"
      },
      "source": [
        "Uma característica importante de `Series` é possível `alinhar` os índices de diferentes Series para realizar operações entre elas. Por exemplo, imaginem a situação em que queremos somar os números de casos em dois diferentes Estados brasileiros e cada Series apresenta um vetor de casos em um Estado."
      ]
    },
    {
      "cell_type": "code",
      "metadata": {
        "id": "EMAxvs4In1IB"
      },
      "source": [
        "PR_Dez2020_2sem_casos = {'Dez8' : 4591, 'Dez9' : 5069, 'Dez10' : 3981, 'Dez11' : 5059, 'Dez12' : 4379, 'Dez13' : 2483, 'Dez14' : 2376}\n",
        "RS_Dez2020_2sem_casos = {'Dez8' : 4114, 'Dez9' : 4861, 'Dez10' : 4435, 'Dez11' : 5163, 'Dez12' : 3557, 'Dez13' : 3891, 'Dez14' : 2303}\n",
        "SC_Dez2020_2sem_casos = {'Dez8' : 6312, 'Dez9' : 5628, 'Dez10' : 5121, 'Dez11' : 4292, 'Dez12' : 5051, 'Dez13' : 1306, 'Dez14' : 4649}\n",
        "PR_Dez2020_2sem_casosSr = pd.Series(PR_Dez2020_2sem_casos)\n",
        "RS_Dez2020_2sem_casosSr = pd.Series(RS_Dez2020_2sem_casos)\n",
        "SC_Dez2020_2sem_casosSr = pd.Series(SC_Dez2020_2sem_casos)"
      ],
      "execution_count": null,
      "outputs": []
    },
    {
      "cell_type": "code",
      "metadata": {
        "colab": {
          "base_uri": "https://localhost:8080/"
        },
        "id": "Afd5siR8rTSj",
        "outputId": "34aa04a8-faa7-4fdf-9e0e-7055b0a9af30"
      },
      "source": [
        "PR_Dez2020_2sem_casosSr"
      ],
      "execution_count": null,
      "outputs": [
        {
          "output_type": "execute_result",
          "data": {
            "text/plain": [
              "Dez8     4591\n",
              "Dez9     5069\n",
              "Dez10    3981\n",
              "Dez11    5059\n",
              "Dez12    4379\n",
              "Dez13    2483\n",
              "Dez14    2376\n",
              "dtype: int64"
            ]
          },
          "metadata": {
            "tags": []
          },
          "execution_count": 3
        }
      ]
    },
    {
      "cell_type": "code",
      "metadata": {
        "colab": {
          "base_uri": "https://localhost:8080/"
        },
        "id": "cBddvJHTrV_0",
        "outputId": "f7ed52a7-ab52-4c06-fddb-86ea725cf855"
      },
      "source": [
        "RS_Dez2020_2sem_casosSr"
      ],
      "execution_count": null,
      "outputs": [
        {
          "output_type": "execute_result",
          "data": {
            "text/plain": [
              "Dez8     4114\n",
              "Dez9     4861\n",
              "Dez10    4435\n",
              "Dez11    5163\n",
              "Dez12    3557\n",
              "Dez13    3891\n",
              "Dez14    2303\n",
              "dtype: int64"
            ]
          },
          "metadata": {
            "tags": []
          },
          "execution_count": 4
        }
      ]
    },
    {
      "cell_type": "markdown",
      "metadata": {
        "id": "P1KteLpHraOg"
      },
      "source": [
        "Vamos somar as casos em dois ou três Estados do Sul do país, em cada um dos dias da última semana (dados da [Wikipedia](https://en.wikipedia.org/wiki/COVID-19_pandemic_in_Brazil/Statistics#Statistics))"
      ]
    },
    {
      "cell_type": "code",
      "metadata": {
        "colab": {
          "base_uri": "https://localhost:8080/"
        },
        "id": "-dc13DfOrZ0_",
        "outputId": "7a26233a-36f2-41e1-91a0-36cdc9688ad3"
      },
      "source": [
        "PR_Dez2020_2sem_casosSr + RS_Dez2020_2sem_casosSr"
      ],
      "execution_count": null,
      "outputs": [
        {
          "output_type": "execute_result",
          "data": {
            "text/plain": [
              "Dez8      8705\n",
              "Dez9      9930\n",
              "Dez10     8416\n",
              "Dez11    10222\n",
              "Dez12     7936\n",
              "Dez13     6374\n",
              "Dez14     4679\n",
              "dtype: int64"
            ]
          },
          "metadata": {
            "tags": []
          },
          "execution_count": 5
        }
      ]
    },
    {
      "cell_type": "markdown",
      "metadata": {
        "id": "URbXL3j6wjpI"
      },
      "source": [
        "Somando os números de casos nos três estados do Sul do país:"
      ]
    },
    {
      "cell_type": "code",
      "metadata": {
        "colab": {
          "base_uri": "https://localhost:8080/"
        },
        "id": "lBtcwtIAwj9C",
        "outputId": "c35c59ee-addb-43c5-cfb1-d3ce2b891df6"
      },
      "source": [
        "PR_Dez2020_2sem_casosSr + RS_Dez2020_2sem_casosSr + SC_Dez2020_2sem_casosSr"
      ],
      "execution_count": null,
      "outputs": [
        {
          "output_type": "execute_result",
          "data": {
            "text/plain": [
              "Dez8     15017\n",
              "Dez9     15558\n",
              "Dez10    13537\n",
              "Dez11    14514\n",
              "Dez12    12987\n",
              "Dez13     7680\n",
              "Dez14     9328\n",
              "dtype: int64"
            ]
          },
          "metadata": {
            "tags": []
          },
          "execution_count": 6
        }
      ]
    },
    {
      "cell_type": "markdown",
      "metadata": {
        "id": "rCf-WbZiw2ey"
      },
      "source": [
        "Atribuindo esta soma a um novo objeto do tipo Series:"
      ]
    },
    {
      "cell_type": "code",
      "metadata": {
        "id": "dmfr_LGYw2rh"
      },
      "source": [
        "SUL_Dez2020_2sem_casosSr = PR_Dez2020_2sem_casosSr + RS_Dez2020_2sem_casosSr + SC_Dez2020_2sem_casosSr"
      ],
      "execution_count": null,
      "outputs": []
    },
    {
      "cell_type": "code",
      "metadata": {
        "colab": {
          "base_uri": "https://localhost:8080/"
        },
        "id": "nmKp3AjcxCSq",
        "outputId": "810b35e5-e947-46be-94c5-17284f679266"
      },
      "source": [
        "SUL_Dez2020_2sem_casosSr"
      ],
      "execution_count": null,
      "outputs": [
        {
          "output_type": "execute_result",
          "data": {
            "text/plain": [
              "Dez8     15017\n",
              "Dez9     15558\n",
              "Dez10    13537\n",
              "Dez11    14514\n",
              "Dez12    12987\n",
              "Dez13     7680\n",
              "Dez14     9328\n",
              "dtype: int64"
            ]
          },
          "metadata": {
            "tags": []
          },
          "execution_count": 8
        }
      ]
    },
    {
      "cell_type": "markdown",
      "metadata": {
        "id": "GUMs2RmQxkho"
      },
      "source": [
        "Subtração:"
      ]
    },
    {
      "cell_type": "code",
      "metadata": {
        "colab": {
          "base_uri": "https://localhost:8080/"
        },
        "id": "wmNo2qE9xHaS",
        "outputId": "3b7a8f87-68a3-4925-8b76-56593b002cb5"
      },
      "source": [
        "SUL_Dez2020_2sem_casosSr - PR_Dez2020_2sem_casosSr"
      ],
      "execution_count": null,
      "outputs": [
        {
          "output_type": "execute_result",
          "data": {
            "text/plain": [
              "Dez8     10426\n",
              "Dez9     10489\n",
              "Dez10     9556\n",
              "Dez11     9455\n",
              "Dez12     8608\n",
              "Dez13     5197\n",
              "Dez14     6952\n",
              "dtype: int64"
            ]
          },
          "metadata": {
            "tags": []
          },
          "execution_count": 9
        }
      ]
    },
    {
      "cell_type": "markdown",
      "metadata": {
        "id": "cTxoO4oZyC4x"
      },
      "source": [
        "Atribuições aritméticas expandidas também funcionam com Series:"
      ]
    },
    {
      "cell_type": "code",
      "metadata": {
        "colab": {
          "base_uri": "https://localhost:8080/"
        },
        "id": "5n6rmkImyDCg",
        "outputId": "7db1faa3-d24b-4099-c136-86e4a5aa7f1d"
      },
      "source": [
        "SUL_Dez2020_2sem_casosSr"
      ],
      "execution_count": null,
      "outputs": [
        {
          "output_type": "execute_result",
          "data": {
            "text/plain": [
              "Dez8     15017\n",
              "Dez9     15558\n",
              "Dez10    13537\n",
              "Dez11    14514\n",
              "Dez12    12987\n",
              "Dez13     7680\n",
              "Dez14     9328\n",
              "dtype: int64"
            ]
          },
          "metadata": {
            "tags": []
          },
          "execution_count": 10
        }
      ]
    },
    {
      "cell_type": "code",
      "metadata": {
        "id": "OD9lsDN4yW6r"
      },
      "source": [
        "SUL_Dez2020_2sem_casosSr += 1"
      ],
      "execution_count": null,
      "outputs": []
    },
    {
      "cell_type": "code",
      "metadata": {
        "colab": {
          "base_uri": "https://localhost:8080/"
        },
        "id": "SEFsywnPyFuw",
        "outputId": "74a75a1d-c974-4f56-c944-8a1d2a1b30f0"
      },
      "source": [
        "SUL_Dez2020_2sem_casosSr"
      ],
      "execution_count": null,
      "outputs": [
        {
          "output_type": "execute_result",
          "data": {
            "text/plain": [
              "Dez8     15018\n",
              "Dez9     15559\n",
              "Dez10    13538\n",
              "Dez11    14515\n",
              "Dez12    12988\n",
              "Dez13     7681\n",
              "Dez14     9329\n",
              "dtype: int64"
            ]
          },
          "metadata": {
            "tags": []
          },
          "execution_count": 12
        }
      ]
    },
    {
      "cell_type": "markdown",
      "metadata": {
        "id": "-5izaJO5zO3t"
      },
      "source": [
        "Usando um pouquinhos os booleanos e os operadores de comparação, apresentados pelo Bidu. Os operadores booleandos começam a ter um sentido bastante interessante quando aplicamos a dados reais. Por exemplo, vamos verificar em quais dias da semana foram registrados mais de 10k casos de COVID-19 naquela semana."
      ]
    },
    {
      "cell_type": "code",
      "metadata": {
        "colab": {
          "base_uri": "https://localhost:8080/"
        },
        "id": "MzqeLTH9zPDq",
        "outputId": "824b88f0-b31f-4b59-bbb4-ffecb744ae45"
      },
      "source": [
        "SUL_Dez2020_2sem_casosSr < 10000"
      ],
      "execution_count": null,
      "outputs": [
        {
          "output_type": "execute_result",
          "data": {
            "text/plain": [
              "Dez8     False\n",
              "Dez9     False\n",
              "Dez10    False\n",
              "Dez11    False\n",
              "Dez12    False\n",
              "Dez13     True\n",
              "Dez14     True\n",
              "dtype: bool"
            ]
          },
          "metadata": {
            "tags": []
          },
          "execution_count": 13
        }
      ]
    },
    {
      "cell_type": "code",
      "metadata": {
        "colab": {
          "base_uri": "https://localhost:8080/"
        },
        "id": "pr3x4N0L0BIZ",
        "outputId": "98fc1b17-8692-4761-bbdc-f67f22fe7428"
      },
      "source": [
        "SUL_Dez2020_2sem_casosSr > 10000"
      ],
      "execution_count": null,
      "outputs": [
        {
          "output_type": "execute_result",
          "data": {
            "text/plain": [
              "Dez8      True\n",
              "Dez9      True\n",
              "Dez10     True\n",
              "Dez11     True\n",
              "Dez12     True\n",
              "Dez13    False\n",
              "Dez14    False\n",
              "dtype: bool"
            ]
          },
          "metadata": {
            "tags": []
          },
          "execution_count": 14
        }
      ]
    },
    {
      "cell_type": "code",
      "metadata": {
        "colab": {
          "base_uri": "https://localhost:8080/"
        },
        "id": "6XvVbQh10GGn",
        "outputId": "20b6c57c-6375-4e62-fca0-c4074704e33f"
      },
      "source": [
        "SUL_Dez2020_2sem_casosSr == 10000"
      ],
      "execution_count": null,
      "outputs": [
        {
          "output_type": "execute_result",
          "data": {
            "text/plain": [
              "Dez8     False\n",
              "Dez9     False\n",
              "Dez10    False\n",
              "Dez11    False\n",
              "Dez12    False\n",
              "Dez13    False\n",
              "Dez14    False\n",
              "dtype: bool"
            ]
          },
          "metadata": {
            "tags": []
          },
          "execution_count": 15
        }
      ]
    },
    {
      "cell_type": "markdown",
      "metadata": {
        "id": "EpUTQvKE19oX"
      },
      "source": [
        "Fonte: https://towardsdatascience.com/using-logical-comparisons-with-pandas-dataframes-3520eb73ae63\n",
        "    \n",
        "    eq (equivalent to ==) — equals to\n",
        "    ne (equivalent to !=) — not equals to\n",
        "    le (equivalent to <=) — less than or equals to\n",
        "    lt (equivalent to <) — less than\n",
        "    ge (equivalent to >=) — greater than or equals to\n",
        "    gt (equivalent to >) — greater than"
      ]
    },
    {
      "cell_type": "code",
      "metadata": {
        "colab": {
          "base_uri": "https://localhost:8080/"
        },
        "id": "7Z0FtKJZ0yEe",
        "outputId": "ce3fdb85-def1-496a-bbee-72a3b8147e3a"
      },
      "source": [
        "SUL_Dez2020_2sem_casosSr.gt(10000) & SUL_Dez2020_2sem_casosSr.lt(14000)"
      ],
      "execution_count": null,
      "outputs": [
        {
          "output_type": "execute_result",
          "data": {
            "text/plain": [
              "Dez8     False\n",
              "Dez9     False\n",
              "Dez10     True\n",
              "Dez11    False\n",
              "Dez12     True\n",
              "Dez13    False\n",
              "Dez14    False\n",
              "dtype: bool"
            ]
          },
          "metadata": {
            "tags": []
          },
          "execution_count": 16
        }
      ]
    },
    {
      "cell_type": "code",
      "metadata": {
        "colab": {
          "base_uri": "https://localhost:8080/"
        },
        "id": "jPKp_vnN1w8B",
        "outputId": "4779a2a5-63a2-4431-de26-279f2666697c"
      },
      "source": [
        "SUL_Dez2020_2sem_casosSr"
      ],
      "execution_count": null,
      "outputs": [
        {
          "output_type": "execute_result",
          "data": {
            "text/plain": [
              "Dez8     15018\n",
              "Dez9     15559\n",
              "Dez10    13538\n",
              "Dez11    14515\n",
              "Dez12    12988\n",
              "Dez13     7681\n",
              "Dez14     9329\n",
              "dtype: int64"
            ]
          },
          "metadata": {
            "tags": []
          },
          "execution_count": 17
        }
      ]
    },
    {
      "cell_type": "markdown",
      "metadata": {
        "id": "E0H_i0Of9MMj"
      },
      "source": [
        "O operador `in` funciona em dados do pandas, mas atua no índice e não nos valores:"
      ]
    },
    {
      "cell_type": "code",
      "metadata": {
        "colab": {
          "base_uri": "https://localhost:8080/"
        },
        "id": "by5J7CKa3AdW",
        "outputId": "3b2b7fd3-d241-47a0-c383-890656dbc052"
      },
      "source": [
        "15020 in SUL_Dez2020_2sem_casosSr"
      ],
      "execution_count": null,
      "outputs": [
        {
          "output_type": "execute_result",
          "data": {
            "text/plain": [
              "False"
            ]
          },
          "metadata": {
            "tags": []
          },
          "execution_count": 18
        }
      ]
    },
    {
      "cell_type": "code",
      "metadata": {
        "colab": {
          "base_uri": "https://localhost:8080/"
        },
        "id": "S6mIPwSX2pit",
        "outputId": "2872c550-7082-4e9b-fcec-1e7e4270cba5"
      },
      "source": [
        "'Dez8' in SUL_Dez2020_2sem_casosSr"
      ],
      "execution_count": null,
      "outputs": [
        {
          "output_type": "execute_result",
          "data": {
            "text/plain": [
              "True"
            ]
          },
          "metadata": {
            "tags": []
          },
          "execution_count": 19
        }
      ]
    },
    {
      "cell_type": "markdown",
      "metadata": {
        "id": "C4vz4Khx4_Gc"
      },
      "source": [
        "Falamos bastante sobre operações com números até agora, mas é importante também atentarmos para o fato que Series aceitam diferentes tipos de dados. Isso é super importante."
      ]
    },
    {
      "cell_type": "code",
      "metadata": {
        "colab": {
          "base_uri": "https://localhost:8080/"
        },
        "id": "mDnzWPDS27L6",
        "outputId": "af689cf6-23aa-48f9-fbd2-849604bdb919"
      },
      "source": [
        "SUL_Dez2020_2sem_casosSr"
      ],
      "execution_count": null,
      "outputs": [
        {
          "output_type": "execute_result",
          "data": {
            "text/plain": [
              "Dez8     15018\n",
              "Dez9     15559\n",
              "Dez10    13538\n",
              "Dez11    14515\n",
              "Dez12    12988\n",
              "Dez13     7681\n",
              "Dez14     9329\n",
              "dtype: int64"
            ]
          },
          "metadata": {
            "tags": []
          },
          "execution_count": 20
        }
      ]
    },
    {
      "cell_type": "code",
      "metadata": {
        "colab": {
          "base_uri": "https://localhost:8080/"
        },
        "id": "vrHoZbCg4-4k",
        "outputId": "448feb48-8e30-473b-f544-4427e031627d"
      },
      "source": [
        "# Vamos adicionar o número de novos casos no dia 15 de dezembro de 2020 (7537+3358+3497)\n",
        "SUL_Dez2020_2sem_casosSr.append(pd.Series([14392]))"
      ],
      "execution_count": null,
      "outputs": [
        {
          "output_type": "execute_result",
          "data": {
            "text/plain": [
              "Dez8     15018\n",
              "Dez9     15559\n",
              "Dez10    13538\n",
              "Dez11    14515\n",
              "Dez12    12988\n",
              "Dez13     7681\n",
              "Dez14     9329\n",
              "0        14392\n",
              "dtype: int64"
            ]
          },
          "metadata": {
            "tags": []
          },
          "execution_count": 21
        }
      ]
    },
    {
      "cell_type": "markdown",
      "metadata": {
        "id": "gxBSNWrR9buo"
      },
      "source": [
        "Vejam que não funcionou:"
      ]
    },
    {
      "cell_type": "code",
      "metadata": {
        "colab": {
          "base_uri": "https://localhost:8080/"
        },
        "id": "CNSOpoXq9cGX",
        "outputId": "124e6cf3-a7c9-44f8-f9ac-b06b46328b29"
      },
      "source": [
        "SUL_Dez2020_2sem_casosSr"
      ],
      "execution_count": null,
      "outputs": [
        {
          "output_type": "execute_result",
          "data": {
            "text/plain": [
              "Dez8     15018\n",
              "Dez9     15559\n",
              "Dez10    13538\n",
              "Dez11    14515\n",
              "Dez12    12988\n",
              "Dez13     7681\n",
              "Dez14     9329\n",
              "dtype: int64"
            ]
          },
          "metadata": {
            "tags": []
          },
          "execution_count": 23
        }
      ]
    },
    {
      "cell_type": "code",
      "metadata": {
        "id": "tZq2rGls4-6q"
      },
      "source": [
        "SUL_Dez2020_2sem_casosSr = SUL_Dez2020_2sem_casosSr.append(pd.Series([14392]))"
      ],
      "execution_count": null,
      "outputs": []
    },
    {
      "cell_type": "code",
      "metadata": {
        "colab": {
          "base_uri": "https://localhost:8080/"
        },
        "id": "X6cHfT4a73MD",
        "outputId": "d4a1cfba-ccf1-47d2-fa7c-a1d4182d5445"
      },
      "source": [
        "SUL_Dez2020_2sem_casosSr # Vejam que o pandas vai adicionar automaticamente o índice padrão (número zero)"
      ],
      "execution_count": null,
      "outputs": [
        {
          "output_type": "execute_result",
          "data": {
            "text/plain": [
              "Dez8     15018\n",
              "Dez9     15559\n",
              "Dez10    13538\n",
              "Dez11    14515\n",
              "Dez12    12988\n",
              "Dez13     7681\n",
              "Dez14     9329\n",
              "0        14392\n",
              "dtype: int64"
            ]
          },
          "metadata": {
            "tags": []
          },
          "execution_count": 25
        }
      ]
    },
    {
      "cell_type": "markdown",
      "metadata": {
        "id": "yd5ydNh89qqt"
      },
      "source": [
        "No entanto, o que nós queremos é manter o padrão que esperávamos para indexação, que corresponde às datas dos casos que estamos analisando de dez-2020:"
      ]
    },
    {
      "cell_type": "code",
      "metadata": {
        "colab": {
          "base_uri": "https://localhost:8080/"
        },
        "id": "r_PDhUVL7Nzs",
        "outputId": "a203ac10-1cee-4b1f-9e1b-dd7cb43cbfc5"
      },
      "source": [
        "SUL_Dez2020_2sem_casosSr.append(pd.Series([14392],index=['Dez15']))"
      ],
      "execution_count": null,
      "outputs": [
        {
          "output_type": "execute_result",
          "data": {
            "text/plain": [
              "Dez8     15018\n",
              "Dez9     15559\n",
              "Dez10    13538\n",
              "Dez11    14515\n",
              "Dez12    12988\n",
              "Dez13     7681\n",
              "Dez14     9329\n",
              "0        14392\n",
              "Dez15    14392\n",
              "dtype: int64"
            ]
          },
          "metadata": {
            "tags": []
          },
          "execution_count": 27
        }
      ]
    },
    {
      "cell_type": "code",
      "metadata": {
        "id": "dIQ9ar5P8quP"
      },
      "source": [
        "SUL_Dez2020_2sem_casosSr = SUL_Dez2020_2sem_casosSr.append(pd.Series([14392],index=['Dez15']))"
      ],
      "execution_count": null,
      "outputs": []
    },
    {
      "cell_type": "code",
      "metadata": {
        "colab": {
          "base_uri": "https://localhost:8080/"
        },
        "id": "4Y4stqA57DDT",
        "outputId": "c635df5c-7a33-43d5-d887-760a0f2a63f3"
      },
      "source": [
        "SUL_Dez2020_2sem_casosSr # Agora temos o índice correto e o valor também, mas aquele índice errado (numérico) ainda permanece ali."
      ],
      "execution_count": null,
      "outputs": [
        {
          "output_type": "execute_result",
          "data": {
            "text/plain": [
              "Dez8     15018\n",
              "Dez9     15559\n",
              "Dez10    13538\n",
              "Dez11    14515\n",
              "Dez12    12988\n",
              "Dez13     7681\n",
              "Dez14     9329\n",
              "0        14392\n",
              "Dez15    14392\n",
              "dtype: int64"
            ]
          },
          "metadata": {
            "tags": []
          },
          "execution_count": 29
        }
      ]
    },
    {
      "cell_type": "code",
      "metadata": {
        "colab": {
          "base_uri": "https://localhost:8080/"
        },
        "id": "pRXdmTZm-EkH",
        "outputId": "c3bbde38-16f2-4866-dccc-b505714f8a97"
      },
      "source": [
        "SUL_Dez2020_2sem_casosSr.drop(0) # Usamos o método `drop` para remover com base no índice"
      ],
      "execution_count": null,
      "outputs": [
        {
          "output_type": "execute_result",
          "data": {
            "text/plain": [
              "Dez8     15018\n",
              "Dez9     15559\n",
              "Dez10    13538\n",
              "Dez11    14515\n",
              "Dez12    12988\n",
              "Dez13     7681\n",
              "Dez14     9329\n",
              "Dez15    14392\n",
              "dtype: int64"
            ]
          },
          "metadata": {
            "tags": []
          },
          "execution_count": 30
        }
      ]
    },
    {
      "cell_type": "code",
      "metadata": {
        "colab": {
          "base_uri": "https://localhost:8080/"
        },
        "id": "wQmx-HaS6ODs",
        "outputId": "3089f02a-3268-4345-8d0b-b923184c79fd"
      },
      "source": [
        "SUL_Dez2020_2sem_casosSr.dtype"
      ],
      "execution_count": null,
      "outputs": [
        {
          "output_type": "execute_result",
          "data": {
            "text/plain": [
              "dtype('int64')"
            ]
          },
          "metadata": {
            "tags": []
          },
          "execution_count": 61
        }
      ]
    },
    {
      "cell_type": "code",
      "metadata": {
        "id": "peLYSGyk-PKy"
      },
      "source": [
        "SUL_Dez2020_2sem_casosSr = SUL_Dez2020_2sem_casosSr.append(pd.Series(['batata'],index=['Dez16']))"
      ],
      "execution_count": null,
      "outputs": []
    },
    {
      "cell_type": "code",
      "metadata": {
        "colab": {
          "base_uri": "https://localhost:8080/"
        },
        "id": "zut1oFbk-TAJ",
        "outputId": "c0bd4c19-64a0-4c0d-f94b-6f5b7b91c52e"
      },
      "source": [
        "SUL_Dez2020_2sem_casosSr * 2"
      ],
      "execution_count": null,
      "outputs": [
        {
          "output_type": "execute_result",
          "data": {
            "text/plain": [
              "Dez8            30036\n",
              "Dez9            31118\n",
              "Dez10           27076\n",
              "Dez11           29030\n",
              "Dez12           25976\n",
              "Dez13           15362\n",
              "Dez14           18658\n",
              "0               28784\n",
              "Dez15           28784\n",
              "Dez16    batatabatata\n",
              "dtype: object"
            ]
          },
          "metadata": {
            "tags": []
          },
          "execution_count": 37
        }
      ]
    },
    {
      "cell_type": "code",
      "metadata": {
        "id": "5JWdf64_ELMs"
      },
      "source": [
        "frutasSr = pd.Series([\"maçã\",\"pêra\",\"uva\"])"
      ],
      "execution_count": null,
      "outputs": []
    },
    {
      "cell_type": "markdown",
      "metadata": {
        "id": "DRDf59M7EmY-"
      },
      "source": [
        "Quando temos dados de diferentes tipos em `Series` de pandas nós temos dtype `object`. Eles contemplam "
      ]
    },
    {
      "cell_type": "code",
      "metadata": {
        "colab": {
          "base_uri": "https://localhost:8080/"
        },
        "id": "HvctOKE1EWdL",
        "outputId": "886a2fb8-1597-4cda-d006-23a47e170d94"
      },
      "source": [
        "frutasSr"
      ],
      "execution_count": null,
      "outputs": [
        {
          "output_type": "execute_result",
          "data": {
            "text/plain": [
              "0    maçã\n",
              "1    pêra\n",
              "2     uva\n",
              "dtype: object"
            ]
          },
          "metadata": {
            "tags": []
          },
          "execution_count": 39
        }
      ]
    },
    {
      "cell_type": "code",
      "metadata": {
        "colab": {
          "base_uri": "https://localhost:8080/"
        },
        "id": "nYHsvXWhE03R",
        "outputId": "318c9c77-f9f9-4adc-bf61-3ce86e99b336"
      },
      "source": [
        "SUL_Dez2020_2sem_casosSr * 2 # Vejam que como `object` os valores são interpretados como misturas, podendo ser números ou strings."
      ],
      "execution_count": null,
      "outputs": [
        {
          "output_type": "execute_result",
          "data": {
            "text/plain": [
              "Dez8            30036\n",
              "Dez9            31118\n",
              "Dez10           27076\n",
              "Dez11           29030\n",
              "Dez12           25976\n",
              "Dez13           15362\n",
              "Dez14           18658\n",
              "0               28784\n",
              "Dez15           28784\n",
              "Dez16    batatabatata\n",
              "dtype: object"
            ]
          },
          "metadata": {
            "tags": []
          },
          "execution_count": 40
        }
      ]
    },
    {
      "cell_type": "markdown",
      "metadata": {
        "id": "R97gIzPQDA1m"
      },
      "source": [
        "## Estrutura de dados: DataFrame\n",
        "\n",
        "Podemos pensar no DataFrame como análogo a uma planilha do Excel ou a um dicionário de Series.\n",
        "\n",
        "Algumas informações introdutórias sobre DataFrame estão neste [tutorial](https://pandas.pydata.org/pandas-docs/stable/user_guide/dsintro.html) (https://pandas.pydata.org)"
      ]
    },
    {
      "cell_type": "code",
      "metadata": {
        "colab": {
          "base_uri": "https://localhost:8080/"
        },
        "id": "TI9W2Rw9D-iX",
        "outputId": "da5d4fb3-827d-4d5c-bcfb-6864bc876513"
      },
      "source": [
        "# Criando um dicionário com registro de casos e recuperados de hoje\n",
        "dict({'Estado' : ['SP','MG','BA','SC','PR'], 'Casos' : [1810000, 747000, 596000, 585000, 559000], 'Recuperados' : [1570000,671000,573000,562000,406000]})"
      ],
      "execution_count": 7,
      "outputs": [
        {
          "output_type": "execute_result",
          "data": {
            "text/plain": [
              "{'Casos': [1810000, 747000, 596000, 585000, 559000],\n",
              " 'Estado': ['SP', 'MG', 'BA', 'SC', 'PR'],\n",
              " 'Recuperados': [1570000, 671000, 573000, 562000, 406000]}"
            ]
          },
          "metadata": {
            "tags": []
          },
          "execution_count": 7
        }
      ]
    },
    {
      "cell_type": "code",
      "metadata": {
        "id": "Y5yCY_cEGQCv"
      },
      "source": [
        "dictCOVID19_hoje = dict({'Estado' : ['SP','MG','BA','SC','PR'], 'Casos' : [1810000, 747000, 596000, 585000, 559000], 'Recuperados' : [1570000,671000,573000,562000,406000]})"
      ],
      "execution_count": 9,
      "outputs": []
    },
    {
      "cell_type": "code",
      "metadata": {
        "colab": {
          "base_uri": "https://localhost:8080/",
          "height": 206
        },
        "id": "m-dHHfu9GgZ7",
        "outputId": "c7734eea-73cc-4dc3-c9b9-2f66433ef6a3"
      },
      "source": [
        "pd.DataFrame(dictCOVID19_hoje)"
      ],
      "execution_count": 10,
      "outputs": [
        {
          "output_type": "execute_result",
          "data": {
            "text/html": [
              "<div>\n",
              "<style scoped>\n",
              "    .dataframe tbody tr th:only-of-type {\n",
              "        vertical-align: middle;\n",
              "    }\n",
              "\n",
              "    .dataframe tbody tr th {\n",
              "        vertical-align: top;\n",
              "    }\n",
              "\n",
              "    .dataframe thead th {\n",
              "        text-align: right;\n",
              "    }\n",
              "</style>\n",
              "<table border=\"1\" class=\"dataframe\">\n",
              "  <thead>\n",
              "    <tr style=\"text-align: right;\">\n",
              "      <th></th>\n",
              "      <th>Estado</th>\n",
              "      <th>Casos</th>\n",
              "      <th>Recuperados</th>\n",
              "    </tr>\n",
              "  </thead>\n",
              "  <tbody>\n",
              "    <tr>\n",
              "      <th>0</th>\n",
              "      <td>SP</td>\n",
              "      <td>1810000</td>\n",
              "      <td>1570000</td>\n",
              "    </tr>\n",
              "    <tr>\n",
              "      <th>1</th>\n",
              "      <td>MG</td>\n",
              "      <td>747000</td>\n",
              "      <td>671000</td>\n",
              "    </tr>\n",
              "    <tr>\n",
              "      <th>2</th>\n",
              "      <td>BA</td>\n",
              "      <td>596000</td>\n",
              "      <td>573000</td>\n",
              "    </tr>\n",
              "    <tr>\n",
              "      <th>3</th>\n",
              "      <td>SC</td>\n",
              "      <td>585000</td>\n",
              "      <td>562000</td>\n",
              "    </tr>\n",
              "    <tr>\n",
              "      <th>4</th>\n",
              "      <td>PR</td>\n",
              "      <td>559000</td>\n",
              "      <td>406000</td>\n",
              "    </tr>\n",
              "  </tbody>\n",
              "</table>\n",
              "</div>"
            ],
            "text/plain": [
              "  Estado    Casos  Recuperados\n",
              "0     SP  1810000      1570000\n",
              "1     MG   747000       671000\n",
              "2     BA   596000       573000\n",
              "3     SC   585000       562000\n",
              "4     PR   559000       406000"
            ]
          },
          "metadata": {
            "tags": []
          },
          "execution_count": 10
        }
      ]
    },
    {
      "cell_type": "code",
      "metadata": {
        "id": "O0gLtZe-Htc3"
      },
      "source": [
        "dictCOVID19_hoje = pd.DataFrame({'Estado' : pd.Series(['SP','MG','BA','SC','PR'], index=[0,1,2,3,4]), 'Casos' : pd.Series([1810000, 747000, 596000, 585000, 559000], index=[5,6,7,8,9])})"
      ],
      "execution_count": 14,
      "outputs": []
    },
    {
      "cell_type": "code",
      "metadata": {
        "id": "BL3n76aRIbnv"
      },
      "source": [
        "d = {'Estado' : pd.Series(['SP','MG','BA','SC','PR'], index=[0,1,2,3,4]), 'Casos' : pd.Series([1810000, 747000, 596000, 585000, 559000], index=[5,6,7,8,9])}"
      ],
      "execution_count": 16,
      "outputs": []
    },
    {
      "cell_type": "code",
      "metadata": {
        "id": "VZc10hiXIh_H"
      },
      "source": [
        "dictCOVID19_hoje = pd.DataFrame(d)"
      ],
      "execution_count": 17,
      "outputs": []
    },
    {
      "cell_type": "code",
      "metadata": {
        "colab": {
          "base_uri": "https://localhost:8080/",
          "height": 363
        },
        "id": "0tZ8blzLISDq",
        "outputId": "4f3e430a-0f78-4b0e-ebc3-ebc522121135"
      },
      "source": [
        "dictCOVID19_hoje"
      ],
      "execution_count": 18,
      "outputs": [
        {
          "output_type": "execute_result",
          "data": {
            "text/html": [
              "<div>\n",
              "<style scoped>\n",
              "    .dataframe tbody tr th:only-of-type {\n",
              "        vertical-align: middle;\n",
              "    }\n",
              "\n",
              "    .dataframe tbody tr th {\n",
              "        vertical-align: top;\n",
              "    }\n",
              "\n",
              "    .dataframe thead th {\n",
              "        text-align: right;\n",
              "    }\n",
              "</style>\n",
              "<table border=\"1\" class=\"dataframe\">\n",
              "  <thead>\n",
              "    <tr style=\"text-align: right;\">\n",
              "      <th></th>\n",
              "      <th>Estado</th>\n",
              "      <th>Casos</th>\n",
              "    </tr>\n",
              "  </thead>\n",
              "  <tbody>\n",
              "    <tr>\n",
              "      <th>0</th>\n",
              "      <td>SP</td>\n",
              "      <td>NaN</td>\n",
              "    </tr>\n",
              "    <tr>\n",
              "      <th>1</th>\n",
              "      <td>MG</td>\n",
              "      <td>NaN</td>\n",
              "    </tr>\n",
              "    <tr>\n",
              "      <th>2</th>\n",
              "      <td>BA</td>\n",
              "      <td>NaN</td>\n",
              "    </tr>\n",
              "    <tr>\n",
              "      <th>3</th>\n",
              "      <td>SC</td>\n",
              "      <td>NaN</td>\n",
              "    </tr>\n",
              "    <tr>\n",
              "      <th>4</th>\n",
              "      <td>PR</td>\n",
              "      <td>NaN</td>\n",
              "    </tr>\n",
              "    <tr>\n",
              "      <th>5</th>\n",
              "      <td>NaN</td>\n",
              "      <td>1810000.0</td>\n",
              "    </tr>\n",
              "    <tr>\n",
              "      <th>6</th>\n",
              "      <td>NaN</td>\n",
              "      <td>747000.0</td>\n",
              "    </tr>\n",
              "    <tr>\n",
              "      <th>7</th>\n",
              "      <td>NaN</td>\n",
              "      <td>596000.0</td>\n",
              "    </tr>\n",
              "    <tr>\n",
              "      <th>8</th>\n",
              "      <td>NaN</td>\n",
              "      <td>585000.0</td>\n",
              "    </tr>\n",
              "    <tr>\n",
              "      <th>9</th>\n",
              "      <td>NaN</td>\n",
              "      <td>559000.0</td>\n",
              "    </tr>\n",
              "  </tbody>\n",
              "</table>\n",
              "</div>"
            ],
            "text/plain": [
              "  Estado      Casos\n",
              "0     SP        NaN\n",
              "1     MG        NaN\n",
              "2     BA        NaN\n",
              "3     SC        NaN\n",
              "4     PR        NaN\n",
              "5    NaN  1810000.0\n",
              "6    NaN   747000.0\n",
              "7    NaN   596000.0\n",
              "8    NaN   585000.0\n",
              "9    NaN   559000.0"
            ]
          },
          "metadata": {
            "tags": []
          },
          "execution_count": 18
        }
      ]
    },
    {
      "cell_type": "markdown",
      "metadata": {
        "id": "SbhQyfooPTUA"
      },
      "source": [
        "Veja que as posições cujos índices de uma Series não existem na outra aparecem como `NaN`.\n",
        "\n",
        "Ver esta página:\n",
        "* https://pandas.pydata.org/pandas-docs/stable/user_guide/missing_data.html"
      ]
    },
    {
      "cell_type": "code",
      "metadata": {
        "id": "11fxCc4r8l__"
      },
      "source": [
        "BrCOVID19Macro = pd.read_csv('/content/drive/My Drive/UNICAMP/GBMeeting/Workshop de Python para GBMeeters/brazil_covid19_macro.csv')"
      ],
      "execution_count": 22,
      "outputs": []
    },
    {
      "cell_type": "code",
      "metadata": {
        "id": "FcyCHVph8hbX",
        "colab": {
          "base_uri": "https://localhost:8080/",
          "height": 423
        },
        "outputId": "8b0fae79-f96d-4067-f6f7-dea4fe2c2c35"
      },
      "source": [
        "BrCOVID19Macro"
      ],
      "execution_count": 23,
      "outputs": [
        {
          "output_type": "execute_result",
          "data": {
            "text/html": [
              "<div>\n",
              "<style scoped>\n",
              "    .dataframe tbody tr th:only-of-type {\n",
              "        vertical-align: middle;\n",
              "    }\n",
              "\n",
              "    .dataframe tbody tr th {\n",
              "        vertical-align: top;\n",
              "    }\n",
              "\n",
              "    .dataframe thead th {\n",
              "        text-align: right;\n",
              "    }\n",
              "</style>\n",
              "<table border=\"1\" class=\"dataframe\">\n",
              "  <thead>\n",
              "    <tr style=\"text-align: right;\">\n",
              "      <th></th>\n",
              "      <th>date</th>\n",
              "      <th>country</th>\n",
              "      <th>week</th>\n",
              "      <th>cases</th>\n",
              "      <th>deaths</th>\n",
              "      <th>recovered</th>\n",
              "      <th>monitoring</th>\n",
              "    </tr>\n",
              "  </thead>\n",
              "  <tbody>\n",
              "    <tr>\n",
              "      <th>0</th>\n",
              "      <td>2020-02-25</td>\n",
              "      <td>Brasil</td>\n",
              "      <td>9</td>\n",
              "      <td>0</td>\n",
              "      <td>0</td>\n",
              "      <td>NaN</td>\n",
              "      <td>NaN</td>\n",
              "    </tr>\n",
              "    <tr>\n",
              "      <th>1</th>\n",
              "      <td>2020-02-26</td>\n",
              "      <td>Brasil</td>\n",
              "      <td>9</td>\n",
              "      <td>1</td>\n",
              "      <td>0</td>\n",
              "      <td>NaN</td>\n",
              "      <td>NaN</td>\n",
              "    </tr>\n",
              "    <tr>\n",
              "      <th>2</th>\n",
              "      <td>2020-02-27</td>\n",
              "      <td>Brasil</td>\n",
              "      <td>9</td>\n",
              "      <td>1</td>\n",
              "      <td>0</td>\n",
              "      <td>NaN</td>\n",
              "      <td>NaN</td>\n",
              "    </tr>\n",
              "    <tr>\n",
              "      <th>3</th>\n",
              "      <td>2020-02-28</td>\n",
              "      <td>Brasil</td>\n",
              "      <td>9</td>\n",
              "      <td>1</td>\n",
              "      <td>0</td>\n",
              "      <td>NaN</td>\n",
              "      <td>NaN</td>\n",
              "    </tr>\n",
              "    <tr>\n",
              "      <th>4</th>\n",
              "      <td>2020-02-29</td>\n",
              "      <td>Brasil</td>\n",
              "      <td>9</td>\n",
              "      <td>2</td>\n",
              "      <td>0</td>\n",
              "      <td>NaN</td>\n",
              "      <td>NaN</td>\n",
              "    </tr>\n",
              "    <tr>\n",
              "      <th>...</th>\n",
              "      <td>...</td>\n",
              "      <td>...</td>\n",
              "      <td>...</td>\n",
              "      <td>...</td>\n",
              "      <td>...</td>\n",
              "      <td>...</td>\n",
              "      <td>...</td>\n",
              "    </tr>\n",
              "    <tr>\n",
              "      <th>249</th>\n",
              "      <td>2020-10-31</td>\n",
              "      <td>Brasil</td>\n",
              "      <td>44</td>\n",
              "      <td>5535605</td>\n",
              "      <td>159884</td>\n",
              "      <td>4972898.0</td>\n",
              "      <td>402823.0</td>\n",
              "    </tr>\n",
              "    <tr>\n",
              "      <th>250</th>\n",
              "      <td>2020-11-01</td>\n",
              "      <td>Brasil</td>\n",
              "      <td>45</td>\n",
              "      <td>5545705</td>\n",
              "      <td>160074</td>\n",
              "      <td>4980942.0</td>\n",
              "      <td>404689.0</td>\n",
              "    </tr>\n",
              "    <tr>\n",
              "      <th>251</th>\n",
              "      <td>2020-11-02</td>\n",
              "      <td>Brasil</td>\n",
              "      <td>45</td>\n",
              "      <td>5554206</td>\n",
              "      <td>160253</td>\n",
              "      <td>4998408.0</td>\n",
              "      <td>395545.0</td>\n",
              "    </tr>\n",
              "    <tr>\n",
              "      <th>252</th>\n",
              "      <td>2020-11-03</td>\n",
              "      <td>Brasil</td>\n",
              "      <td>45</td>\n",
              "      <td>5566049</td>\n",
              "      <td>160496</td>\n",
              "      <td>5028216.0</td>\n",
              "      <td>377337.0</td>\n",
              "    </tr>\n",
              "    <tr>\n",
              "      <th>253</th>\n",
              "      <td>2020-11-04</td>\n",
              "      <td>Brasil</td>\n",
              "      <td>45</td>\n",
              "      <td>5590025</td>\n",
              "      <td>161106</td>\n",
              "      <td>5064344.0</td>\n",
              "      <td>364575.0</td>\n",
              "    </tr>\n",
              "  </tbody>\n",
              "</table>\n",
              "<p>254 rows × 7 columns</p>\n",
              "</div>"
            ],
            "text/plain": [
              "           date country  week    cases  deaths  recovered  monitoring\n",
              "0    2020-02-25  Brasil     9        0       0        NaN         NaN\n",
              "1    2020-02-26  Brasil     9        1       0        NaN         NaN\n",
              "2    2020-02-27  Brasil     9        1       0        NaN         NaN\n",
              "3    2020-02-28  Brasil     9        1       0        NaN         NaN\n",
              "4    2020-02-29  Brasil     9        2       0        NaN         NaN\n",
              "..          ...     ...   ...      ...     ...        ...         ...\n",
              "249  2020-10-31  Brasil    44  5535605  159884  4972898.0    402823.0\n",
              "250  2020-11-01  Brasil    45  5545705  160074  4980942.0    404689.0\n",
              "251  2020-11-02  Brasil    45  5554206  160253  4998408.0    395545.0\n",
              "252  2020-11-03  Brasil    45  5566049  160496  5028216.0    377337.0\n",
              "253  2020-11-04  Brasil    45  5590025  161106  5064344.0    364575.0\n",
              "\n",
              "[254 rows x 7 columns]"
            ]
          },
          "metadata": {
            "tags": []
          },
          "execution_count": 23
        }
      ]
    },
    {
      "cell_type": "code",
      "metadata": {
        "colab": {
          "base_uri": "https://localhost:8080/"
        },
        "id": "pP-vrowYLCb8",
        "outputId": "f6f2e02f-8d01-49e2-d452-5f1d427982ff"
      },
      "source": [
        "BrCOVID19Macro.shape"
      ],
      "execution_count": 25,
      "outputs": [
        {
          "output_type": "execute_result",
          "data": {
            "text/plain": [
              "(254, 7)"
            ]
          },
          "metadata": {
            "tags": []
          },
          "execution_count": 25
        }
      ]
    },
    {
      "cell_type": "code",
      "metadata": {
        "colab": {
          "base_uri": "https://localhost:8080/"
        },
        "id": "5Ie_J_PaLDA5",
        "outputId": "5515172c-73b5-4114-865f-fd023b3d0229"
      },
      "source": [
        "BrCOVID19Macro.columns"
      ],
      "execution_count": 26,
      "outputs": [
        {
          "output_type": "execute_result",
          "data": {
            "text/plain": [
              "Index(['date', 'country', 'week', 'cases', 'deaths', 'recovered',\n",
              "       'monitoring'],\n",
              "      dtype='object')"
            ]
          },
          "metadata": {
            "tags": []
          },
          "execution_count": 26
        }
      ]
    },
    {
      "cell_type": "markdown",
      "metadata": {
        "id": "0LLZCroFLdqw"
      },
      "source": [
        "Vocês já viram ao longo desta introdução à linguagem Python que há inúmeros tipos de dados. O método `.info()` permite recuperar a informação sobre os nomes das colunas em um DataFrame, bem como o tipo de dado (outras informações?). É interessante que este método retorna, inclusive, quanto de memória seu DataFrame está usando.\n"
      ]
    },
    {
      "cell_type": "code",
      "metadata": {
        "colab": {
          "base_uri": "https://localhost:8080/"
        },
        "id": "00HqRrTELcBM",
        "outputId": "ba5d76dd-342f-4afe-d435-aab0bbd48208"
      },
      "source": [
        "BrCOVID19Macro.info()"
      ],
      "execution_count": 28,
      "outputs": [
        {
          "output_type": "stream",
          "text": [
            "<class 'pandas.core.frame.DataFrame'>\n",
            "RangeIndex: 254 entries, 0 to 253\n",
            "Data columns (total 7 columns):\n",
            " #   Column      Non-Null Count  Dtype  \n",
            "---  ------      --------------  -----  \n",
            " 0   date        254 non-null    object \n",
            " 1   country     254 non-null    object \n",
            " 2   week        254 non-null    int64  \n",
            " 3   cases       254 non-null    int64  \n",
            " 4   deaths      254 non-null    int64  \n",
            " 5   recovered   200 non-null    float64\n",
            " 6   monitoring  200 non-null    float64\n",
            "dtypes: float64(2), int64(3), object(2)\n",
            "memory usage: 14.0+ KB\n"
          ],
          "name": "stdout"
        }
      ]
    },
    {
      "cell_type": "code",
      "metadata": {
        "colab": {
          "base_uri": "https://localhost:8080/"
        },
        "id": "51dA7LcfLGzo",
        "outputId": "af7ccdbe-675c-4082-9fcd-2330ae20dec5"
      },
      "source": [
        "BrCOVID19Macro['week']"
      ],
      "execution_count": 27,
      "outputs": [
        {
          "output_type": "execute_result",
          "data": {
            "text/plain": [
              "0       9\n",
              "1       9\n",
              "2       9\n",
              "3       9\n",
              "4       9\n",
              "       ..\n",
              "249    44\n",
              "250    45\n",
              "251    45\n",
              "252    45\n",
              "253    45\n",
              "Name: week, Length: 254, dtype: int64"
            ]
          },
          "metadata": {
            "tags": []
          },
          "execution_count": 27
        }
      ]
    },
    {
      "cell_type": "markdown",
      "metadata": {
        "id": "rc9Hp0cQrZbQ"
      },
      "source": [
        "Podemos selecionar apenas as primeiras 5 linhas do DataFrame."
      ]
    },
    {
      "cell_type": "code",
      "metadata": {
        "colab": {
          "base_uri": "https://localhost:8080/",
          "height": 206
        },
        "id": "j1m5eCOslTBQ",
        "outputId": "d8f9d8bf-e5f5-41d6-85fc-d8e1a1b6ea5a"
      },
      "source": [
        "BrCOVID19Macro[:5]"
      ],
      "execution_count": null,
      "outputs": [
        {
          "output_type": "execute_result",
          "data": {
            "text/html": [
              "<div>\n",
              "<style scoped>\n",
              "    .dataframe tbody tr th:only-of-type {\n",
              "        vertical-align: middle;\n",
              "    }\n",
              "\n",
              "    .dataframe tbody tr th {\n",
              "        vertical-align: top;\n",
              "    }\n",
              "\n",
              "    .dataframe thead th {\n",
              "        text-align: right;\n",
              "    }\n",
              "</style>\n",
              "<table border=\"1\" class=\"dataframe\">\n",
              "  <thead>\n",
              "    <tr style=\"text-align: right;\">\n",
              "      <th></th>\n",
              "      <th>date</th>\n",
              "      <th>country</th>\n",
              "      <th>week</th>\n",
              "      <th>cases</th>\n",
              "      <th>deaths</th>\n",
              "      <th>recovered</th>\n",
              "      <th>monitoring</th>\n",
              "    </tr>\n",
              "  </thead>\n",
              "  <tbody>\n",
              "    <tr>\n",
              "      <th>0</th>\n",
              "      <td>2020-02-25</td>\n",
              "      <td>Brasil</td>\n",
              "      <td>9</td>\n",
              "      <td>0</td>\n",
              "      <td>0</td>\n",
              "      <td>NaN</td>\n",
              "      <td>NaN</td>\n",
              "    </tr>\n",
              "    <tr>\n",
              "      <th>1</th>\n",
              "      <td>2020-02-26</td>\n",
              "      <td>Brasil</td>\n",
              "      <td>9</td>\n",
              "      <td>1</td>\n",
              "      <td>0</td>\n",
              "      <td>NaN</td>\n",
              "      <td>NaN</td>\n",
              "    </tr>\n",
              "    <tr>\n",
              "      <th>2</th>\n",
              "      <td>2020-02-27</td>\n",
              "      <td>Brasil</td>\n",
              "      <td>9</td>\n",
              "      <td>1</td>\n",
              "      <td>0</td>\n",
              "      <td>NaN</td>\n",
              "      <td>NaN</td>\n",
              "    </tr>\n",
              "    <tr>\n",
              "      <th>3</th>\n",
              "      <td>2020-02-28</td>\n",
              "      <td>Brasil</td>\n",
              "      <td>9</td>\n",
              "      <td>1</td>\n",
              "      <td>0</td>\n",
              "      <td>NaN</td>\n",
              "      <td>NaN</td>\n",
              "    </tr>\n",
              "    <tr>\n",
              "      <th>4</th>\n",
              "      <td>2020-02-29</td>\n",
              "      <td>Brasil</td>\n",
              "      <td>9</td>\n",
              "      <td>2</td>\n",
              "      <td>0</td>\n",
              "      <td>NaN</td>\n",
              "      <td>NaN</td>\n",
              "    </tr>\n",
              "  </tbody>\n",
              "</table>\n",
              "</div>"
            ],
            "text/plain": [
              "         date country  week  cases  deaths  recovered  monitoring\n",
              "0  2020-02-25  Brasil     9      0       0        NaN         NaN\n",
              "1  2020-02-26  Brasil     9      1       0        NaN         NaN\n",
              "2  2020-02-27  Brasil     9      1       0        NaN         NaN\n",
              "3  2020-02-28  Brasil     9      1       0        NaN         NaN\n",
              "4  2020-02-29  Brasil     9      2       0        NaN         NaN"
            ]
          },
          "metadata": {
            "tags": []
          },
          "execution_count": 43
        }
      ]
    },
    {
      "cell_type": "markdown",
      "metadata": {
        "id": "5p6pHAo_Sn1t"
      },
      "source": [
        "Podemos selecionar também linhas e colunas usando:\n"
      ]
    },
    {
      "cell_type": "code",
      "metadata": {
        "id": "eYXO5ERlSog5",
        "colab": {
          "base_uri": "https://localhost:8080/"
        },
        "outputId": "b5f8c6b5-1829-47da-87f3-d93788c467e9"
      },
      "source": [
        "BrCOVID19Macro['week'][:5]"
      ],
      "execution_count": null,
      "outputs": [
        {
          "output_type": "execute_result",
          "data": {
            "text/plain": [
              "0    9\n",
              "1    9\n",
              "2    9\n",
              "3    9\n",
              "4    9\n",
              "Name: week, dtype: int64"
            ]
          },
          "metadata": {
            "tags": []
          },
          "execution_count": 44
        }
      ]
    },
    {
      "cell_type": "markdown",
      "metadata": {
        "id": "GCD8dw14lylO"
      },
      "source": [
        "A ordem não importa, pois o pandas entende que o usuário está extraindo colunas com as aspas:"
      ]
    },
    {
      "cell_type": "code",
      "metadata": {
        "colab": {
          "base_uri": "https://localhost:8080/"
        },
        "id": "Oo9rDBODly5T",
        "outputId": "c78cdf93-ec87-4183-97a6-8894e9489639"
      },
      "source": [
        "BrCOVID19Macro[:5]['week']"
      ],
      "execution_count": null,
      "outputs": [
        {
          "output_type": "execute_result",
          "data": {
            "text/plain": [
              "0    9\n",
              "1    9\n",
              "2    9\n",
              "3    9\n",
              "4    9\n",
              "Name: week, dtype: int64"
            ]
          },
          "metadata": {
            "tags": []
          },
          "execution_count": 45
        }
      ]
    },
    {
      "cell_type": "code",
      "metadata": {
        "colab": {
          "base_uri": "https://localhost:8080/",
          "height": 206
        },
        "id": "8eokkvAcmEKt",
        "outputId": "1006a2ca-4e78-4301-d761-f71cafdd97f4"
      },
      "source": [
        "BrCOVID19Macro[:5][['week','cases']]"
      ],
      "execution_count": null,
      "outputs": [
        {
          "output_type": "execute_result",
          "data": {
            "text/html": [
              "<div>\n",
              "<style scoped>\n",
              "    .dataframe tbody tr th:only-of-type {\n",
              "        vertical-align: middle;\n",
              "    }\n",
              "\n",
              "    .dataframe tbody tr th {\n",
              "        vertical-align: top;\n",
              "    }\n",
              "\n",
              "    .dataframe thead th {\n",
              "        text-align: right;\n",
              "    }\n",
              "</style>\n",
              "<table border=\"1\" class=\"dataframe\">\n",
              "  <thead>\n",
              "    <tr style=\"text-align: right;\">\n",
              "      <th></th>\n",
              "      <th>week</th>\n",
              "      <th>cases</th>\n",
              "    </tr>\n",
              "  </thead>\n",
              "  <tbody>\n",
              "    <tr>\n",
              "      <th>0</th>\n",
              "      <td>9</td>\n",
              "      <td>0</td>\n",
              "    </tr>\n",
              "    <tr>\n",
              "      <th>1</th>\n",
              "      <td>9</td>\n",
              "      <td>1</td>\n",
              "    </tr>\n",
              "    <tr>\n",
              "      <th>2</th>\n",
              "      <td>9</td>\n",
              "      <td>1</td>\n",
              "    </tr>\n",
              "    <tr>\n",
              "      <th>3</th>\n",
              "      <td>9</td>\n",
              "      <td>1</td>\n",
              "    </tr>\n",
              "    <tr>\n",
              "      <th>4</th>\n",
              "      <td>9</td>\n",
              "      <td>2</td>\n",
              "    </tr>\n",
              "  </tbody>\n",
              "</table>\n",
              "</div>"
            ],
            "text/plain": [
              "   week  cases\n",
              "0     9      0\n",
              "1     9      1\n",
              "2     9      1\n",
              "3     9      1\n",
              "4     9      2"
            ]
          },
          "metadata": {
            "tags": []
          },
          "execution_count": 46
        }
      ]
    },
    {
      "cell_type": "code",
      "metadata": {
        "id": "vjFe_AZa8jBm",
        "colab": {
          "base_uri": "https://localhost:8080/",
          "height": 363
        },
        "outputId": "c72032b6-4e58-4459-c212-ad8da1767c06"
      },
      "source": [
        "# uma outra maneira de ver as primeiras linhas do DataFrame (para 10 linhas)\n",
        "BrCOVID19Macro.head(n=10)"
      ],
      "execution_count": null,
      "outputs": [
        {
          "output_type": "execute_result",
          "data": {
            "text/html": [
              "<div>\n",
              "<style scoped>\n",
              "    .dataframe tbody tr th:only-of-type {\n",
              "        vertical-align: middle;\n",
              "    }\n",
              "\n",
              "    .dataframe tbody tr th {\n",
              "        vertical-align: top;\n",
              "    }\n",
              "\n",
              "    .dataframe thead th {\n",
              "        text-align: right;\n",
              "    }\n",
              "</style>\n",
              "<table border=\"1\" class=\"dataframe\">\n",
              "  <thead>\n",
              "    <tr style=\"text-align: right;\">\n",
              "      <th></th>\n",
              "      <th>date</th>\n",
              "      <th>country</th>\n",
              "      <th>week</th>\n",
              "      <th>cases</th>\n",
              "      <th>deaths</th>\n",
              "      <th>recovered</th>\n",
              "      <th>monitoring</th>\n",
              "    </tr>\n",
              "  </thead>\n",
              "  <tbody>\n",
              "    <tr>\n",
              "      <th>0</th>\n",
              "      <td>2020-02-25</td>\n",
              "      <td>Brasil</td>\n",
              "      <td>9</td>\n",
              "      <td>0</td>\n",
              "      <td>0</td>\n",
              "      <td>NaN</td>\n",
              "      <td>NaN</td>\n",
              "    </tr>\n",
              "    <tr>\n",
              "      <th>1</th>\n",
              "      <td>2020-02-26</td>\n",
              "      <td>Brasil</td>\n",
              "      <td>9</td>\n",
              "      <td>1</td>\n",
              "      <td>0</td>\n",
              "      <td>NaN</td>\n",
              "      <td>NaN</td>\n",
              "    </tr>\n",
              "    <tr>\n",
              "      <th>2</th>\n",
              "      <td>2020-02-27</td>\n",
              "      <td>Brasil</td>\n",
              "      <td>9</td>\n",
              "      <td>1</td>\n",
              "      <td>0</td>\n",
              "      <td>NaN</td>\n",
              "      <td>NaN</td>\n",
              "    </tr>\n",
              "    <tr>\n",
              "      <th>3</th>\n",
              "      <td>2020-02-28</td>\n",
              "      <td>Brasil</td>\n",
              "      <td>9</td>\n",
              "      <td>1</td>\n",
              "      <td>0</td>\n",
              "      <td>NaN</td>\n",
              "      <td>NaN</td>\n",
              "    </tr>\n",
              "    <tr>\n",
              "      <th>4</th>\n",
              "      <td>2020-02-29</td>\n",
              "      <td>Brasil</td>\n",
              "      <td>9</td>\n",
              "      <td>2</td>\n",
              "      <td>0</td>\n",
              "      <td>NaN</td>\n",
              "      <td>NaN</td>\n",
              "    </tr>\n",
              "    <tr>\n",
              "      <th>5</th>\n",
              "      <td>2020-03-01</td>\n",
              "      <td>Brasil</td>\n",
              "      <td>10</td>\n",
              "      <td>2</td>\n",
              "      <td>0</td>\n",
              "      <td>NaN</td>\n",
              "      <td>NaN</td>\n",
              "    </tr>\n",
              "    <tr>\n",
              "      <th>6</th>\n",
              "      <td>2020-03-02</td>\n",
              "      <td>Brasil</td>\n",
              "      <td>10</td>\n",
              "      <td>2</td>\n",
              "      <td>0</td>\n",
              "      <td>NaN</td>\n",
              "      <td>NaN</td>\n",
              "    </tr>\n",
              "    <tr>\n",
              "      <th>7</th>\n",
              "      <td>2020-03-03</td>\n",
              "      <td>Brasil</td>\n",
              "      <td>10</td>\n",
              "      <td>2</td>\n",
              "      <td>0</td>\n",
              "      <td>NaN</td>\n",
              "      <td>NaN</td>\n",
              "    </tr>\n",
              "    <tr>\n",
              "      <th>8</th>\n",
              "      <td>2020-03-04</td>\n",
              "      <td>Brasil</td>\n",
              "      <td>10</td>\n",
              "      <td>3</td>\n",
              "      <td>0</td>\n",
              "      <td>NaN</td>\n",
              "      <td>NaN</td>\n",
              "    </tr>\n",
              "    <tr>\n",
              "      <th>9</th>\n",
              "      <td>2020-03-05</td>\n",
              "      <td>Brasil</td>\n",
              "      <td>10</td>\n",
              "      <td>7</td>\n",
              "      <td>0</td>\n",
              "      <td>NaN</td>\n",
              "      <td>NaN</td>\n",
              "    </tr>\n",
              "  </tbody>\n",
              "</table>\n",
              "</div>"
            ],
            "text/plain": [
              "         date country  week  cases  deaths  recovered  monitoring\n",
              "0  2020-02-25  Brasil     9      0       0        NaN         NaN\n",
              "1  2020-02-26  Brasil     9      1       0        NaN         NaN\n",
              "2  2020-02-27  Brasil     9      1       0        NaN         NaN\n",
              "3  2020-02-28  Brasil     9      1       0        NaN         NaN\n",
              "4  2020-02-29  Brasil     9      2       0        NaN         NaN\n",
              "5  2020-03-01  Brasil    10      2       0        NaN         NaN\n",
              "6  2020-03-02  Brasil    10      2       0        NaN         NaN\n",
              "7  2020-03-03  Brasil    10      2       0        NaN         NaN\n",
              "8  2020-03-04  Brasil    10      3       0        NaN         NaN\n",
              "9  2020-03-05  Brasil    10      7       0        NaN         NaN"
            ]
          },
          "metadata": {
            "tags": []
          },
          "execution_count": 47
        }
      ]
    },
    {
      "cell_type": "code",
      "metadata": {
        "colab": {
          "base_uri": "https://localhost:8080/",
          "height": 363
        },
        "id": "OGefzOO-kmcJ",
        "outputId": "b5852eb8-8569-4bea-97f1-8e6286a71b3b"
      },
      "source": [
        "BrCOVID19Macro.tail(n=10) #vendo as últimas linhas do DataFrame"
      ],
      "execution_count": null,
      "outputs": [
        {
          "output_type": "execute_result",
          "data": {
            "text/html": [
              "<div>\n",
              "<style scoped>\n",
              "    .dataframe tbody tr th:only-of-type {\n",
              "        vertical-align: middle;\n",
              "    }\n",
              "\n",
              "    .dataframe tbody tr th {\n",
              "        vertical-align: top;\n",
              "    }\n",
              "\n",
              "    .dataframe thead th {\n",
              "        text-align: right;\n",
              "    }\n",
              "</style>\n",
              "<table border=\"1\" class=\"dataframe\">\n",
              "  <thead>\n",
              "    <tr style=\"text-align: right;\">\n",
              "      <th></th>\n",
              "      <th>date</th>\n",
              "      <th>country</th>\n",
              "      <th>week</th>\n",
              "      <th>cases</th>\n",
              "      <th>deaths</th>\n",
              "      <th>recovered</th>\n",
              "      <th>monitoring</th>\n",
              "    </tr>\n",
              "  </thead>\n",
              "  <tbody>\n",
              "    <tr>\n",
              "      <th>244</th>\n",
              "      <td>2020-10-26</td>\n",
              "      <td>Brasil</td>\n",
              "      <td>44</td>\n",
              "      <td>5409854</td>\n",
              "      <td>157397</td>\n",
              "      <td>4865930.0</td>\n",
              "      <td>386527.0</td>\n",
              "    </tr>\n",
              "    <tr>\n",
              "      <th>245</th>\n",
              "      <td>2020-10-27</td>\n",
              "      <td>Brasil</td>\n",
              "      <td>44</td>\n",
              "      <td>5439641</td>\n",
              "      <td>157946</td>\n",
              "      <td>4904046.0</td>\n",
              "      <td>377649.0</td>\n",
              "    </tr>\n",
              "    <tr>\n",
              "      <th>246</th>\n",
              "      <td>2020-10-28</td>\n",
              "      <td>Brasil</td>\n",
              "      <td>44</td>\n",
              "      <td>5468270</td>\n",
              "      <td>158456</td>\n",
              "      <td>4934548.0</td>\n",
              "      <td>375266.0</td>\n",
              "    </tr>\n",
              "    <tr>\n",
              "      <th>247</th>\n",
              "      <td>2020-10-29</td>\n",
              "      <td>Brasil</td>\n",
              "      <td>44</td>\n",
              "      <td>5494376</td>\n",
              "      <td>158969</td>\n",
              "      <td>4954159.0</td>\n",
              "      <td>381248.0</td>\n",
              "    </tr>\n",
              "    <tr>\n",
              "      <th>248</th>\n",
              "      <td>2020-10-30</td>\n",
              "      <td>Brasil</td>\n",
              "      <td>44</td>\n",
              "      <td>5516658</td>\n",
              "      <td>159477</td>\n",
              "      <td>4966264.0</td>\n",
              "      <td>390917.0</td>\n",
              "    </tr>\n",
              "    <tr>\n",
              "      <th>249</th>\n",
              "      <td>2020-10-31</td>\n",
              "      <td>Brasil</td>\n",
              "      <td>44</td>\n",
              "      <td>5535605</td>\n",
              "      <td>159884</td>\n",
              "      <td>4972898.0</td>\n",
              "      <td>402823.0</td>\n",
              "    </tr>\n",
              "    <tr>\n",
              "      <th>250</th>\n",
              "      <td>2020-11-01</td>\n",
              "      <td>Brasil</td>\n",
              "      <td>45</td>\n",
              "      <td>5545705</td>\n",
              "      <td>160074</td>\n",
              "      <td>4980942.0</td>\n",
              "      <td>404689.0</td>\n",
              "    </tr>\n",
              "    <tr>\n",
              "      <th>251</th>\n",
              "      <td>2020-11-02</td>\n",
              "      <td>Brasil</td>\n",
              "      <td>45</td>\n",
              "      <td>5554206</td>\n",
              "      <td>160253</td>\n",
              "      <td>4998408.0</td>\n",
              "      <td>395545.0</td>\n",
              "    </tr>\n",
              "    <tr>\n",
              "      <th>252</th>\n",
              "      <td>2020-11-03</td>\n",
              "      <td>Brasil</td>\n",
              "      <td>45</td>\n",
              "      <td>5566049</td>\n",
              "      <td>160496</td>\n",
              "      <td>5028216.0</td>\n",
              "      <td>377337.0</td>\n",
              "    </tr>\n",
              "    <tr>\n",
              "      <th>253</th>\n",
              "      <td>2020-11-04</td>\n",
              "      <td>Brasil</td>\n",
              "      <td>45</td>\n",
              "      <td>5590025</td>\n",
              "      <td>161106</td>\n",
              "      <td>5064344.0</td>\n",
              "      <td>364575.0</td>\n",
              "    </tr>\n",
              "  </tbody>\n",
              "</table>\n",
              "</div>"
            ],
            "text/plain": [
              "           date country  week    cases  deaths  recovered  monitoring\n",
              "244  2020-10-26  Brasil    44  5409854  157397  4865930.0    386527.0\n",
              "245  2020-10-27  Brasil    44  5439641  157946  4904046.0    377649.0\n",
              "246  2020-10-28  Brasil    44  5468270  158456  4934548.0    375266.0\n",
              "247  2020-10-29  Brasil    44  5494376  158969  4954159.0    381248.0\n",
              "248  2020-10-30  Brasil    44  5516658  159477  4966264.0    390917.0\n",
              "249  2020-10-31  Brasil    44  5535605  159884  4972898.0    402823.0\n",
              "250  2020-11-01  Brasil    45  5545705  160074  4980942.0    404689.0\n",
              "251  2020-11-02  Brasil    45  5554206  160253  4998408.0    395545.0\n",
              "252  2020-11-03  Brasil    45  5566049  160496  5028216.0    377337.0\n",
              "253  2020-11-04  Brasil    45  5590025  161106  5064344.0    364575.0"
            ]
          },
          "metadata": {
            "tags": []
          },
          "execution_count": 48
        }
      ]
    },
    {
      "cell_type": "code",
      "metadata": {
        "colab": {
          "base_uri": "https://localhost:8080/",
          "height": 363
        },
        "id": "89G4d7CJmT39",
        "outputId": "7aef77f1-4df9-4b27-d9b6-22d297cfb762"
      },
      "source": [
        "# Outra maneira de olhar para as dez últimas linhas do DataFrame\n",
        "BrCOVID19Macro[-10:]"
      ],
      "execution_count": null,
      "outputs": [
        {
          "output_type": "execute_result",
          "data": {
            "text/html": [
              "<div>\n",
              "<style scoped>\n",
              "    .dataframe tbody tr th:only-of-type {\n",
              "        vertical-align: middle;\n",
              "    }\n",
              "\n",
              "    .dataframe tbody tr th {\n",
              "        vertical-align: top;\n",
              "    }\n",
              "\n",
              "    .dataframe thead th {\n",
              "        text-align: right;\n",
              "    }\n",
              "</style>\n",
              "<table border=\"1\" class=\"dataframe\">\n",
              "  <thead>\n",
              "    <tr style=\"text-align: right;\">\n",
              "      <th></th>\n",
              "      <th>date</th>\n",
              "      <th>country</th>\n",
              "      <th>week</th>\n",
              "      <th>cases</th>\n",
              "      <th>deaths</th>\n",
              "      <th>recovered</th>\n",
              "      <th>monitoring</th>\n",
              "    </tr>\n",
              "  </thead>\n",
              "  <tbody>\n",
              "    <tr>\n",
              "      <th>244</th>\n",
              "      <td>2020-10-26</td>\n",
              "      <td>Brasil</td>\n",
              "      <td>44</td>\n",
              "      <td>5409854</td>\n",
              "      <td>157397</td>\n",
              "      <td>4865930.0</td>\n",
              "      <td>386527.0</td>\n",
              "    </tr>\n",
              "    <tr>\n",
              "      <th>245</th>\n",
              "      <td>2020-10-27</td>\n",
              "      <td>Brasil</td>\n",
              "      <td>44</td>\n",
              "      <td>5439641</td>\n",
              "      <td>157946</td>\n",
              "      <td>4904046.0</td>\n",
              "      <td>377649.0</td>\n",
              "    </tr>\n",
              "    <tr>\n",
              "      <th>246</th>\n",
              "      <td>2020-10-28</td>\n",
              "      <td>Brasil</td>\n",
              "      <td>44</td>\n",
              "      <td>5468270</td>\n",
              "      <td>158456</td>\n",
              "      <td>4934548.0</td>\n",
              "      <td>375266.0</td>\n",
              "    </tr>\n",
              "    <tr>\n",
              "      <th>247</th>\n",
              "      <td>2020-10-29</td>\n",
              "      <td>Brasil</td>\n",
              "      <td>44</td>\n",
              "      <td>5494376</td>\n",
              "      <td>158969</td>\n",
              "      <td>4954159.0</td>\n",
              "      <td>381248.0</td>\n",
              "    </tr>\n",
              "    <tr>\n",
              "      <th>248</th>\n",
              "      <td>2020-10-30</td>\n",
              "      <td>Brasil</td>\n",
              "      <td>44</td>\n",
              "      <td>5516658</td>\n",
              "      <td>159477</td>\n",
              "      <td>4966264.0</td>\n",
              "      <td>390917.0</td>\n",
              "    </tr>\n",
              "    <tr>\n",
              "      <th>249</th>\n",
              "      <td>2020-10-31</td>\n",
              "      <td>Brasil</td>\n",
              "      <td>44</td>\n",
              "      <td>5535605</td>\n",
              "      <td>159884</td>\n",
              "      <td>4972898.0</td>\n",
              "      <td>402823.0</td>\n",
              "    </tr>\n",
              "    <tr>\n",
              "      <th>250</th>\n",
              "      <td>2020-11-01</td>\n",
              "      <td>Brasil</td>\n",
              "      <td>45</td>\n",
              "      <td>5545705</td>\n",
              "      <td>160074</td>\n",
              "      <td>4980942.0</td>\n",
              "      <td>404689.0</td>\n",
              "    </tr>\n",
              "    <tr>\n",
              "      <th>251</th>\n",
              "      <td>2020-11-02</td>\n",
              "      <td>Brasil</td>\n",
              "      <td>45</td>\n",
              "      <td>5554206</td>\n",
              "      <td>160253</td>\n",
              "      <td>4998408.0</td>\n",
              "      <td>395545.0</td>\n",
              "    </tr>\n",
              "    <tr>\n",
              "      <th>252</th>\n",
              "      <td>2020-11-03</td>\n",
              "      <td>Brasil</td>\n",
              "      <td>45</td>\n",
              "      <td>5566049</td>\n",
              "      <td>160496</td>\n",
              "      <td>5028216.0</td>\n",
              "      <td>377337.0</td>\n",
              "    </tr>\n",
              "    <tr>\n",
              "      <th>253</th>\n",
              "      <td>2020-11-04</td>\n",
              "      <td>Brasil</td>\n",
              "      <td>45</td>\n",
              "      <td>5590025</td>\n",
              "      <td>161106</td>\n",
              "      <td>5064344.0</td>\n",
              "      <td>364575.0</td>\n",
              "    </tr>\n",
              "  </tbody>\n",
              "</table>\n",
              "</div>"
            ],
            "text/plain": [
              "           date country  week    cases  deaths  recovered  monitoring\n",
              "244  2020-10-26  Brasil    44  5409854  157397  4865930.0    386527.0\n",
              "245  2020-10-27  Brasil    44  5439641  157946  4904046.0    377649.0\n",
              "246  2020-10-28  Brasil    44  5468270  158456  4934548.0    375266.0\n",
              "247  2020-10-29  Brasil    44  5494376  158969  4954159.0    381248.0\n",
              "248  2020-10-30  Brasil    44  5516658  159477  4966264.0    390917.0\n",
              "249  2020-10-31  Brasil    44  5535605  159884  4972898.0    402823.0\n",
              "250  2020-11-01  Brasil    45  5545705  160074  4980942.0    404689.0\n",
              "251  2020-11-02  Brasil    45  5554206  160253  4998408.0    395545.0\n",
              "252  2020-11-03  Brasil    45  5566049  160496  5028216.0    377337.0\n",
              "253  2020-11-04  Brasil    45  5590025  161106  5064344.0    364575.0"
            ]
          },
          "metadata": {
            "tags": []
          },
          "execution_count": 56
        }
      ]
    },
    {
      "cell_type": "markdown",
      "metadata": {
        "id": "Xmo_p-j5n0uy"
      },
      "source": [
        "Eventualmente, você pode querer contar o número de ocorrências de um determinado valor no `DataFrame`"
      ]
    },
    {
      "cell_type": "code",
      "metadata": {
        "colab": {
          "base_uri": "https://localhost:8080/"
        },
        "id": "UY_wmoMOn07c",
        "outputId": "70126d4a-cc10-4d0b-f70a-d40f40687af1"
      },
      "source": [
        "BrCOVID19Macro['country'].value_counts()"
      ],
      "execution_count": null,
      "outputs": [
        {
          "output_type": "execute_result",
          "data": {
            "text/plain": [
              "Brasil    254\n",
              "Name: country, dtype: int64"
            ]
          },
          "metadata": {
            "tags": []
          },
          "execution_count": 57
        }
      ]
    },
    {
      "cell_type": "code",
      "metadata": {
        "colab": {
          "base_uri": "https://localhost:8080/"
        },
        "id": "MG_UUBb1ojkr",
        "outputId": "9cd342ee-c61f-4191-f975-42d0b3205602"
      },
      "source": [
        "BrCOVID19Macro['cases'].value_counts()"
      ],
      "execution_count": null,
      "outputs": [
        {
          "output_type": "execute_result",
          "data": {
            "text/plain": [
              "2          4\n",
              "1          3\n",
              "25         2\n",
              "96396      1\n",
              "3908272    1\n",
              "          ..\n",
              "310087     1\n",
              "772416     1\n",
              "3903       1\n",
              "3057470    1\n",
              "0          1\n",
              "Name: cases, Length: 248, dtype: int64"
            ]
          },
          "metadata": {
            "tags": []
          },
          "execution_count": 58
        }
      ]
    },
    {
      "cell_type": "markdown",
      "metadata": {
        "id": "bXaEhZgZpEbe"
      },
      "source": [
        "Selecionando as linhas do DataFrame para determinado valor em uma coluna. Por exemplo, suponha que a gente queira recuperar os dados de casos e mortes de COVID-19 na 44ª semana:"
      ]
    },
    {
      "cell_type": "code",
      "metadata": {
        "colab": {
          "base_uri": "https://localhost:8080/",
          "height": 49
        },
        "id": "9dNjGYWupVyl",
        "outputId": "8459f856-25a5-4753-e851-28685dfa2b91"
      },
      "source": [
        "BrCOVID19Macro[BrCOVID19Macro['week'] == '44']"
      ],
      "execution_count": null,
      "outputs": [
        {
          "output_type": "execute_result",
          "data": {
            "text/html": [
              "<div>\n",
              "<style scoped>\n",
              "    .dataframe tbody tr th:only-of-type {\n",
              "        vertical-align: middle;\n",
              "    }\n",
              "\n",
              "    .dataframe tbody tr th {\n",
              "        vertical-align: top;\n",
              "    }\n",
              "\n",
              "    .dataframe thead th {\n",
              "        text-align: right;\n",
              "    }\n",
              "</style>\n",
              "<table border=\"1\" class=\"dataframe\">\n",
              "  <thead>\n",
              "    <tr style=\"text-align: right;\">\n",
              "      <th></th>\n",
              "      <th>date</th>\n",
              "      <th>country</th>\n",
              "      <th>week</th>\n",
              "      <th>cases</th>\n",
              "      <th>deaths</th>\n",
              "      <th>recovered</th>\n",
              "      <th>monitoring</th>\n",
              "    </tr>\n",
              "  </thead>\n",
              "  <tbody>\n",
              "  </tbody>\n",
              "</table>\n",
              "</div>"
            ],
            "text/plain": [
              "Empty DataFrame\n",
              "Columns: [date, country, week, cases, deaths, recovered, monitoring]\n",
              "Index: []"
            ]
          },
          "metadata": {
            "tags": []
          },
          "execution_count": 6
        }
      ]
    },
    {
      "cell_type": "markdown",
      "metadata": {
        "id": "36e7X66mpnJ0"
      },
      "source": [
        "Por que não é retornado nenhum valor para a seleção?\n",
        "Porque o tipo de dado está representado como número e não como string:"
      ]
    },
    {
      "cell_type": "code",
      "metadata": {
        "colab": {
          "base_uri": "https://localhost:8080/"
        },
        "id": "zSOWPItfqFUl",
        "outputId": "23ebd9b5-4175-40e1-c2ec-3c374f66b436"
      },
      "source": [
        "BrCOVID19Macro['week'].dtype"
      ],
      "execution_count": null,
      "outputs": [
        {
          "output_type": "execute_result",
          "data": {
            "text/plain": [
              "dtype('int64')"
            ]
          },
          "metadata": {
            "tags": []
          },
          "execution_count": 63
        }
      ]
    },
    {
      "cell_type": "code",
      "metadata": {
        "colab": {
          "base_uri": "https://localhost:8080/"
        },
        "id": "ESFH-GfvmfOR",
        "outputId": "f11bb466-fd09-4194-adfd-0e1c49687ece"
      },
      "source": [
        "BrCOVID19Macro['week'] == '44'"
      ],
      "execution_count": null,
      "outputs": [
        {
          "output_type": "execute_result",
          "data": {
            "text/plain": [
              "0      False\n",
              "1      False\n",
              "2      False\n",
              "3      False\n",
              "4      False\n",
              "       ...  \n",
              "249    False\n",
              "250    False\n",
              "251    False\n",
              "252    False\n",
              "253    False\n",
              "Name: week, Length: 254, dtype: bool"
            ]
          },
          "metadata": {
            "tags": []
          },
          "execution_count": 7
        }
      ]
    },
    {
      "cell_type": "code",
      "metadata": {
        "colab": {
          "base_uri": "https://localhost:8080/"
        },
        "id": "-HWYdWYtqJC3",
        "outputId": "bd9e481e-bb28-4812-9610-cd02e23d714e"
      },
      "source": [
        "# Por que não é a função `type` ? Porque ela recupera o tipo de objeto (Series) e não dos dados naquela coluna.\n",
        "type(BrCOVID19Macro.week)"
      ],
      "execution_count": null,
      "outputs": [
        {
          "output_type": "execute_result",
          "data": {
            "text/plain": [
              "pandas.core.series.Series"
            ]
          },
          "metadata": {
            "tags": []
          },
          "execution_count": 65
        }
      ]
    },
    {
      "cell_type": "code",
      "metadata": {
        "colab": {
          "base_uri": "https://localhost:8080/",
          "height": 269
        },
        "id": "d2bmH5BMpElz",
        "outputId": "ebf9f0d2-ae82-4ca4-956f-926306394193"
      },
      "source": [
        "BrCOVID19Macro[BrCOVID19Macro['week'] == 44]"
      ],
      "execution_count": null,
      "outputs": [
        {
          "output_type": "execute_result",
          "data": {
            "text/html": [
              "<div>\n",
              "<style scoped>\n",
              "    .dataframe tbody tr th:only-of-type {\n",
              "        vertical-align: middle;\n",
              "    }\n",
              "\n",
              "    .dataframe tbody tr th {\n",
              "        vertical-align: top;\n",
              "    }\n",
              "\n",
              "    .dataframe thead th {\n",
              "        text-align: right;\n",
              "    }\n",
              "</style>\n",
              "<table border=\"1\" class=\"dataframe\">\n",
              "  <thead>\n",
              "    <tr style=\"text-align: right;\">\n",
              "      <th></th>\n",
              "      <th>date</th>\n",
              "      <th>country</th>\n",
              "      <th>week</th>\n",
              "      <th>cases</th>\n",
              "      <th>deaths</th>\n",
              "      <th>recovered</th>\n",
              "      <th>monitoring</th>\n",
              "    </tr>\n",
              "  </thead>\n",
              "  <tbody>\n",
              "    <tr>\n",
              "      <th>243</th>\n",
              "      <td>2020-10-25</td>\n",
              "      <td>Brasil</td>\n",
              "      <td>44</td>\n",
              "      <td>5394128</td>\n",
              "      <td>157134</td>\n",
              "      <td>4835915.0</td>\n",
              "      <td>401079.0</td>\n",
              "    </tr>\n",
              "    <tr>\n",
              "      <th>244</th>\n",
              "      <td>2020-10-26</td>\n",
              "      <td>Brasil</td>\n",
              "      <td>44</td>\n",
              "      <td>5409854</td>\n",
              "      <td>157397</td>\n",
              "      <td>4865930.0</td>\n",
              "      <td>386527.0</td>\n",
              "    </tr>\n",
              "    <tr>\n",
              "      <th>245</th>\n",
              "      <td>2020-10-27</td>\n",
              "      <td>Brasil</td>\n",
              "      <td>44</td>\n",
              "      <td>5439641</td>\n",
              "      <td>157946</td>\n",
              "      <td>4904046.0</td>\n",
              "      <td>377649.0</td>\n",
              "    </tr>\n",
              "    <tr>\n",
              "      <th>246</th>\n",
              "      <td>2020-10-28</td>\n",
              "      <td>Brasil</td>\n",
              "      <td>44</td>\n",
              "      <td>5468270</td>\n",
              "      <td>158456</td>\n",
              "      <td>4934548.0</td>\n",
              "      <td>375266.0</td>\n",
              "    </tr>\n",
              "    <tr>\n",
              "      <th>247</th>\n",
              "      <td>2020-10-29</td>\n",
              "      <td>Brasil</td>\n",
              "      <td>44</td>\n",
              "      <td>5494376</td>\n",
              "      <td>158969</td>\n",
              "      <td>4954159.0</td>\n",
              "      <td>381248.0</td>\n",
              "    </tr>\n",
              "    <tr>\n",
              "      <th>248</th>\n",
              "      <td>2020-10-30</td>\n",
              "      <td>Brasil</td>\n",
              "      <td>44</td>\n",
              "      <td>5516658</td>\n",
              "      <td>159477</td>\n",
              "      <td>4966264.0</td>\n",
              "      <td>390917.0</td>\n",
              "    </tr>\n",
              "    <tr>\n",
              "      <th>249</th>\n",
              "      <td>2020-10-31</td>\n",
              "      <td>Brasil</td>\n",
              "      <td>44</td>\n",
              "      <td>5535605</td>\n",
              "      <td>159884</td>\n",
              "      <td>4972898.0</td>\n",
              "      <td>402823.0</td>\n",
              "    </tr>\n",
              "  </tbody>\n",
              "</table>\n",
              "</div>"
            ],
            "text/plain": [
              "           date country  week    cases  deaths  recovered  monitoring\n",
              "243  2020-10-25  Brasil    44  5394128  157134  4835915.0    401079.0\n",
              "244  2020-10-26  Brasil    44  5409854  157397  4865930.0    386527.0\n",
              "245  2020-10-27  Brasil    44  5439641  157946  4904046.0    377649.0\n",
              "246  2020-10-28  Brasil    44  5468270  158456  4934548.0    375266.0\n",
              "247  2020-10-29  Brasil    44  5494376  158969  4954159.0    381248.0\n",
              "248  2020-10-30  Brasil    44  5516658  159477  4966264.0    390917.0\n",
              "249  2020-10-31  Brasil    44  5535605  159884  4972898.0    402823.0"
            ]
          },
          "metadata": {
            "tags": []
          },
          "execution_count": 60
        }
      ]
    },
    {
      "cell_type": "code",
      "metadata": {
        "colab": {
          "base_uri": "https://localhost:8080/"
        },
        "id": "NbKZogSKmkbC",
        "outputId": "64af8dbf-8f4b-4194-bc94-9dd35a6baf83"
      },
      "source": [
        "BrCOVID19Macro['week'] == 44"
      ],
      "execution_count": null,
      "outputs": [
        {
          "output_type": "execute_result",
          "data": {
            "text/plain": [
              "0      False\n",
              "1      False\n",
              "2      False\n",
              "3      False\n",
              "4      False\n",
              "       ...  \n",
              "249     True\n",
              "250    False\n",
              "251    False\n",
              "252    False\n",
              "253    False\n",
              "Name: week, Length: 254, dtype: bool"
            ]
          },
          "metadata": {
            "tags": []
          },
          "execution_count": 8
        }
      ]
    },
    {
      "cell_type": "markdown",
      "metadata": {
        "id": "uimRjo4BnGq9"
      },
      "source": [
        "Imaginem que a gente queira também filtrar com base no número de casos.\n",
        "Vamos selecionar novamente a semana #44, mas apenas os dias em que o número de casos esteve acima de 5,5 milhões:"
      ]
    },
    {
      "cell_type": "code",
      "metadata": {
        "colab": {
          "base_uri": "https://localhost:8080/",
          "height": 206
        },
        "id": "_FRidnzkm5aS",
        "outputId": "c56864ec-8125-43e1-c5ff-067f2f27d459"
      },
      "source": [
        "semanas = BrCOVID19Macro['week'] == 44\n",
        "casos = BrCOVID19Macro['cases'] < 5500000\n",
        "BrCOVID19Macro[semanas & casos]"
      ],
      "execution_count": null,
      "outputs": [
        {
          "output_type": "execute_result",
          "data": {
            "text/html": [
              "<div>\n",
              "<style scoped>\n",
              "    .dataframe tbody tr th:only-of-type {\n",
              "        vertical-align: middle;\n",
              "    }\n",
              "\n",
              "    .dataframe tbody tr th {\n",
              "        vertical-align: top;\n",
              "    }\n",
              "\n",
              "    .dataframe thead th {\n",
              "        text-align: right;\n",
              "    }\n",
              "</style>\n",
              "<table border=\"1\" class=\"dataframe\">\n",
              "  <thead>\n",
              "    <tr style=\"text-align: right;\">\n",
              "      <th></th>\n",
              "      <th>date</th>\n",
              "      <th>country</th>\n",
              "      <th>week</th>\n",
              "      <th>cases</th>\n",
              "      <th>deaths</th>\n",
              "      <th>recovered</th>\n",
              "      <th>monitoring</th>\n",
              "    </tr>\n",
              "  </thead>\n",
              "  <tbody>\n",
              "    <tr>\n",
              "      <th>243</th>\n",
              "      <td>2020-10-25</td>\n",
              "      <td>Brasil</td>\n",
              "      <td>44</td>\n",
              "      <td>5394128</td>\n",
              "      <td>157134</td>\n",
              "      <td>4835915.0</td>\n",
              "      <td>401079.0</td>\n",
              "    </tr>\n",
              "    <tr>\n",
              "      <th>244</th>\n",
              "      <td>2020-10-26</td>\n",
              "      <td>Brasil</td>\n",
              "      <td>44</td>\n",
              "      <td>5409854</td>\n",
              "      <td>157397</td>\n",
              "      <td>4865930.0</td>\n",
              "      <td>386527.0</td>\n",
              "    </tr>\n",
              "    <tr>\n",
              "      <th>245</th>\n",
              "      <td>2020-10-27</td>\n",
              "      <td>Brasil</td>\n",
              "      <td>44</td>\n",
              "      <td>5439641</td>\n",
              "      <td>157946</td>\n",
              "      <td>4904046.0</td>\n",
              "      <td>377649.0</td>\n",
              "    </tr>\n",
              "    <tr>\n",
              "      <th>246</th>\n",
              "      <td>2020-10-28</td>\n",
              "      <td>Brasil</td>\n",
              "      <td>44</td>\n",
              "      <td>5468270</td>\n",
              "      <td>158456</td>\n",
              "      <td>4934548.0</td>\n",
              "      <td>375266.0</td>\n",
              "    </tr>\n",
              "    <tr>\n",
              "      <th>247</th>\n",
              "      <td>2020-10-29</td>\n",
              "      <td>Brasil</td>\n",
              "      <td>44</td>\n",
              "      <td>5494376</td>\n",
              "      <td>158969</td>\n",
              "      <td>4954159.0</td>\n",
              "      <td>381248.0</td>\n",
              "    </tr>\n",
              "  </tbody>\n",
              "</table>\n",
              "</div>"
            ],
            "text/plain": [
              "           date country  week    cases  deaths  recovered  monitoring\n",
              "243  2020-10-25  Brasil    44  5394128  157134  4835915.0    401079.0\n",
              "244  2020-10-26  Brasil    44  5409854  157397  4865930.0    386527.0\n",
              "245  2020-10-27  Brasil    44  5439641  157946  4904046.0    377649.0\n",
              "246  2020-10-28  Brasil    44  5468270  158456  4934548.0    375266.0\n",
              "247  2020-10-29  Brasil    44  5494376  158969  4954159.0    381248.0"
            ]
          },
          "metadata": {
            "tags": []
          },
          "execution_count": 13
        }
      ]
    },
    {
      "cell_type": "markdown",
      "metadata": {
        "id": "FQQhGBxprxuY"
      },
      "source": [
        ""
      ]
    },
    {
      "cell_type": "code",
      "metadata": {
        "colab": {
          "base_uri": "https://localhost:8080/",
          "height": 293
        },
        "id": "vEwCRSovrx7F",
        "outputId": "d12fb367-2970-4dc4-c262-8eba1f8613fe"
      },
      "source": [
        "BrCOVID19Macro[semanas & casos]['cases'].plot()"
      ],
      "execution_count": null,
      "outputs": [
        {
          "output_type": "execute_result",
          "data": {
            "text/plain": [
              "<matplotlib.axes._subplots.AxesSubplot at 0x7f0e67489a20>"
            ]
          },
          "metadata": {
            "tags": []
          },
          "execution_count": 17
        },
        {
          "output_type": "display_data",
          "data": {
            "image/png": "[encoded data removed]",
            "text/plain": [
              "<Figure size 432x288 with 1 Axes>"
            ]
          },
          "metadata": {
            "tags": [],
            "needs_background": "light"
          }
        }
      ]
    },
    {
      "cell_type": "markdown",
      "metadata": {
        "id": "dgk1YZrDoHLq"
      },
      "source": [
        "Como nós já sabemos desde o início que os dados são de casos no Brasil e nesta seleção final do DataFrame nós estamos focamos na semana #44, não é necessário que estas informações apareçam no resultado. Podemos selecionar apenas as colunas que nos interessam:"
      ]
    },
    {
      "cell_type": "code",
      "metadata": {
        "colab": {
          "base_uri": "https://localhost:8080/",
          "height": 206
        },
        "id": "e2xW8efYoHWZ",
        "outputId": "4fd9689c-027d-4533-8788-e58b4439c32f"
      },
      "source": [
        "semanas = BrCOVID19Macro['week'] == 44\n",
        "casos = BrCOVID19Macro['cases'] < 5500000\n",
        "BrCOVID19Macro[semanas & casos][['date','cases','deaths','recovered','monitoring']]"
      ],
      "execution_count": null,
      "outputs": [
        {
          "output_type": "execute_result",
          "data": {
            "text/html": [
              "<div>\n",
              "<style scoped>\n",
              "    .dataframe tbody tr th:only-of-type {\n",
              "        vertical-align: middle;\n",
              "    }\n",
              "\n",
              "    .dataframe tbody tr th {\n",
              "        vertical-align: top;\n",
              "    }\n",
              "\n",
              "    .dataframe thead th {\n",
              "        text-align: right;\n",
              "    }\n",
              "</style>\n",
              "<table border=\"1\" class=\"dataframe\">\n",
              "  <thead>\n",
              "    <tr style=\"text-align: right;\">\n",
              "      <th></th>\n",
              "      <th>date</th>\n",
              "      <th>cases</th>\n",
              "      <th>deaths</th>\n",
              "      <th>recovered</th>\n",
              "      <th>monitoring</th>\n",
              "    </tr>\n",
              "  </thead>\n",
              "  <tbody>\n",
              "    <tr>\n",
              "      <th>243</th>\n",
              "      <td>2020-10-25</td>\n",
              "      <td>5394128</td>\n",
              "      <td>157134</td>\n",
              "      <td>4835915.0</td>\n",
              "      <td>401079.0</td>\n",
              "    </tr>\n",
              "    <tr>\n",
              "      <th>244</th>\n",
              "      <td>2020-10-26</td>\n",
              "      <td>5409854</td>\n",
              "      <td>157397</td>\n",
              "      <td>4865930.0</td>\n",
              "      <td>386527.0</td>\n",
              "    </tr>\n",
              "    <tr>\n",
              "      <th>245</th>\n",
              "      <td>2020-10-27</td>\n",
              "      <td>5439641</td>\n",
              "      <td>157946</td>\n",
              "      <td>4904046.0</td>\n",
              "      <td>377649.0</td>\n",
              "    </tr>\n",
              "    <tr>\n",
              "      <th>246</th>\n",
              "      <td>2020-10-28</td>\n",
              "      <td>5468270</td>\n",
              "      <td>158456</td>\n",
              "      <td>4934548.0</td>\n",
              "      <td>375266.0</td>\n",
              "    </tr>\n",
              "    <tr>\n",
              "      <th>247</th>\n",
              "      <td>2020-10-29</td>\n",
              "      <td>5494376</td>\n",
              "      <td>158969</td>\n",
              "      <td>4954159.0</td>\n",
              "      <td>381248.0</td>\n",
              "    </tr>\n",
              "  </tbody>\n",
              "</table>\n",
              "</div>"
            ],
            "text/plain": [
              "           date    cases  deaths  recovered  monitoring\n",
              "243  2020-10-25  5394128  157134  4835915.0    401079.0\n",
              "244  2020-10-26  5409854  157397  4865930.0    386527.0\n",
              "245  2020-10-27  5439641  157946  4904046.0    377649.0\n",
              "246  2020-10-28  5468270  158456  4934548.0    375266.0\n",
              "247  2020-10-29  5494376  158969  4954159.0    381248.0"
            ]
          },
          "metadata": {
            "tags": []
          },
          "execution_count": 14
        }
      ]
    },
    {
      "cell_type": "markdown",
      "metadata": {
        "id": "1yrlBOe5osO5"
      },
      "source": [
        "Por que não selecionar ainda um número de linhas menor?"
      ]
    },
    {
      "cell_type": "code",
      "metadata": {
        "colab": {
          "base_uri": "https://localhost:8080/",
          "height": 112
        },
        "id": "3--Z-MCDosdc",
        "outputId": "0b594d9a-1a09-40f5-ea39-90e5563b9b5e"
      },
      "source": [
        "semanas = BrCOVID19Macro['week'] == 44\n",
        "casos = BrCOVID19Macro['cases'] < 5500000\n",
        "BrCOVID19Macro[semanas & casos][['date','cases','deaths','recovered','monitoring']][:2]"
      ],
      "execution_count": null,
      "outputs": [
        {
          "output_type": "execute_result",
          "data": {
            "text/html": [
              "<div>\n",
              "<style scoped>\n",
              "    .dataframe tbody tr th:only-of-type {\n",
              "        vertical-align: middle;\n",
              "    }\n",
              "\n",
              "    .dataframe tbody tr th {\n",
              "        vertical-align: top;\n",
              "    }\n",
              "\n",
              "    .dataframe thead th {\n",
              "        text-align: right;\n",
              "    }\n",
              "</style>\n",
              "<table border=\"1\" class=\"dataframe\">\n",
              "  <thead>\n",
              "    <tr style=\"text-align: right;\">\n",
              "      <th></th>\n",
              "      <th>date</th>\n",
              "      <th>cases</th>\n",
              "      <th>deaths</th>\n",
              "      <th>recovered</th>\n",
              "      <th>monitoring</th>\n",
              "    </tr>\n",
              "  </thead>\n",
              "  <tbody>\n",
              "    <tr>\n",
              "      <th>243</th>\n",
              "      <td>2020-10-25</td>\n",
              "      <td>5394128</td>\n",
              "      <td>157134</td>\n",
              "      <td>4835915.0</td>\n",
              "      <td>401079.0</td>\n",
              "    </tr>\n",
              "    <tr>\n",
              "      <th>244</th>\n",
              "      <td>2020-10-26</td>\n",
              "      <td>5409854</td>\n",
              "      <td>157397</td>\n",
              "      <td>4865930.0</td>\n",
              "      <td>386527.0</td>\n",
              "    </tr>\n",
              "  </tbody>\n",
              "</table>\n",
              "</div>"
            ],
            "text/plain": [
              "           date    cases  deaths  recovered  monitoring\n",
              "243  2020-10-25  5394128  157134  4835915.0    401079.0\n",
              "244  2020-10-26  5409854  157397  4865930.0    386527.0"
            ]
          },
          "metadata": {
            "tags": []
          },
          "execution_count": 15
        }
      ]
    },
    {
      "cell_type": "markdown",
      "metadata": {
        "id": "O6OFCD5sv51z"
      },
      "source": [
        "Vamos voltar a olhar para o nosso DataFrame original.\n",
        "Plotando o número de casos de COVID-19 do início da pandemia até o início de novembro/2020"
      ]
    },
    {
      "cell_type": "code",
      "metadata": {
        "colab": {
          "base_uri": "https://localhost:8080/",
          "height": 293
        },
        "id": "fndMgLb1v6BS",
        "outputId": "6c48b2b9-f6fd-4d86-f371-f123fb439273"
      },
      "source": [
        "BrCOVID19Macro['cases'].plot()"
      ],
      "execution_count": null,
      "outputs": [
        {
          "output_type": "execute_result",
          "data": {
            "text/plain": [
              "<matplotlib.axes._subplots.AxesSubplot at 0x7f0e66fcf358>"
            ]
          },
          "metadata": {
            "tags": []
          },
          "execution_count": 18
        },
        {
          "output_type": "display_data",
          "data": {
            "image/png": "[encoded data removed]",
            "text/plain": [
              "<Figure size 432x288 with 1 Axes>"
            ]
          },
          "metadata": {
            "tags": [],
            "needs_background": "light"
          }
        }
      ]
    },
    {
      "cell_type": "markdown",
      "metadata": {
        "id": "nSrxjnrNxQR7"
      },
      "source": [
        "Um método bastante interessante que é usado em DataFrame é o `.groupby()`\n",
        "Ele permite agrupar dados de interesse do usuário. A documentação deste método em pandas está [aqui](https://pandas.pydata.org/pandas-docs/stable/user_guide/groupby.html).\n",
        "\n",
        "(para quem tem familiaridade com SQL, esta linguagem tem funcionalidades muito semelhantes)"
      ]
    },
    {
      "cell_type": "markdown",
      "metadata": {
        "id": "HTL3t7R8yt27"
      },
      "source": [
        "Em vez de fazer uma análise para cada dia desde o início da pandemia, façamos uma análise por semana:"
      ]
    },
    {
      "cell_type": "code",
      "metadata": {
        "colab": {
          "base_uri": "https://localhost:8080/",
          "height": 1000
        },
        "id": "0dSoVhFfxQe2",
        "outputId": "fa0edd8d-4543-44a0-8f77-831f2202ecd8"
      },
      "source": [
        "BrCOVID19Macro.groupby('week').aggregate(sum)"
      ],
      "execution_count": null,
      "outputs": [
        {
          "output_type": "execute_result",
          "data": {
            "text/html": [
              "<div>\n",
              "<style scoped>\n",
              "    .dataframe tbody tr th:only-of-type {\n",
              "        vertical-align: middle;\n",
              "    }\n",
              "\n",
              "    .dataframe tbody tr th {\n",
              "        vertical-align: top;\n",
              "    }\n",
              "\n",
              "    .dataframe thead th {\n",
              "        text-align: right;\n",
              "    }\n",
              "</style>\n",
              "<table border=\"1\" class=\"dataframe\">\n",
              "  <thead>\n",
              "    <tr style=\"text-align: right;\">\n",
              "      <th></th>\n",
              "      <th>cases</th>\n",
              "      <th>deaths</th>\n",
              "      <th>recovered</th>\n",
              "      <th>monitoring</th>\n",
              "    </tr>\n",
              "    <tr>\n",
              "      <th>week</th>\n",
              "      <th></th>\n",
              "      <th></th>\n",
              "      <th></th>\n",
              "      <th></th>\n",
              "    </tr>\n",
              "  </thead>\n",
              "  <tbody>\n",
              "    <tr>\n",
              "      <th>9</th>\n",
              "      <td>5</td>\n",
              "      <td>0</td>\n",
              "      <td>0.0</td>\n",
              "      <td>0.0</td>\n",
              "    </tr>\n",
              "    <tr>\n",
              "      <th>10</th>\n",
              "      <td>48</td>\n",
              "      <td>0</td>\n",
              "      <td>0.0</td>\n",
              "      <td>0.0</td>\n",
              "    </tr>\n",
              "    <tr>\n",
              "      <th>11</th>\n",
              "      <td>432</td>\n",
              "      <td>0</td>\n",
              "      <td>0.0</td>\n",
              "      <td>0.0</td>\n",
              "    </tr>\n",
              "    <tr>\n",
              "      <th>12</th>\n",
              "      <td>3806</td>\n",
              "      <td>40</td>\n",
              "      <td>0.0</td>\n",
              "      <td>0.0</td>\n",
              "    </tr>\n",
              "    <tr>\n",
              "      <th>13</th>\n",
              "      <td>18306</td>\n",
              "      <td>445</td>\n",
              "      <td>0.0</td>\n",
              "      <td>0.0</td>\n",
              "    </tr>\n",
              "    <tr>\n",
              "      <th>14</th>\n",
              "      <td>48630</td>\n",
              "      <td>1827</td>\n",
              "      <td>0.0</td>\n",
              "      <td>0.0</td>\n",
              "    </tr>\n",
              "    <tr>\n",
              "      <th>15</th>\n",
              "      <td>111052</td>\n",
              "      <td>5627</td>\n",
              "      <td>0.0</td>\n",
              "      <td>0.0</td>\n",
              "    </tr>\n",
              "    <tr>\n",
              "      <th>16</th>\n",
              "      <td>199887</td>\n",
              "      <td>12231</td>\n",
              "      <td>0.0</td>\n",
              "      <td>0.0</td>\n",
              "    </tr>\n",
              "    <tr>\n",
              "      <th>17</th>\n",
              "      <td>329067</td>\n",
              "      <td>21683</td>\n",
              "      <td>178152.0</td>\n",
              "      <td>129232.0</td>\n",
              "    </tr>\n",
              "    <tr>\n",
              "      <th>18</th>\n",
              "      <td>551512</td>\n",
              "      <td>38185</td>\n",
              "      <td>242881.0</td>\n",
              "      <td>270873.0</td>\n",
              "    </tr>\n",
              "    <tr>\n",
              "      <th>19</th>\n",
              "      <td>885233</td>\n",
              "      <td>60470</td>\n",
              "      <td>364100.0</td>\n",
              "      <td>460660.0</td>\n",
              "    </tr>\n",
              "    <tr>\n",
              "      <th>20</th>\n",
              "      <td>1351876</td>\n",
              "      <td>92634</td>\n",
              "      <td>537483.0</td>\n",
              "      <td>721762.0</td>\n",
              "    </tr>\n",
              "    <tr>\n",
              "      <th>21</th>\n",
              "      <td>2046882</td>\n",
              "      <td>132846</td>\n",
              "      <td>822035.0</td>\n",
              "      <td>1091999.0</td>\n",
              "    </tr>\n",
              "    <tr>\n",
              "      <th>22</th>\n",
              "      <td>2942996</td>\n",
              "      <td>179715</td>\n",
              "      <td>1196956.0</td>\n",
              "      <td>1566325.0</td>\n",
              "    </tr>\n",
              "    <tr>\n",
              "      <th>23</th>\n",
              "      <td>4113604</td>\n",
              "      <td>227975</td>\n",
              "      <td>1678942.0</td>\n",
              "      <td>2206687.0</td>\n",
              "    </tr>\n",
              "    <tr>\n",
              "      <th>24</th>\n",
              "      <td>5393241</td>\n",
              "      <td>277142</td>\n",
              "      <td>2300354.0</td>\n",
              "      <td>2815745.0</td>\n",
              "    </tr>\n",
              "    <tr>\n",
              "      <th>25</th>\n",
              "      <td>6713095</td>\n",
              "      <td>325720</td>\n",
              "      <td>3215983.0</td>\n",
              "      <td>3171392.0</td>\n",
              "    </tr>\n",
              "    <tr>\n",
              "      <th>26</th>\n",
              "      <td>8342800</td>\n",
              "      <td>376365</td>\n",
              "      <td>4471448.0</td>\n",
              "      <td>3494987.0</td>\n",
              "    </tr>\n",
              "    <tr>\n",
              "      <th>27</th>\n",
              "      <td>10176075</td>\n",
              "      <td>425485</td>\n",
              "      <td>5705763.0</td>\n",
              "      <td>4044827.0</td>\n",
              "    </tr>\n",
              "    <tr>\n",
              "      <th>28</th>\n",
              "      <td>12004544</td>\n",
              "      <td>476110</td>\n",
              "      <td>7065135.0</td>\n",
              "      <td>4463299.0</td>\n",
              "    </tr>\n",
              "    <tr>\n",
              "      <th>29</th>\n",
              "      <td>13776559</td>\n",
              "      <td>527743</td>\n",
              "      <td>8702539.0</td>\n",
              "      <td>4546277.0</td>\n",
              "    </tr>\n",
              "    <tr>\n",
              "      <th>30</th>\n",
              "      <td>15629557</td>\n",
              "      <td>579635</td>\n",
              "      <td>10558537.0</td>\n",
              "      <td>4491385.0</td>\n",
              "    </tr>\n",
              "    <tr>\n",
              "      <th>31</th>\n",
              "      <td>17877386</td>\n",
              "      <td>630596</td>\n",
              "      <td>12344129.0</td>\n",
              "      <td>4902661.0</td>\n",
              "    </tr>\n",
              "    <tr>\n",
              "      <th>32</th>\n",
              "      <td>20030579</td>\n",
              "      <td>680370</td>\n",
              "      <td>14031003.0</td>\n",
              "      <td>5369817.0</td>\n",
              "    </tr>\n",
              "    <tr>\n",
              "      <th>33</th>\n",
              "      <td>22184799</td>\n",
              "      <td>729246</td>\n",
              "      <td>15980087.0</td>\n",
              "      <td>5475466.0</td>\n",
              "    </tr>\n",
              "    <tr>\n",
              "      <th>34</th>\n",
              "      <td>24180440</td>\n",
              "      <td>777288</td>\n",
              "      <td>18114183.0</td>\n",
              "      <td>5288969.0</td>\n",
              "    </tr>\n",
              "    <tr>\n",
              "      <th>35</th>\n",
              "      <td>26028142</td>\n",
              "      <td>822913</td>\n",
              "      <td>20205712.0</td>\n",
              "      <td>4999516.0</td>\n",
              "    </tr>\n",
              "    <tr>\n",
              "      <th>36</th>\n",
              "      <td>27976849</td>\n",
              "      <td>864923</td>\n",
              "      <td>22322091.0</td>\n",
              "      <td>4789835.0</td>\n",
              "    </tr>\n",
              "    <tr>\n",
              "      <th>37</th>\n",
              "      <td>29481574</td>\n",
              "      <td>900741</td>\n",
              "      <td>24104774.0</td>\n",
              "      <td>4476059.0</td>\n",
              "    </tr>\n",
              "    <tr>\n",
              "      <th>38</th>\n",
              "      <td>30956220</td>\n",
              "      <td>938116</td>\n",
              "      <td>25940898.0</td>\n",
              "      <td>4077206.0</td>\n",
              "    </tr>\n",
              "    <tr>\n",
              "      <th>39</th>\n",
              "      <td>32384492</td>\n",
              "      <td>973003</td>\n",
              "      <td>27792514.0</td>\n",
              "      <td>3618975.0</td>\n",
              "    </tr>\n",
              "    <tr>\n",
              "      <th>40</th>\n",
              "      <td>33700678</td>\n",
              "      <td>1006727</td>\n",
              "      <td>29153673.0</td>\n",
              "      <td>3540278.0</td>\n",
              "    </tr>\n",
              "    <tr>\n",
              "      <th>41</th>\n",
              "      <td>34979328</td>\n",
              "      <td>1037543</td>\n",
              "      <td>30604686.0</td>\n",
              "      <td>3337099.0</td>\n",
              "    </tr>\n",
              "    <tr>\n",
              "      <th>42</th>\n",
              "      <td>36046926</td>\n",
              "      <td>1063271</td>\n",
              "      <td>31915541.0</td>\n",
              "      <td>3068114.0</td>\n",
              "    </tr>\n",
              "    <tr>\n",
              "      <th>43</th>\n",
              "      <td>37116718</td>\n",
              "      <td>1087595</td>\n",
              "      <td>33204836.0</td>\n",
              "      <td>2824287.0</td>\n",
              "    </tr>\n",
              "    <tr>\n",
              "      <th>44</th>\n",
              "      <td>38258532</td>\n",
              "      <td>1109263</td>\n",
              "      <td>34433760.0</td>\n",
              "      <td>2715509.0</td>\n",
              "    </tr>\n",
              "    <tr>\n",
              "      <th>45</th>\n",
              "      <td>22255985</td>\n",
              "      <td>641929</td>\n",
              "      <td>20071910.0</td>\n",
              "      <td>1542146.0</td>\n",
              "    </tr>\n",
              "  </tbody>\n",
              "</table>\n",
              "</div>"
            ],
            "text/plain": [
              "         cases   deaths   recovered  monitoring\n",
              "week                                           \n",
              "9            5        0         0.0         0.0\n",
              "10          48        0         0.0         0.0\n",
              "11         432        0         0.0         0.0\n",
              "12        3806       40         0.0         0.0\n",
              "13       18306      445         0.0         0.0\n",
              "14       48630     1827         0.0         0.0\n",
              "15      111052     5627         0.0         0.0\n",
              "16      199887    12231         0.0         0.0\n",
              "17      329067    21683    178152.0    129232.0\n",
              "18      551512    38185    242881.0    270873.0\n",
              "19      885233    60470    364100.0    460660.0\n",
              "20     1351876    92634    537483.0    721762.0\n",
              "21     2046882   132846    822035.0   1091999.0\n",
              "22     2942996   179715   1196956.0   1566325.0\n",
              "23     4113604   227975   1678942.0   2206687.0\n",
              "24     5393241   277142   2300354.0   2815745.0\n",
              "25     6713095   325720   3215983.0   3171392.0\n",
              "26     8342800   376365   4471448.0   3494987.0\n",
              "27    10176075   425485   5705763.0   4044827.0\n",
              "28    12004544   476110   7065135.0   4463299.0\n",
              "29    13776559   527743   8702539.0   4546277.0\n",
              "30    15629557   579635  10558537.0   4491385.0\n",
              "31    17877386   630596  12344129.0   4902661.0\n",
              "32    20030579   680370  14031003.0   5369817.0\n",
              "33    22184799   729246  15980087.0   5475466.0\n",
              "34    24180440   777288  18114183.0   5288969.0\n",
              "35    26028142   822913  20205712.0   4999516.0\n",
              "36    27976849   864923  22322091.0   4789835.0\n",
              "37    29481574   900741  24104774.0   4476059.0\n",
              "38    30956220   938116  25940898.0   4077206.0\n",
              "39    32384492   973003  27792514.0   3618975.0\n",
              "40    33700678  1006727  29153673.0   3540278.0\n",
              "41    34979328  1037543  30604686.0   3337099.0\n",
              "42    36046926  1063271  31915541.0   3068114.0\n",
              "43    37116718  1087595  33204836.0   2824287.0\n",
              "44    38258532  1109263  34433760.0   2715509.0\n",
              "45    22255985   641929  20071910.0   1542146.0"
            ]
          },
          "metadata": {
            "tags": []
          },
          "execution_count": 20
        }
      ]
    },
    {
      "cell_type": "markdown",
      "metadata": {
        "id": "3OtRJx2dzmGZ"
      },
      "source": [
        "Podemos salvar os resultados da seleção em um novo DataFrame."
      ]
    },
    {
      "cell_type": "code",
      "metadata": {
        "id": "pGW4U8XezmSd"
      },
      "source": [
        "BrCOVID19Macro_week = BrCOVID19Macro.groupby('week').aggregate(sum)"
      ],
      "execution_count": null,
      "outputs": []
    },
    {
      "cell_type": "code",
      "metadata": {
        "colab": {
          "base_uri": "https://localhost:8080/",
          "height": 1000
        },
        "id": "yTica8rPzv09",
        "outputId": "5401274f-385a-453f-8680-eb05cfa5fa48"
      },
      "source": [
        "BrCOVID19Macro_week"
      ],
      "execution_count": null,
      "outputs": [
        {
          "output_type": "execute_result",
          "data": {
            "text/html": [
              "<div>\n",
              "<style scoped>\n",
              "    .dataframe tbody tr th:only-of-type {\n",
              "        vertical-align: middle;\n",
              "    }\n",
              "\n",
              "    .dataframe tbody tr th {\n",
              "        vertical-align: top;\n",
              "    }\n",
              "\n",
              "    .dataframe thead th {\n",
              "        text-align: right;\n",
              "    }\n",
              "</style>\n",
              "<table border=\"1\" class=\"dataframe\">\n",
              "  <thead>\n",
              "    <tr style=\"text-align: right;\">\n",
              "      <th></th>\n",
              "      <th>cases</th>\n",
              "      <th>deaths</th>\n",
              "      <th>recovered</th>\n",
              "      <th>monitoring</th>\n",
              "    </tr>\n",
              "    <tr>\n",
              "      <th>week</th>\n",
              "      <th></th>\n",
              "      <th></th>\n",
              "      <th></th>\n",
              "      <th></th>\n",
              "    </tr>\n",
              "  </thead>\n",
              "  <tbody>\n",
              "    <tr>\n",
              "      <th>9</th>\n",
              "      <td>5</td>\n",
              "      <td>0</td>\n",
              "      <td>0.0</td>\n",
              "      <td>0.0</td>\n",
              "    </tr>\n",
              "    <tr>\n",
              "      <th>10</th>\n",
              "      <td>48</td>\n",
              "      <td>0</td>\n",
              "      <td>0.0</td>\n",
              "      <td>0.0</td>\n",
              "    </tr>\n",
              "    <tr>\n",
              "      <th>11</th>\n",
              "      <td>432</td>\n",
              "      <td>0</td>\n",
              "      <td>0.0</td>\n",
              "      <td>0.0</td>\n",
              "    </tr>\n",
              "    <tr>\n",
              "      <th>12</th>\n",
              "      <td>3806</td>\n",
              "      <td>40</td>\n",
              "      <td>0.0</td>\n",
              "      <td>0.0</td>\n",
              "    </tr>\n",
              "    <tr>\n",
              "      <th>13</th>\n",
              "      <td>18306</td>\n",
              "      <td>445</td>\n",
              "      <td>0.0</td>\n",
              "      <td>0.0</td>\n",
              "    </tr>\n",
              "    <tr>\n",
              "      <th>14</th>\n",
              "      <td>48630</td>\n",
              "      <td>1827</td>\n",
              "      <td>0.0</td>\n",
              "      <td>0.0</td>\n",
              "    </tr>\n",
              "    <tr>\n",
              "      <th>15</th>\n",
              "      <td>111052</td>\n",
              "      <td>5627</td>\n",
              "      <td>0.0</td>\n",
              "      <td>0.0</td>\n",
              "    </tr>\n",
              "    <tr>\n",
              "      <th>16</th>\n",
              "      <td>199887</td>\n",
              "      <td>12231</td>\n",
              "      <td>0.0</td>\n",
              "      <td>0.0</td>\n",
              "    </tr>\n",
              "    <tr>\n",
              "      <th>17</th>\n",
              "      <td>329067</td>\n",
              "      <td>21683</td>\n",
              "      <td>178152.0</td>\n",
              "      <td>129232.0</td>\n",
              "    </tr>\n",
              "    <tr>\n",
              "      <th>18</th>\n",
              "      <td>551512</td>\n",
              "      <td>38185</td>\n",
              "      <td>242881.0</td>\n",
              "      <td>270873.0</td>\n",
              "    </tr>\n",
              "    <tr>\n",
              "      <th>19</th>\n",
              "      <td>885233</td>\n",
              "      <td>60470</td>\n",
              "      <td>364100.0</td>\n",
              "      <td>460660.0</td>\n",
              "    </tr>\n",
              "    <tr>\n",
              "      <th>20</th>\n",
              "      <td>1351876</td>\n",
              "      <td>92634</td>\n",
              "      <td>537483.0</td>\n",
              "      <td>721762.0</td>\n",
              "    </tr>\n",
              "    <tr>\n",
              "      <th>21</th>\n",
              "      <td>2046882</td>\n",
              "      <td>132846</td>\n",
              "      <td>822035.0</td>\n",
              "      <td>1091999.0</td>\n",
              "    </tr>\n",
              "    <tr>\n",
              "      <th>22</th>\n",
              "      <td>2942996</td>\n",
              "      <td>179715</td>\n",
              "      <td>1196956.0</td>\n",
              "      <td>1566325.0</td>\n",
              "    </tr>\n",
              "    <tr>\n",
              "      <th>23</th>\n",
              "      <td>4113604</td>\n",
              "      <td>227975</td>\n",
              "      <td>1678942.0</td>\n",
              "      <td>2206687.0</td>\n",
              "    </tr>\n",
              "    <tr>\n",
              "      <th>24</th>\n",
              "      <td>5393241</td>\n",
              "      <td>277142</td>\n",
              "      <td>2300354.0</td>\n",
              "      <td>2815745.0</td>\n",
              "    </tr>\n",
              "    <tr>\n",
              "      <th>25</th>\n",
              "      <td>6713095</td>\n",
              "      <td>325720</td>\n",
              "      <td>3215983.0</td>\n",
              "      <td>3171392.0</td>\n",
              "    </tr>\n",
              "    <tr>\n",
              "      <th>26</th>\n",
              "      <td>8342800</td>\n",
              "      <td>376365</td>\n",
              "      <td>4471448.0</td>\n",
              "      <td>3494987.0</td>\n",
              "    </tr>\n",
              "    <tr>\n",
              "      <th>27</th>\n",
              "      <td>10176075</td>\n",
              "      <td>425485</td>\n",
              "      <td>5705763.0</td>\n",
              "      <td>4044827.0</td>\n",
              "    </tr>\n",
              "    <tr>\n",
              "      <th>28</th>\n",
              "      <td>12004544</td>\n",
              "      <td>476110</td>\n",
              "      <td>7065135.0</td>\n",
              "      <td>4463299.0</td>\n",
              "    </tr>\n",
              "    <tr>\n",
              "      <th>29</th>\n",
              "      <td>13776559</td>\n",
              "      <td>527743</td>\n",
              "      <td>8702539.0</td>\n",
              "      <td>4546277.0</td>\n",
              "    </tr>\n",
              "    <tr>\n",
              "      <th>30</th>\n",
              "      <td>15629557</td>\n",
              "      <td>579635</td>\n",
              "      <td>10558537.0</td>\n",
              "      <td>4491385.0</td>\n",
              "    </tr>\n",
              "    <tr>\n",
              "      <th>31</th>\n",
              "      <td>17877386</td>\n",
              "      <td>630596</td>\n",
              "      <td>12344129.0</td>\n",
              "      <td>4902661.0</td>\n",
              "    </tr>\n",
              "    <tr>\n",
              "      <th>32</th>\n",
              "      <td>20030579</td>\n",
              "      <td>680370</td>\n",
              "      <td>14031003.0</td>\n",
              "      <td>5369817.0</td>\n",
              "    </tr>\n",
              "    <tr>\n",
              "      <th>33</th>\n",
              "      <td>22184799</td>\n",
              "      <td>729246</td>\n",
              "      <td>15980087.0</td>\n",
              "      <td>5475466.0</td>\n",
              "    </tr>\n",
              "    <tr>\n",
              "      <th>34</th>\n",
              "      <td>24180440</td>\n",
              "      <td>777288</td>\n",
              "      <td>18114183.0</td>\n",
              "      <td>5288969.0</td>\n",
              "    </tr>\n",
              "    <tr>\n",
              "      <th>35</th>\n",
              "      <td>26028142</td>\n",
              "      <td>822913</td>\n",
              "      <td>20205712.0</td>\n",
              "      <td>4999516.0</td>\n",
              "    </tr>\n",
              "    <tr>\n",
              "      <th>36</th>\n",
              "      <td>27976849</td>\n",
              "      <td>864923</td>\n",
              "      <td>22322091.0</td>\n",
              "      <td>4789835.0</td>\n",
              "    </tr>\n",
              "    <tr>\n",
              "      <th>37</th>\n",
              "      <td>29481574</td>\n",
              "      <td>900741</td>\n",
              "      <td>24104774.0</td>\n",
              "      <td>4476059.0</td>\n",
              "    </tr>\n",
              "    <tr>\n",
              "      <th>38</th>\n",
              "      <td>30956220</td>\n",
              "      <td>938116</td>\n",
              "      <td>25940898.0</td>\n",
              "      <td>4077206.0</td>\n",
              "    </tr>\n",
              "    <tr>\n",
              "      <th>39</th>\n",
              "      <td>32384492</td>\n",
              "      <td>973003</td>\n",
              "      <td>27792514.0</td>\n",
              "      <td>3618975.0</td>\n",
              "    </tr>\n",
              "    <tr>\n",
              "      <th>40</th>\n",
              "      <td>33700678</td>\n",
              "      <td>1006727</td>\n",
              "      <td>29153673.0</td>\n",
              "      <td>3540278.0</td>\n",
              "    </tr>\n",
              "    <tr>\n",
              "      <th>41</th>\n",
              "      <td>34979328</td>\n",
              "      <td>1037543</td>\n",
              "      <td>30604686.0</td>\n",
              "      <td>3337099.0</td>\n",
              "    </tr>\n",
              "    <tr>\n",
              "      <th>42</th>\n",
              "      <td>36046926</td>\n",
              "      <td>1063271</td>\n",
              "      <td>31915541.0</td>\n",
              "      <td>3068114.0</td>\n",
              "    </tr>\n",
              "    <tr>\n",
              "      <th>43</th>\n",
              "      <td>37116718</td>\n",
              "      <td>1087595</td>\n",
              "      <td>33204836.0</td>\n",
              "      <td>2824287.0</td>\n",
              "    </tr>\n",
              "    <tr>\n",
              "      <th>44</th>\n",
              "      <td>38258532</td>\n",
              "      <td>1109263</td>\n",
              "      <td>34433760.0</td>\n",
              "      <td>2715509.0</td>\n",
              "    </tr>\n",
              "    <tr>\n",
              "      <th>45</th>\n",
              "      <td>22255985</td>\n",
              "      <td>641929</td>\n",
              "      <td>20071910.0</td>\n",
              "      <td>1542146.0</td>\n",
              "    </tr>\n",
              "  </tbody>\n",
              "</table>\n",
              "</div>"
            ],
            "text/plain": [
              "         cases   deaths   recovered  monitoring\n",
              "week                                           \n",
              "9            5        0         0.0         0.0\n",
              "10          48        0         0.0         0.0\n",
              "11         432        0         0.0         0.0\n",
              "12        3806       40         0.0         0.0\n",
              "13       18306      445         0.0         0.0\n",
              "14       48630     1827         0.0         0.0\n",
              "15      111052     5627         0.0         0.0\n",
              "16      199887    12231         0.0         0.0\n",
              "17      329067    21683    178152.0    129232.0\n",
              "18      551512    38185    242881.0    270873.0\n",
              "19      885233    60470    364100.0    460660.0\n",
              "20     1351876    92634    537483.0    721762.0\n",
              "21     2046882   132846    822035.0   1091999.0\n",
              "22     2942996   179715   1196956.0   1566325.0\n",
              "23     4113604   227975   1678942.0   2206687.0\n",
              "24     5393241   277142   2300354.0   2815745.0\n",
              "25     6713095   325720   3215983.0   3171392.0\n",
              "26     8342800   376365   4471448.0   3494987.0\n",
              "27    10176075   425485   5705763.0   4044827.0\n",
              "28    12004544   476110   7065135.0   4463299.0\n",
              "29    13776559   527743   8702539.0   4546277.0\n",
              "30    15629557   579635  10558537.0   4491385.0\n",
              "31    17877386   630596  12344129.0   4902661.0\n",
              "32    20030579   680370  14031003.0   5369817.0\n",
              "33    22184799   729246  15980087.0   5475466.0\n",
              "34    24180440   777288  18114183.0   5288969.0\n",
              "35    26028142   822913  20205712.0   4999516.0\n",
              "36    27976849   864923  22322091.0   4789835.0\n",
              "37    29481574   900741  24104774.0   4476059.0\n",
              "38    30956220   938116  25940898.0   4077206.0\n",
              "39    32384492   973003  27792514.0   3618975.0\n",
              "40    33700678  1006727  29153673.0   3540278.0\n",
              "41    34979328  1037543  30604686.0   3337099.0\n",
              "42    36046926  1063271  31915541.0   3068114.0\n",
              "43    37116718  1087595  33204836.0   2824287.0\n",
              "44    38258532  1109263  34433760.0   2715509.0\n",
              "45    22255985   641929  20071910.0   1542146.0"
            ]
          },
          "metadata": {
            "tags": []
          },
          "execution_count": 22
        }
      ]
    },
    {
      "cell_type": "code",
      "metadata": {
        "colab": {
          "base_uri": "https://localhost:8080/",
          "height": 424
        },
        "id": "oWN7ENe0zwct",
        "outputId": "6847d65d-914d-493e-b701-63c612b9230d"
      },
      "source": [
        "BrCOVID19Macro"
      ],
      "execution_count": null,
      "outputs": [
        {
          "output_type": "execute_result",
          "data": {
            "text/html": [
              "<div>\n",
              "<style scoped>\n",
              "    .dataframe tbody tr th:only-of-type {\n",
              "        vertical-align: middle;\n",
              "    }\n",
              "\n",
              "    .dataframe tbody tr th {\n",
              "        vertical-align: top;\n",
              "    }\n",
              "\n",
              "    .dataframe thead th {\n",
              "        text-align: right;\n",
              "    }\n",
              "</style>\n",
              "<table border=\"1\" class=\"dataframe\">\n",
              "  <thead>\n",
              "    <tr style=\"text-align: right;\">\n",
              "      <th></th>\n",
              "      <th>date</th>\n",
              "      <th>country</th>\n",
              "      <th>week</th>\n",
              "      <th>cases</th>\n",
              "      <th>deaths</th>\n",
              "      <th>recovered</th>\n",
              "      <th>monitoring</th>\n",
              "    </tr>\n",
              "  </thead>\n",
              "  <tbody>\n",
              "    <tr>\n",
              "      <th>0</th>\n",
              "      <td>2020-02-25</td>\n",
              "      <td>Brasil</td>\n",
              "      <td>9</td>\n",
              "      <td>0</td>\n",
              "      <td>0</td>\n",
              "      <td>NaN</td>\n",
              "      <td>NaN</td>\n",
              "    </tr>\n",
              "    <tr>\n",
              "      <th>1</th>\n",
              "      <td>2020-02-26</td>\n",
              "      <td>Brasil</td>\n",
              "      <td>9</td>\n",
              "      <td>1</td>\n",
              "      <td>0</td>\n",
              "      <td>NaN</td>\n",
              "      <td>NaN</td>\n",
              "    </tr>\n",
              "    <tr>\n",
              "      <th>2</th>\n",
              "      <td>2020-02-27</td>\n",
              "      <td>Brasil</td>\n",
              "      <td>9</td>\n",
              "      <td>1</td>\n",
              "      <td>0</td>\n",
              "      <td>NaN</td>\n",
              "      <td>NaN</td>\n",
              "    </tr>\n",
              "    <tr>\n",
              "      <th>3</th>\n",
              "      <td>2020-02-28</td>\n",
              "      <td>Brasil</td>\n",
              "      <td>9</td>\n",
              "      <td>1</td>\n",
              "      <td>0</td>\n",
              "      <td>NaN</td>\n",
              "      <td>NaN</td>\n",
              "    </tr>\n",
              "    <tr>\n",
              "      <th>4</th>\n",
              "      <td>2020-02-29</td>\n",
              "      <td>Brasil</td>\n",
              "      <td>9</td>\n",
              "      <td>2</td>\n",
              "      <td>0</td>\n",
              "      <td>NaN</td>\n",
              "      <td>NaN</td>\n",
              "    </tr>\n",
              "    <tr>\n",
              "      <th>...</th>\n",
              "      <td>...</td>\n",
              "      <td>...</td>\n",
              "      <td>...</td>\n",
              "      <td>...</td>\n",
              "      <td>...</td>\n",
              "      <td>...</td>\n",
              "      <td>...</td>\n",
              "    </tr>\n",
              "    <tr>\n",
              "      <th>249</th>\n",
              "      <td>2020-10-31</td>\n",
              "      <td>Brasil</td>\n",
              "      <td>44</td>\n",
              "      <td>5535605</td>\n",
              "      <td>159884</td>\n",
              "      <td>4972898.0</td>\n",
              "      <td>402823.0</td>\n",
              "    </tr>\n",
              "    <tr>\n",
              "      <th>250</th>\n",
              "      <td>2020-11-01</td>\n",
              "      <td>Brasil</td>\n",
              "      <td>45</td>\n",
              "      <td>5545705</td>\n",
              "      <td>160074</td>\n",
              "      <td>4980942.0</td>\n",
              "      <td>404689.0</td>\n",
              "    </tr>\n",
              "    <tr>\n",
              "      <th>251</th>\n",
              "      <td>2020-11-02</td>\n",
              "      <td>Brasil</td>\n",
              "      <td>45</td>\n",
              "      <td>5554206</td>\n",
              "      <td>160253</td>\n",
              "      <td>4998408.0</td>\n",
              "      <td>395545.0</td>\n",
              "    </tr>\n",
              "    <tr>\n",
              "      <th>252</th>\n",
              "      <td>2020-11-03</td>\n",
              "      <td>Brasil</td>\n",
              "      <td>45</td>\n",
              "      <td>5566049</td>\n",
              "      <td>160496</td>\n",
              "      <td>5028216.0</td>\n",
              "      <td>377337.0</td>\n",
              "    </tr>\n",
              "    <tr>\n",
              "      <th>253</th>\n",
              "      <td>2020-11-04</td>\n",
              "      <td>Brasil</td>\n",
              "      <td>45</td>\n",
              "      <td>5590025</td>\n",
              "      <td>161106</td>\n",
              "      <td>5064344.0</td>\n",
              "      <td>364575.0</td>\n",
              "    </tr>\n",
              "  </tbody>\n",
              "</table>\n",
              "<p>254 rows × 7 columns</p>\n",
              "</div>"
            ],
            "text/plain": [
              "           date country  week    cases  deaths  recovered  monitoring\n",
              "0    2020-02-25  Brasil     9        0       0        NaN         NaN\n",
              "1    2020-02-26  Brasil     9        1       0        NaN         NaN\n",
              "2    2020-02-27  Brasil     9        1       0        NaN         NaN\n",
              "3    2020-02-28  Brasil     9        1       0        NaN         NaN\n",
              "4    2020-02-29  Brasil     9        2       0        NaN         NaN\n",
              "..          ...     ...   ...      ...     ...        ...         ...\n",
              "249  2020-10-31  Brasil    44  5535605  159884  4972898.0    402823.0\n",
              "250  2020-11-01  Brasil    45  5545705  160074  4980942.0    404689.0\n",
              "251  2020-11-02  Brasil    45  5554206  160253  4998408.0    395545.0\n",
              "252  2020-11-03  Brasil    45  5566049  160496  5028216.0    377337.0\n",
              "253  2020-11-04  Brasil    45  5590025  161106  5064344.0    364575.0\n",
              "\n",
              "[254 rows x 7 columns]"
            ]
          },
          "metadata": {
            "tags": []
          },
          "execution_count": 23
        }
      ]
    },
    {
      "cell_type": "code",
      "metadata": {
        "colab": {
          "base_uri": "https://localhost:8080/",
          "height": 307
        },
        "id": "IRPpLuIP0JaX",
        "outputId": "bfc3dd32-6c88-429b-a385-84fd132c6385"
      },
      "source": [
        "BrCOVID19Macro_week['cases'].plot()"
      ],
      "execution_count": null,
      "outputs": [
        {
          "output_type": "execute_result",
          "data": {
            "text/plain": [
              "<matplotlib.axes._subplots.AxesSubplot at 0x7f0e66ddcc18>"
            ]
          },
          "metadata": {
            "tags": []
          },
          "execution_count": 25
        },
        {
          "output_type": "display_data",
          "data": {
            "image/png": "[encoded data removed]",
            "text/plain": [
              "<Figure size 432x288 with 1 Axes>"
            ]
          },
          "metadata": {
            "tags": [],
            "needs_background": "light"
          }
        }
      ]
    },
    {
      "cell_type": "markdown",
      "metadata": {
        "id": "-19kUHIK0p3V"
      },
      "source": [
        "Estes resultados não fazem tanto sentido pelos seguintes motivos:\n",
        " * A última semana estamos com um número caindo de casos. Isso simplesmente porque a última semana tem um número menor de dias registrados\n",
        " * Além disso, estamos somando números que já correspondem à soma de casos (cumulativos)\n",
        " * Para obter os valores brutos de ocorrência em cada dia, teríamos que subtrair um dia do anterior e obter a variável \"novos casos\", o que daria bastante trabalho para a atividade de hoje"
      ]
    },
    {
      "cell_type": "markdown",
      "metadata": {
        "id": "h6sFi2v23Sq4"
      },
      "source": [
        "Vamos usar outros dados, para os quais faria mais sentido um agrupamento por soma. Vamos pegar os dados de população de diferentes cidades, nos estados brasileiros."
      ]
    },
    {
      "cell_type": "code",
      "metadata": {
        "colab": {
          "base_uri": "https://localhost:8080/"
        },
        "id": "yXcRjArr3SWo",
        "outputId": "75c21421-3d26-49cb-8708-8740fdb5acec"
      },
      "source": [
        "BrPopulation2019 = pd.read_csv('/content/drive/My Drive/UNICAMP/GBMeeting/Workshop de Python para GBMeeters/brazil_population_2019.csv', error_bad_lines=False)"
      ],
      "execution_count": null,
      "outputs": [
        {
          "output_type": "stream",
          "text": [
            "b'Skipping line 1282: expected 8 fields, saw 9\\nSkipping line 1283: expected 8 fields, saw 9\\nSkipping line 1293: expected 8 fields, saw 9\\nSkipping line 1294: expected 8 fields, saw 9\\nSkipping line 1300: expected 8 fields, saw 9\\nSkipping line 1308: expected 8 fields, saw 9\\nSkipping line 1309: expected 8 fields, saw 9\\nSkipping line 1314: expected 8 fields, saw 9\\nSkipping line 1319: expected 8 fields, saw 9\\nSkipping line 1320: expected 8 fields, saw 9\\nSkipping line 1321: expected 8 fields, saw 9\\nSkipping line 1323: expected 8 fields, saw 9\\n'\n"
          ],
          "name": "stderr"
        }
      ]
    },
    {
      "cell_type": "markdown",
      "metadata": {
        "id": "rxx5p6Ds4pvw"
      },
      "source": [
        "Este é o DataFrame importado:"
      ]
    },
    {
      "cell_type": "code",
      "metadata": {
        "colab": {
          "base_uri": "https://localhost:8080/",
          "height": 424
        },
        "id": "38NZypT24qAa",
        "outputId": "7d1e8a2f-6b3a-40f6-fe42-dcb6bbbd9847"
      },
      "source": [
        "BrPopulation2019"
      ],
      "execution_count": null,
      "outputs": [
        {
          "output_type": "execute_result",
          "data": {
            "text/html": [
              "<div>\n",
              "<style scoped>\n",
              "    .dataframe tbody tr th:only-of-type {\n",
              "        vertical-align: middle;\n",
              "    }\n",
              "\n",
              "    .dataframe tbody tr th {\n",
              "        vertical-align: top;\n",
              "    }\n",
              "\n",
              "    .dataframe thead th {\n",
              "        text-align: right;\n",
              "    }\n",
              "</style>\n",
              "<table border=\"1\" class=\"dataframe\">\n",
              "  <thead>\n",
              "    <tr style=\"text-align: right;\">\n",
              "      <th></th>\n",
              "      <th>region</th>\n",
              "      <th>state</th>\n",
              "      <th>city</th>\n",
              "      <th>state_code</th>\n",
              "      <th>city_code</th>\n",
              "      <th>health_region_code</th>\n",
              "      <th>health_region</th>\n",
              "      <th>population</th>\n",
              "    </tr>\n",
              "  </thead>\n",
              "  <tbody>\n",
              "    <tr>\n",
              "      <th>0</th>\n",
              "      <td>Centro-Oeste</td>\n",
              "      <td>Mato Grosso do Sul</td>\n",
              "      <td>Alcinópolis</td>\n",
              "      <td>50</td>\n",
              "      <td>500025</td>\n",
              "      <td>50001</td>\n",
              "      <td>Campo Grande</td>\n",
              "      <td>5343</td>\n",
              "    </tr>\n",
              "    <tr>\n",
              "      <th>1</th>\n",
              "      <td>Centro-Oeste</td>\n",
              "      <td>Mato Grosso do Sul</td>\n",
              "      <td>Amambai</td>\n",
              "      <td>50</td>\n",
              "      <td>500060</td>\n",
              "      <td>50003</td>\n",
              "      <td>Dourados</td>\n",
              "      <td>39396</td>\n",
              "    </tr>\n",
              "    <tr>\n",
              "      <th>2</th>\n",
              "      <td>Centro-Oeste</td>\n",
              "      <td>Mato Grosso do Sul</td>\n",
              "      <td>Bataguassu</td>\n",
              "      <td>50</td>\n",
              "      <td>500190</td>\n",
              "      <td>50004</td>\n",
              "      <td>Três Lagoas</td>\n",
              "      <td>23024</td>\n",
              "    </tr>\n",
              "    <tr>\n",
              "      <th>3</th>\n",
              "      <td>Centro-Oeste</td>\n",
              "      <td>Mato Grosso do Sul</td>\n",
              "      <td>Batayporã</td>\n",
              "      <td>50</td>\n",
              "      <td>500200</td>\n",
              "      <td>50003</td>\n",
              "      <td>Dourados</td>\n",
              "      <td>11329</td>\n",
              "    </tr>\n",
              "    <tr>\n",
              "      <th>4</th>\n",
              "      <td>Centro-Oeste</td>\n",
              "      <td>Mato Grosso do Sul</td>\n",
              "      <td>Bela Vista</td>\n",
              "      <td>50</td>\n",
              "      <td>500210</td>\n",
              "      <td>50001</td>\n",
              "      <td>Campo Grande</td>\n",
              "      <td>24629</td>\n",
              "    </tr>\n",
              "    <tr>\n",
              "      <th>...</th>\n",
              "      <td>...</td>\n",
              "      <td>...</td>\n",
              "      <td>...</td>\n",
              "      <td>...</td>\n",
              "      <td>...</td>\n",
              "      <td>...</td>\n",
              "      <td>...</td>\n",
              "      <td>...</td>\n",
              "    </tr>\n",
              "    <tr>\n",
              "      <th>2848</th>\n",
              "      <td>Sul</td>\n",
              "      <td>Rio Grande do Sul</td>\n",
              "      <td>Vila Lângaro</td>\n",
              "      <td>43</td>\n",
              "      <td>432335</td>\n",
              "      <td>43018</td>\n",
              "      <td>Região 18 - Araucárias</td>\n",
              "      <td>2091</td>\n",
              "    </tr>\n",
              "    <tr>\n",
              "      <th>2849</th>\n",
              "      <td>Sul</td>\n",
              "      <td>Rio Grande do Sul</td>\n",
              "      <td>Vila Maria</td>\n",
              "      <td>43</td>\n",
              "      <td>432340</td>\n",
              "      <td>43017</td>\n",
              "      <td>Região 17 - Planalto</td>\n",
              "      <td>4358</td>\n",
              "    </tr>\n",
              "    <tr>\n",
              "      <th>2850</th>\n",
              "      <td>Sul</td>\n",
              "      <td>Rio Grande do Sul</td>\n",
              "      <td>Vista Alegre do Prata</td>\n",
              "      <td>43</td>\n",
              "      <td>432360</td>\n",
              "      <td>43025</td>\n",
              "      <td>Região 25 - Vinhedos e Basalto</td>\n",
              "      <td>1561</td>\n",
              "    </tr>\n",
              "    <tr>\n",
              "      <th>2851</th>\n",
              "      <td>Sul</td>\n",
              "      <td>Rio Grande do Sul</td>\n",
              "      <td>Westfália</td>\n",
              "      <td>43</td>\n",
              "      <td>432377</td>\n",
              "      <td>43030</td>\n",
              "      <td>Região 30 - Vale da Luz</td>\n",
              "      <td>3014</td>\n",
              "    </tr>\n",
              "    <tr>\n",
              "      <th>2852</th>\n",
              "      <td>Sul</td>\n",
              "      <td>Rio Grande do Sul</td>\n",
              "      <td>Xangri-lá</td>\n",
              "      <td>43</td>\n",
              "      <td>432380</td>\n",
              "      <td>43004</td>\n",
              "      <td>Região 04 - Belas Praias</td>\n",
              "      <td>16408</td>\n",
              "    </tr>\n",
              "  </tbody>\n",
              "</table>\n",
              "<p>2853 rows × 8 columns</p>\n",
              "</div>"
            ],
            "text/plain": [
              "            region  ... population\n",
              "0     Centro-Oeste  ...       5343\n",
              "1     Centro-Oeste  ...      39396\n",
              "2     Centro-Oeste  ...      23024\n",
              "3     Centro-Oeste  ...      11329\n",
              "4     Centro-Oeste  ...      24629\n",
              "...            ...  ...        ...\n",
              "2848           Sul  ...       2091\n",
              "2849           Sul  ...       4358\n",
              "2850           Sul  ...       1561\n",
              "2851           Sul  ...       3014\n",
              "2852           Sul  ...      16408\n",
              "\n",
              "[2853 rows x 8 columns]"
            ]
          },
          "metadata": {
            "tags": []
          },
          "execution_count": 30
        }
      ]
    },
    {
      "cell_type": "markdown",
      "metadata": {
        "id": "2Vhf5qfa4x81"
      },
      "source": [
        ""
      ]
    },
    {
      "cell_type": "code",
      "metadata": {
        "id": "2hvIsVfb4yK1"
      },
      "source": [
        "BrPopulation2019_RegionPop = BrPopulation2019.groupby('region').aggregate(sum)"
      ],
      "execution_count": null,
      "outputs": []
    },
    {
      "cell_type": "code",
      "metadata": {
        "colab": {
          "base_uri": "https://localhost:8080/",
          "height": 238
        },
        "id": "b-uY_Mhe5Ak2",
        "outputId": "28397a53-1bc2-4afc-e733-2ebb64a6c7c4"
      },
      "source": [
        "BrPopulation2019_RegionPop"
      ],
      "execution_count": null,
      "outputs": [
        {
          "output_type": "execute_result",
          "data": {
            "text/html": [
              "<div>\n",
              "<style scoped>\n",
              "    .dataframe tbody tr th:only-of-type {\n",
              "        vertical-align: middle;\n",
              "    }\n",
              "\n",
              "    .dataframe tbody tr th {\n",
              "        vertical-align: top;\n",
              "    }\n",
              "\n",
              "    .dataframe thead th {\n",
              "        text-align: right;\n",
              "    }\n",
              "</style>\n",
              "<table border=\"1\" class=\"dataframe\">\n",
              "  <thead>\n",
              "    <tr style=\"text-align: right;\">\n",
              "      <th></th>\n",
              "      <th>state_code</th>\n",
              "      <th>city_code</th>\n",
              "      <th>health_region_code</th>\n",
              "      <th>population</th>\n",
              "    </tr>\n",
              "    <tr>\n",
              "      <th>region</th>\n",
              "      <th></th>\n",
              "      <th></th>\n",
              "      <th></th>\n",
              "      <th></th>\n",
              "    </tr>\n",
              "  </thead>\n",
              "  <tbody>\n",
              "    <tr>\n",
              "      <th>Centro-Oeste</th>\n",
              "      <td>7644</td>\n",
              "      <td>76558195</td>\n",
              "      <td>7645065</td>\n",
              "      <td>13085364</td>\n",
              "    </tr>\n",
              "    <tr>\n",
              "      <th>Nordeste</th>\n",
              "      <td>26785</td>\n",
              "      <td>268768022</td>\n",
              "      <td>26794484</td>\n",
              "      <td>48946190</td>\n",
              "    </tr>\n",
              "    <tr>\n",
              "      <th>Norte</th>\n",
              "      <td>4384</td>\n",
              "      <td>43962079</td>\n",
              "      <td>4385589</td>\n",
              "      <td>14752784</td>\n",
              "    </tr>\n",
              "    <tr>\n",
              "      <th>Sudeste</th>\n",
              "      <td>27184</td>\n",
              "      <td>273981304</td>\n",
              "      <td>27232738</td>\n",
              "      <td>80421777</td>\n",
              "    </tr>\n",
              "    <tr>\n",
              "      <th>Sul</th>\n",
              "      <td>21334</td>\n",
              "      <td>213958298</td>\n",
              "      <td>21340335</td>\n",
              "      <td>24522343</td>\n",
              "    </tr>\n",
              "  </tbody>\n",
              "</table>\n",
              "</div>"
            ],
            "text/plain": [
              "              state_code  city_code  health_region_code  population\n",
              "region                                                             \n",
              "Centro-Oeste        7644   76558195             7645065    13085364\n",
              "Nordeste           26785  268768022            26794484    48946190\n",
              "Norte               4384   43962079             4385589    14752784\n",
              "Sudeste            27184  273981304            27232738    80421777\n",
              "Sul                21334  213958298            21340335    24522343"
            ]
          },
          "metadata": {
            "tags": []
          },
          "execution_count": 32
        }
      ]
    },
    {
      "cell_type": "markdown",
      "metadata": {
        "id": "qcJGYHozvATu"
      },
      "source": [
        "Eventualmente, você vai querer renomear determinados nomes de coluna no seu DataFrame. Para isso, você pode usar um dicionário, `dict` (que vocês já viram em etapas anteriores do curso) para desempenhar esta função. Como exemplo, vamos colocar o nome de algumas colunas em Português:"
      ]
    },
    {
      "cell_type": "code",
      "metadata": {
        "id": "qouy_o1YvAfE"
      },
      "source": [
        "BrCOVID19Macro.rename(columns={\n",
        "        'country': 'país', \n",
        "        'week': 'semana'\n",
        "    }, inplace=True)"
      ],
      "execution_count": null,
      "outputs": []
    },
    {
      "cell_type": "code",
      "metadata": {
        "colab": {
          "base_uri": "https://localhost:8080/"
        },
        "id": "J5L6-OcaviTX",
        "outputId": "c5318a80-7e7e-4a12-8313-7626b7c1b64a"
      },
      "source": [
        "BrCOVID19Macro.columns"
      ],
      "execution_count": null,
      "outputs": [
        {
          "output_type": "execute_result",
          "data": {
            "text/plain": [
              "Index(['date', 'país', 'semana', 'cases', 'deaths', 'recovered', 'monitoring'], dtype='object')"
            ]
          },
          "metadata": {
            "tags": []
          },
          "execution_count": 14
        }
      ]
    },
    {
      "cell_type": "markdown",
      "metadata": {
        "id": "iLXg6aoRvhaO"
      },
      "source": [
        "Usando uma `lista`, você poderia também substituir todos os nomes de colunas de uma única vez:"
      ]
    },
    {
      "cell_type": "code",
      "metadata": {
        "id": "YWA0zSO2wTWP"
      },
      "source": [
        "BrCOVID19Macro.columns = ['data', 'país', 'semana', 'casos', 'mortes', 'recuperados', 'monitoramento']"
      ],
      "execution_count": null,
      "outputs": []
    },
    {
      "cell_type": "code",
      "metadata": {
        "colab": {
          "base_uri": "https://localhost:8080/"
        },
        "id": "uk8A66rmwigy",
        "outputId": "6a551ce7-a2fb-4d6b-e3be-6251873638f3"
      },
      "source": [
        "BrCOVID19Macro.columns"
      ],
      "execution_count": null,
      "outputs": [
        {
          "output_type": "execute_result",
          "data": {
            "text/plain": [
              "Index(['data', 'país', 'semana', 'casos', 'mortes', 'recuperados',\n",
              "       'monitoramento'],\n",
              "      dtype='object')"
            ]
          },
          "metadata": {
            "tags": []
          },
          "execution_count": 16
        }
      ]
    },
    {
      "cell_type": "markdown",
      "metadata": {
        "id": "oDeIv6XAysvg"
      },
      "source": [
        "Como podemos selecionar dados dentro de um dado DataFrame?\n",
        "Vamos começar extraindo informações de uma coluna.\n",
        "\n",
        "Podemos usar colchetes e o nome da coluna para poder extraí-la como `Series`:\n"
      ]
    },
    {
      "cell_type": "code",
      "metadata": {
        "colab": {
          "base_uri": "https://localhost:8080/"
        },
        "id": "98Cr3PAays8J",
        "outputId": "22e2378c-1b21-42be-9d37-acab3ea98a2e"
      },
      "source": [
        "BrCOVID19Macro['casos']"
      ],
      "execution_count": null,
      "outputs": [
        {
          "output_type": "execute_result",
          "data": {
            "text/plain": [
              "0            0\n",
              "1            1\n",
              "2            1\n",
              "3            1\n",
              "4            2\n",
              "        ...   \n",
              "249    5535605\n",
              "250    5545705\n",
              "251    5554206\n",
              "252    5566049\n",
              "253    5590025\n",
              "Name: casos, Length: 254, dtype: int64"
            ]
          },
          "metadata": {
            "tags": []
          },
          "execution_count": 17
        }
      ]
    },
    {
      "cell_type": "markdown",
      "metadata": {
        "id": "jrlFypsZzNdr"
      },
      "source": [
        "No entanto, é possível também extrair informações de colunas como um novo DataFrame usando uma `lista`. Usando o mesmo exemplo anterior, temos apenas um nome de coluna:"
      ]
    },
    {
      "cell_type": "code",
      "metadata": {
        "colab": {
          "base_uri": "https://localhost:8080/",
          "height": 423
        },
        "id": "NiKnqqI8zNog",
        "outputId": "65b1200d-d1cf-43e7-e2ef-a7c6c6ccb8b6"
      },
      "source": [
        "BrCOVID19Macro[['casos']]"
      ],
      "execution_count": null,
      "outputs": [
        {
          "output_type": "execute_result",
          "data": {
            "text/html": [
              "<div>\n",
              "<style scoped>\n",
              "    .dataframe tbody tr th:only-of-type {\n",
              "        vertical-align: middle;\n",
              "    }\n",
              "\n",
              "    .dataframe tbody tr th {\n",
              "        vertical-align: top;\n",
              "    }\n",
              "\n",
              "    .dataframe thead th {\n",
              "        text-align: right;\n",
              "    }\n",
              "</style>\n",
              "<table border=\"1\" class=\"dataframe\">\n",
              "  <thead>\n",
              "    <tr style=\"text-align: right;\">\n",
              "      <th></th>\n",
              "      <th>casos</th>\n",
              "    </tr>\n",
              "  </thead>\n",
              "  <tbody>\n",
              "    <tr>\n",
              "      <th>0</th>\n",
              "      <td>0</td>\n",
              "    </tr>\n",
              "    <tr>\n",
              "      <th>1</th>\n",
              "      <td>1</td>\n",
              "    </tr>\n",
              "    <tr>\n",
              "      <th>2</th>\n",
              "      <td>1</td>\n",
              "    </tr>\n",
              "    <tr>\n",
              "      <th>3</th>\n",
              "      <td>1</td>\n",
              "    </tr>\n",
              "    <tr>\n",
              "      <th>4</th>\n",
              "      <td>2</td>\n",
              "    </tr>\n",
              "    <tr>\n",
              "      <th>...</th>\n",
              "      <td>...</td>\n",
              "    </tr>\n",
              "    <tr>\n",
              "      <th>249</th>\n",
              "      <td>5535605</td>\n",
              "    </tr>\n",
              "    <tr>\n",
              "      <th>250</th>\n",
              "      <td>5545705</td>\n",
              "    </tr>\n",
              "    <tr>\n",
              "      <th>251</th>\n",
              "      <td>5554206</td>\n",
              "    </tr>\n",
              "    <tr>\n",
              "      <th>252</th>\n",
              "      <td>5566049</td>\n",
              "    </tr>\n",
              "    <tr>\n",
              "      <th>253</th>\n",
              "      <td>5590025</td>\n",
              "    </tr>\n",
              "  </tbody>\n",
              "</table>\n",
              "<p>254 rows × 1 columns</p>\n",
              "</div>"
            ],
            "text/plain": [
              "       casos\n",
              "0          0\n",
              "1          1\n",
              "2          1\n",
              "3          1\n",
              "4          2\n",
              "..       ...\n",
              "249  5535605\n",
              "250  5545705\n",
              "251  5554206\n",
              "252  5566049\n",
              "253  5590025\n",
              "\n",
              "[254 rows x 1 columns]"
            ]
          },
          "metadata": {
            "tags": []
          },
          "execution_count": 18
        }
      ]
    },
    {
      "cell_type": "code",
      "metadata": {
        "id": "XJX2U_rV_a7e",
        "colab": {
          "base_uri": "https://localhost:8080/"
        },
        "outputId": "b3b881bd-0af8-48c8-d10a-f6177e72341b"
      },
      "source": [
        "for c in BrCOVID19Macro: # c é o nome de variável a que estamos atribuindo cada uma das colunas\n",
        "  print(c)"
      ],
      "execution_count": null,
      "outputs": [
        {
          "output_type": "stream",
          "text": [
            "date\n",
            "country\n",
            "week\n",
            "cases\n",
            "deaths\n",
            "recovered\n",
            "monitoring\n"
          ],
          "name": "stdout"
        }
      ]
    },
    {
      "cell_type": "markdown",
      "metadata": {
        "id": "XoYxSBPoAqnF"
      },
      "source": [
        ""
      ]
    },
    {
      "cell_type": "code",
      "metadata": {
        "id": "Xrm5jzMQAMDE",
        "colab": {
          "base_uri": "https://localhost:8080/"
        },
        "outputId": "3e43dbc1-df31-40fd-df1e-4e1a1287c055"
      },
      "source": [
        "BrCOVID19Macro['date'].isna().mean()*100"
      ],
      "execution_count": null,
      "outputs": [
        {
          "output_type": "execute_result",
          "data": {
            "text/plain": [
              "0.0"
            ]
          },
          "metadata": {
            "tags": []
          },
          "execution_count": 36
        }
      ]
    },
    {
      "cell_type": "markdown",
      "metadata": {
        "id": "eLXghdn4AuPR"
      },
      "source": [
        ""
      ]
    },
    {
      "cell_type": "code",
      "metadata": {
        "id": "JmSKYPRJAgck",
        "colab": {
          "base_uri": "https://localhost:8080/"
        },
        "outputId": "2f31637e-6c3a-4265-c4f5-961a69dd76e9"
      },
      "source": [
        "BrCOVID19Macro['recovered'].isna().mean()*100"
      ],
      "execution_count": null,
      "outputs": [
        {
          "output_type": "execute_result",
          "data": {
            "text/plain": [
              "21.25984251968504"
            ]
          },
          "metadata": {
            "tags": []
          },
          "execution_count": 37
        }
      ]
    },
    {
      "cell_type": "markdown",
      "metadata": {
        "id": "g4Ek1zlcBB4_"
      },
      "source": [
        ""
      ]
    },
    {
      "cell_type": "code",
      "metadata": {
        "id": "VlLgk68oA_1X",
        "colab": {
          "base_uri": "https://localhost:8080/",
          "height": 269
        },
        "outputId": "bfb08ea7-04be-4d97-efa3-81fbfb749e1d"
      },
      "source": [
        "NAN = [(c, BrCOVID19Macro[c].isna().mean()*100) for c in BrCOVID19Macro]\n",
        "NAN = pd.DataFrame(NAN, columns=[\"nome_coluna\", \"porcentagem\"])\n",
        "NAN"
      ],
      "execution_count": null,
      "outputs": [
        {
          "output_type": "execute_result",
          "data": {
            "text/html": [
              "<div>\n",
              "<style scoped>\n",
              "    .dataframe tbody tr th:only-of-type {\n",
              "        vertical-align: middle;\n",
              "    }\n",
              "\n",
              "    .dataframe tbody tr th {\n",
              "        vertical-align: top;\n",
              "    }\n",
              "\n",
              "    .dataframe thead th {\n",
              "        text-align: right;\n",
              "    }\n",
              "</style>\n",
              "<table border=\"1\" class=\"dataframe\">\n",
              "  <thead>\n",
              "    <tr style=\"text-align: right;\">\n",
              "      <th></th>\n",
              "      <th>nome_coluna</th>\n",
              "      <th>porcentagem</th>\n",
              "    </tr>\n",
              "  </thead>\n",
              "  <tbody>\n",
              "    <tr>\n",
              "      <th>0</th>\n",
              "      <td>date</td>\n",
              "      <td>0.000000</td>\n",
              "    </tr>\n",
              "    <tr>\n",
              "      <th>1</th>\n",
              "      <td>country</td>\n",
              "      <td>0.000000</td>\n",
              "    </tr>\n",
              "    <tr>\n",
              "      <th>2</th>\n",
              "      <td>week</td>\n",
              "      <td>0.000000</td>\n",
              "    </tr>\n",
              "    <tr>\n",
              "      <th>3</th>\n",
              "      <td>cases</td>\n",
              "      <td>0.000000</td>\n",
              "    </tr>\n",
              "    <tr>\n",
              "      <th>4</th>\n",
              "      <td>deaths</td>\n",
              "      <td>0.000000</td>\n",
              "    </tr>\n",
              "    <tr>\n",
              "      <th>5</th>\n",
              "      <td>recovered</td>\n",
              "      <td>21.259843</td>\n",
              "    </tr>\n",
              "    <tr>\n",
              "      <th>6</th>\n",
              "      <td>monitoring</td>\n",
              "      <td>21.259843</td>\n",
              "    </tr>\n",
              "  </tbody>\n",
              "</table>\n",
              "</div>"
            ],
            "text/plain": [
              "  nome_coluna  porcentagem\n",
              "0        date     0.000000\n",
              "1     country     0.000000\n",
              "2        week     0.000000\n",
              "3       cases     0.000000\n",
              "4      deaths     0.000000\n",
              "5   recovered    21.259843\n",
              "6  monitoring    21.259843"
            ]
          },
          "metadata": {
            "tags": []
          },
          "execution_count": 38
        }
      ]
    },
    {
      "cell_type": "markdown",
      "metadata": {
        "id": "l56BY3PtDFqa"
      },
      "source": [
        "Verificando qual o tipo de dado em cada uma das colunas do nosso dataframe:"
      ]
    },
    {
      "cell_type": "code",
      "metadata": {
        "id": "GSLzovMvCuAo",
        "colab": {
          "base_uri": "https://localhost:8080/"
        },
        "outputId": "df91ee4e-1508-4c83-9541-049f9abde8d0"
      },
      "source": [
        "BrCOVID19Macro.dtypes"
      ],
      "execution_count": null,
      "outputs": [
        {
          "output_type": "execute_result",
          "data": {
            "text/plain": [
              "date           object\n",
              "country        object\n",
              "week            int64\n",
              "cases           int64\n",
              "deaths          int64\n",
              "recovered     float64\n",
              "monitoring    float64\n",
              "dtype: object"
            ]
          },
          "metadata": {
            "tags": []
          },
          "execution_count": 40
        }
      ]
    },
    {
      "cell_type": "markdown",
      "metadata": {
        "id": "GeSVRRZ5DYQB"
      },
      "source": [
        "Como exemplo de operação com series de dados em dataframe do pandas, vamos fazer alguns cálculos com os nossos dados. "
      ]
    },
    {
      "cell_type": "code",
      "metadata": {
        "id": "Ssgw8a6uDXsd"
      },
      "source": [
        "BrCOVID19Macro['active_cases'] = BrCOVID19Macro['cases'] - BrCOVID19Macro['deaths'] - BrCOVID19Macro['recovered']"
      ],
      "execution_count": null,
      "outputs": []
    },
    {
      "cell_type": "code",
      "metadata": {
        "id": "Gn62qmSsEKO1",
        "colab": {
          "base_uri": "https://localhost:8080/",
          "height": 206
        },
        "outputId": "b8575286-82df-4b37-e799-fdfd8cbf680e"
      },
      "source": [
        "BrCOVID19Macro.tail()"
      ],
      "execution_count": null,
      "outputs": [
        {
          "output_type": "execute_result",
          "data": {
            "text/html": [
              "<div>\n",
              "<style scoped>\n",
              "    .dataframe tbody tr th:only-of-type {\n",
              "        vertical-align: middle;\n",
              "    }\n",
              "\n",
              "    .dataframe tbody tr th {\n",
              "        vertical-align: top;\n",
              "    }\n",
              "\n",
              "    .dataframe thead th {\n",
              "        text-align: right;\n",
              "    }\n",
              "</style>\n",
              "<table border=\"1\" class=\"dataframe\">\n",
              "  <thead>\n",
              "    <tr style=\"text-align: right;\">\n",
              "      <th></th>\n",
              "      <th>date</th>\n",
              "      <th>country</th>\n",
              "      <th>week</th>\n",
              "      <th>cases</th>\n",
              "      <th>deaths</th>\n",
              "      <th>recovered</th>\n",
              "      <th>monitoring</th>\n",
              "      <th>active_cases</th>\n",
              "    </tr>\n",
              "  </thead>\n",
              "  <tbody>\n",
              "    <tr>\n",
              "      <th>249</th>\n",
              "      <td>2020-10-31</td>\n",
              "      <td>Brasil</td>\n",
              "      <td>44</td>\n",
              "      <td>5535605</td>\n",
              "      <td>159884</td>\n",
              "      <td>4972898.0</td>\n",
              "      <td>402823.0</td>\n",
              "      <td>402823.0</td>\n",
              "    </tr>\n",
              "    <tr>\n",
              "      <th>250</th>\n",
              "      <td>2020-11-01</td>\n",
              "      <td>Brasil</td>\n",
              "      <td>45</td>\n",
              "      <td>5545705</td>\n",
              "      <td>160074</td>\n",
              "      <td>4980942.0</td>\n",
              "      <td>404689.0</td>\n",
              "      <td>404689.0</td>\n",
              "    </tr>\n",
              "    <tr>\n",
              "      <th>251</th>\n",
              "      <td>2020-11-02</td>\n",
              "      <td>Brasil</td>\n",
              "      <td>45</td>\n",
              "      <td>5554206</td>\n",
              "      <td>160253</td>\n",
              "      <td>4998408.0</td>\n",
              "      <td>395545.0</td>\n",
              "      <td>395545.0</td>\n",
              "    </tr>\n",
              "    <tr>\n",
              "      <th>252</th>\n",
              "      <td>2020-11-03</td>\n",
              "      <td>Brasil</td>\n",
              "      <td>45</td>\n",
              "      <td>5566049</td>\n",
              "      <td>160496</td>\n",
              "      <td>5028216.0</td>\n",
              "      <td>377337.0</td>\n",
              "      <td>377337.0</td>\n",
              "    </tr>\n",
              "    <tr>\n",
              "      <th>253</th>\n",
              "      <td>2020-11-04</td>\n",
              "      <td>Brasil</td>\n",
              "      <td>45</td>\n",
              "      <td>5590025</td>\n",
              "      <td>161106</td>\n",
              "      <td>5064344.0</td>\n",
              "      <td>364575.0</td>\n",
              "      <td>364575.0</td>\n",
              "    </tr>\n",
              "  </tbody>\n",
              "</table>\n",
              "</div>"
            ],
            "text/plain": [
              "           date country  week  ...  recovered  monitoring  active_cases\n",
              "249  2020-10-31  Brasil    44  ...  4972898.0    402823.0      402823.0\n",
              "250  2020-11-01  Brasil    45  ...  4980942.0    404689.0      404689.0\n",
              "251  2020-11-02  Brasil    45  ...  4998408.0    395545.0      395545.0\n",
              "252  2020-11-03  Brasil    45  ...  5028216.0    377337.0      377337.0\n",
              "253  2020-11-04  Brasil    45  ...  5064344.0    364575.0      364575.0\n",
              "\n",
              "[5 rows x 8 columns]"
            ]
          },
          "metadata": {
            "tags": []
          },
          "execution_count": 43
        }
      ]
    },
    {
      "cell_type": "markdown",
      "metadata": {
        "id": "qTdlYkUii2Y7"
      },
      "source": [
        "## Algumas referências adicionais\n",
        "\n",
        " * https://www.learndatasci.com/tutorials/python-pandas-tutorial-complete-introduction-for-beginners/\n",
        "\n",
        " * McKinney, Wes. Python for data analysis: Data wrangling with Pandas, NumPy, and IPython. \" O'Reilly Media, Inc.\", 2012."
      ]
    }
  ]
}